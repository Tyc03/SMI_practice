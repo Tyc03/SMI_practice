{
 "cells": [
  {
   "cell_type": "code",
   "execution_count": 1,
   "id": "01aba6a2-e6ab-4c8e-9b0f-edcf5727f931",
   "metadata": {},
   "outputs": [
    {
     "ename": "NameError",
     "evalue": "name 'anndata' is not defined",
     "output_type": "error",
     "traceback": [
      "\u001b[0;31m---------------------------------------------------------------------------\u001b[0m",
      "\u001b[0;31mNameError\u001b[0m                                 Traceback (most recent call last)",
      "Cell \u001b[0;32mIn[1], line 1\u001b[0m\n\u001b[0;32m----> 1\u001b[0m \u001b[43manndata\u001b[49m\n",
      "\u001b[0;31mNameError\u001b[0m: name 'anndata' is not defined"
     ]
    }
   ],
   "source": [
    "anndata"
   ]
  },
  {
   "cell_type": "code",
   "execution_count": 2,
   "id": "0e7748b7-7cb7-4f20-a497-9df8ab47a166",
   "metadata": {},
   "outputs": [
    {
     "ename": "ValueError",
     "evalue": "The python kernel does not appear to be a conda environment.  Please use ``%pip install`` instead.",
     "output_type": "error",
     "traceback": [
      "\u001b[0;31m---------------------------------------------------------------------------\u001b[0m",
      "\u001b[0;31mValueError\u001b[0m                                Traceback (most recent call last)",
      "Cell \u001b[0;32mIn[2], line 1\u001b[0m\n\u001b[0;32m----> 1\u001b[0m \u001b[43mget_ipython\u001b[49m\u001b[43m(\u001b[49m\u001b[43m)\u001b[49m\u001b[38;5;241;43m.\u001b[39;49m\u001b[43mrun_line_magic\u001b[49m\u001b[43m(\u001b[49m\u001b[38;5;124;43m'\u001b[39;49m\u001b[38;5;124;43mconda\u001b[39;49m\u001b[38;5;124;43m'\u001b[39;49m\u001b[43m,\u001b[49m\u001b[43m \u001b[49m\u001b[38;5;124;43m'\u001b[39;49m\u001b[38;5;124;43m'\u001b[39;49m\u001b[43m)\u001b[49m\n",
      "File \u001b[0;32m/usr/local/lib/python3.8/dist-packages/IPython/core/interactiveshell.py:2417\u001b[0m, in \u001b[0;36mInteractiveShell.run_line_magic\u001b[0;34m(self, magic_name, line, _stack_depth)\u001b[0m\n\u001b[1;32m   2415\u001b[0m     kwargs[\u001b[38;5;124m'\u001b[39m\u001b[38;5;124mlocal_ns\u001b[39m\u001b[38;5;124m'\u001b[39m] \u001b[38;5;241m=\u001b[39m \u001b[38;5;28mself\u001b[39m\u001b[38;5;241m.\u001b[39mget_local_scope(stack_depth)\n\u001b[1;32m   2416\u001b[0m \u001b[38;5;28;01mwith\u001b[39;00m \u001b[38;5;28mself\u001b[39m\u001b[38;5;241m.\u001b[39mbuiltin_trap:\n\u001b[0;32m-> 2417\u001b[0m     result \u001b[38;5;241m=\u001b[39m \u001b[43mfn\u001b[49m\u001b[43m(\u001b[49m\u001b[38;5;241;43m*\u001b[39;49m\u001b[43margs\u001b[49m\u001b[43m,\u001b[49m\u001b[43m \u001b[49m\u001b[38;5;241;43m*\u001b[39;49m\u001b[38;5;241;43m*\u001b[39;49m\u001b[43mkwargs\u001b[49m\u001b[43m)\u001b[49m\n\u001b[1;32m   2419\u001b[0m \u001b[38;5;66;03m# The code below prevents the output from being displayed\u001b[39;00m\n\u001b[1;32m   2420\u001b[0m \u001b[38;5;66;03m# when using magics with decodator @output_can_be_silenced\u001b[39;00m\n\u001b[1;32m   2421\u001b[0m \u001b[38;5;66;03m# when the last Python token in the expression is a ';'.\u001b[39;00m\n\u001b[1;32m   2422\u001b[0m \u001b[38;5;28;01mif\u001b[39;00m \u001b[38;5;28mgetattr\u001b[39m(fn, magic\u001b[38;5;241m.\u001b[39mMAGIC_OUTPUT_CAN_BE_SILENCED, \u001b[38;5;28;01mFalse\u001b[39;00m):\n",
      "File \u001b[0;32m/usr/local/lib/python3.8/dist-packages/IPython/core/magics/packaging.py:87\u001b[0m, in \u001b[0;36mPackagingMagics.conda\u001b[0;34m(self, line)\u001b[0m\n\u001b[1;32m     81\u001b[0m \u001b[38;5;250m\u001b[39m\u001b[38;5;124;03m\"\"\"Run the conda package manager within the current kernel.\u001b[39;00m\n\u001b[1;32m     82\u001b[0m \n\u001b[1;32m     83\u001b[0m \u001b[38;5;124;03mUsage:\u001b[39;00m\n\u001b[1;32m     84\u001b[0m \u001b[38;5;124;03m  %conda install [pkgs]\u001b[39;00m\n\u001b[1;32m     85\u001b[0m \u001b[38;5;124;03m\"\"\"\u001b[39;00m\n\u001b[1;32m     86\u001b[0m \u001b[38;5;28;01mif\u001b[39;00m \u001b[38;5;129;01mnot\u001b[39;00m _is_conda_environment():\n\u001b[0;32m---> 87\u001b[0m     \u001b[38;5;28;01mraise\u001b[39;00m \u001b[38;5;167;01mValueError\u001b[39;00m(\u001b[38;5;124m\"\u001b[39m\u001b[38;5;124mThe python kernel does not appear to be a conda environment.  \u001b[39m\u001b[38;5;124m\"\u001b[39m\n\u001b[1;32m     88\u001b[0m                      \u001b[38;5;124m\"\u001b[39m\u001b[38;5;124mPlease use ``\u001b[39m\u001b[38;5;124m%\u001b[39m\u001b[38;5;124mpip install`` instead.\u001b[39m\u001b[38;5;124m\"\u001b[39m)\n\u001b[1;32m     90\u001b[0m conda \u001b[38;5;241m=\u001b[39m _get_conda_executable()\n\u001b[1;32m     91\u001b[0m args \u001b[38;5;241m=\u001b[39m shlex\u001b[38;5;241m.\u001b[39msplit(line)\n",
      "\u001b[0;31mValueError\u001b[0m: The python kernel does not appear to be a conda environment.  Please use ``%pip install`` instead."
     ]
    }
   ],
   "source": [
    "conda"
   ]
  },
  {
   "cell_type": "code",
   "execution_count": 3,
   "id": "ccbacd5c-2f2b-4582-ba78-d8101c19beb5",
   "metadata": {},
   "outputs": [],
   "source": [
    "import numpy as np\n",
    "import pandas as pd\n",
    "import anndata as ad\n",
    "from string import ascii_uppercase\n",
    "\n",
    "# 设置观测值数量\n",
    "n_obs = 1000\n",
    "# 生成观察时间\n",
    "obs = pd.DataFrame()\n",
    "obs['time'] = np.random.choice(['day 1', 'day 2', 'day 4', 'day 8'], n_obs)\n",
    "# 设置特征名\n",
    "var_names = [i*letter for i in range(1, 10) for letter in ascii_uppercase]\n",
    "# 特征数量\n",
    "n_vars = len(var_names)\n",
    "# 特征注释数据框\n",
    "var = pd.DataFrame(index=var_names)\n",
    "# 生成数据矩阵\n",
    "X = np.arange(n_obs*n_vars).reshape(n_obs, n_vars)"
   ]
  },
  {
   "cell_type": "code",
   "execution_count": 4,
   "id": "1fe15e99-0651-4fa1-9586-f640816fd388",
   "metadata": {},
   "outputs": [
    {
     "name": "stdout",
     "output_type": "stream",
     "text": [
      "AnnData object with n_obs × n_vars = 1000 × 234\n",
      "    obs: 'time'\n"
     ]
    },
    {
     "name": "stderr",
     "output_type": "stream",
     "text": [
      "/usr/local/lib/python3.8/dist-packages/anndata/_core/anndata.py:121: ImplicitModificationWarning: Transforming to str index.\n",
      "  warnings.warn(\"Transforming to str index.\", ImplicitModificationWarning)\n"
     ]
    }
   ],
   "source": [
    "# 初始化 AnnoData 对象\n",
    "# AnnoData 对象默认使用数据类型为 `float32`, 可以更精确的存储数据\n",
    "# 这里设置为整数，为了演示方便\n",
    "adata = ad.AnnData(X, obs=obs, var=var, dtype='int32')\n",
    "# 一般默认将变量或特征存储在数据框的行\n",
    "# 查看数据\n",
    "print(adata)"
   ]
  },
  {
   "cell_type": "code",
   "execution_count": 5,
   "id": "33c39c8d-c69d-4574-9116-1e90d7733f44",
   "metadata": {},
   "outputs": [
    {
     "name": "stdout",
     "output_type": "stream",
     "text": [
      "['0', '1', '2', '3', '4', '5', '6', '7', '8', '9']\n",
      "['990', '991', '992', '993', '994', '995', '996', '997', '998', '999']\n",
      "['A', 'B', 'C', 'D', 'E', 'F', 'G', 'H', 'I', 'J']\n",
      "['QQQQQQQQQ', 'RRRRRRRRR', 'SSSSSSSSS', 'TTTTTTTTT', 'UUUUUUUUU', 'VVVVVVVVV', 'WWWWWWWWW', 'XXXXXXXXX', 'YYYYYYYYY', 'ZZZZZZZZZ']\n",
      "[[     0      1      2 ...    231    232    233]\n",
      " [   234    235    236 ...    465    466    467]\n",
      " [   468    469    470 ...    699    700    701]\n",
      " ...\n",
      " [233298 233299 233300 ... 233529 233530 233531]\n",
      " [233532 233533 233534 ... 233763 233764 233765]\n",
      " [233766 233767 233768 ... 233997 233998 233999]]\n"
     ]
    }
   ],
   "source": [
    "# 通过切片查看观测值和变量\n",
    "print(adata.obs_names[:10].tolist())\n",
    "print(adata.obs_names[-10:].tolist())\n",
    "print(adata.var_names[:10].tolist())\n",
    "print(adata.var_names[-10:].tolist())\n",
    "# 查看矩阵\n",
    "print(X)"
   ]
  },
  {
   "cell_type": "code",
   "execution_count": 6,
   "id": "d0a35724-9ce6-4905-9a2c-6df40fbf4219",
   "metadata": {},
   "outputs": [
    {
     "name": "stdout",
     "output_type": "stream",
     "text": [
      "[[  0]\n",
      " [234]\n",
      " [468]]\n",
      "[[  0]\n",
      " [  0]\n",
      " [  0]\n",
      " [702]\n",
      " [936]]\n"
     ]
    }
   ],
   "source": [
    "# 查看 'A' 列的头三个元素\n",
    "print(adata[:3, 'A'].X)\n",
    "# 设置 'A' 列的头三个元素\n",
    "adata[:3, 'A'].X = [0, 0, 0]\n",
    "# 查看 'A' 列的头五个元素\n",
    "print(adata[:5, 'A'].X)"
   ]
  },
  {
   "cell_type": "code",
   "execution_count": 7,
   "id": "3a58350f-eccc-4df3-a5b2-3ad75351d7be",
   "metadata": {},
   "outputs": [
    {
     "name": "stdout",
     "output_type": "stream",
     "text": [
      "View of AnnData object with n_obs × n_vars = 5 × 2\n",
      "    obs: 'time'\n"
     ]
    },
    {
     "name": "stderr",
     "output_type": "stream",
     "text": [
      "/tmp/ipykernel_1918/1486464727.py:3: ImplicitModificationWarning: Trying to modify attribute `.obs` of view, initializing view as actual.\n",
      "  adata_subset.obs['foo'] = range(5)\n"
     ]
    }
   ],
   "source": [
    "adata_subset = adata[:5, ['A', 'B']]\n",
    "print(adata_subset)\n",
    "adata_subset.obs['foo'] = range(5)"
   ]
  },
  {
   "cell_type": "code",
   "execution_count": 8,
   "id": "acb2bb3f-22b5-4b08-8aa1-ec48312ec7d9",
   "metadata": {},
   "outputs": [
    {
     "ename": "NameError",
     "evalue": "name 'filename' is not defined",
     "output_type": "error",
     "traceback": [
      "\u001b[0;31m---------------------------------------------------------------------------\u001b[0m",
      "\u001b[0;31mNameError\u001b[0m                                 Traceback (most recent call last)",
      "Cell \u001b[0;32mIn[8], line 5\u001b[0m\n\u001b[1;32m      2\u001b[0m \u001b[38;5;28;01mimport\u001b[39;00m \u001b[38;5;21;01mpandas\u001b[39;00m \u001b[38;5;28;01mas\u001b[39;00m \u001b[38;5;21;01mpd\u001b[39;00m\n\u001b[1;32m      4\u001b[0m \u001b[38;5;66;03m# 初始化数据\u001b[39;00m\n\u001b[0;32m----> 5\u001b[0m adata \u001b[38;5;241m=\u001b[39m sc\u001b[38;5;241m.\u001b[39mread(\u001b[43mfilename\u001b[49m)\n\u001b[1;32m      6\u001b[0m \u001b[38;5;66;03m# 加入数据\u001b[39;00m\n\u001b[1;32m      7\u001b[0m anno \u001b[38;5;241m=\u001b[39m pd\u001b[38;5;241m.\u001b[39mread_csv(filename_sample_annotation)\n",
      "\u001b[0;31mNameError\u001b[0m: name 'filename' is not defined"
     ]
    }
   ],
   "source": [
    "import scanpy as sc\n",
    "import pandas as pd\n",
    "\n",
    "# 初始化数据\n",
    "adata = sc.read(filename)\n",
    "# 加入数据\n",
    "anno = pd.read_csv(filename_sample_annotation)\n",
    "# 加入样本分组信息\n",
    "adata.obs['cell_groups'] = anno['cell_groups']  # categorical annotation of type pandas.Categorical\n",
    "# 加入时间信息\n",
    "adata.obs['time'] = anno['time']                # numerical annotation of type float\n",
    "# 甚至可以直接赋值 dataframe\n",
    "adata.obs = anno"
   ]
  },
  {
   "cell_type": "code",
   "execution_count": 9,
   "id": "18cd8a30-e478-443e-a67c-2213664b7eb2",
   "metadata": {},
   "outputs": [
    {
     "name": "stdout",
     "output_type": "stream",
     "text": [
      "AnnData object with n_obs × n_vars = 1000 × 234\n",
      "    obs: 'time'\n"
     ]
    }
   ],
   "source": [
    "print(adata)"
   ]
  },
  {
   "cell_type": "code",
   "execution_count": 10,
   "id": "c26f4597-017f-4d6c-85cc-599e438f97a1",
   "metadata": {},
   "outputs": [],
   "source": [
    "import anndata"
   ]
  },
  {
   "cell_type": "code",
   "execution_count": 11,
   "id": "d2355681-abc7-4e5f-98ae-3c9880956459",
   "metadata": {},
   "outputs": [],
   "source": [
    "import pandas as pd"
   ]
  },
  {
   "cell_type": "code",
   "execution_count": 14,
   "id": "85f46ebb-94d8-419a-b2f2-86c413a34baa",
   "metadata": {},
   "outputs": [
    {
     "data": {
      "text/plain": [
       "'/root/notebooks'"
      ]
     },
     "execution_count": 14,
     "metadata": {},
     "output_type": "execute_result"
    }
   ],
   "source": [
    "pwd"
   ]
  },
  {
   "cell_type": "code",
   "execution_count": 16,
   "id": "ff09476d-d70e-4f09-ad6b-5b656482997e",
   "metadata": {},
   "outputs": [
    {
     "name": "stdout",
     "output_type": "stream",
     "text": [
      "total 14143200\n",
      "drwxrwxrwx 1 22954 5000        4096 Apr 15 17:31 \u001b[0m\u001b[34;42m.\u001b[0m/\n",
      "drwx------ 1 root  root        4096 Apr 11 16:52 \u001b[01;34m..\u001b[0m/\n",
      "drwxr-xr-x 1 root  root        4096 Apr 15 17:15 \u001b[01;34m.ipynb_checkpoints\u001b[0m/\n",
      "drwxr-xr-x 1 root  root        4096 Apr 15 16:50 \u001b[01;34m.virtual_documents\u001b[0m/\n",
      "-rw-r--r-- 1 root  root       40492 Apr 12 15:22 Untitled.ipynb\n",
      "-rw-r--r-- 1 root  root       13442 Apr 15 17:31 practice.ipynb\n",
      "-rw-r--r-- 1 22954 5000 14482560400 Apr 15 17:16 raw.cluster.h5ad\n"
     ]
    }
   ],
   "source": [
    "ls -la"
   ]
  },
  {
   "cell_type": "code",
   "execution_count": null,
   "id": "a226ff3c-a4d8-4c21-984c-0fafd9058af0",
   "metadata": {},
   "outputs": [],
   "source": []
  },
  {
   "cell_type": "code",
   "execution_count": null,
   "id": "f6b0453b-c79d-42fc-a2fb-cd7c2f3d4ea0",
   "metadata": {},
   "outputs": [],
   "source": []
  }
 ],
 "metadata": {
  "kernelspec": {
   "display_name": "Python 3 (ipykernel)",
   "language": "python",
   "name": "python3"
  },
  "language_info": {
   "codemirror_mode": {
    "name": "ipython",
    "version": 3
   },
   "file_extension": ".py",
   "mimetype": "text/x-python",
   "name": "python",
   "nbconvert_exporter": "python",
   "pygments_lexer": "ipython3",
   "version": "3.8.10"
  }
 },
 "nbformat": 4,
 "nbformat_minor": 5
}
