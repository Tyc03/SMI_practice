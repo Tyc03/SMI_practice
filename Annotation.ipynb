{
 "cells": [
  {
   "cell_type": "code",
   "execution_count": null,
   "id": "5ea466a3-a646-4441-a571-61c78bf6a6d1",
   "metadata": {},
   "outputs": [],
   "source": [
    "#                                             Annotation"
   ]
  },
  {
   "cell_type": "code",
   "execution_count": 1,
   "id": "396e5ead-ca3a-4f12-97ed-15f9d16ef790",
   "metadata": {},
   "outputs": [
    {
     "name": "stdout",
     "output_type": "stream",
     "text": [
      "\n",
      "   ____            _     _    __                  \n",
      "  / __ \\____ ___  (_)___| |  / /__  _____________ \n",
      " / / / / __ `__ \\/ / ___/ | / / _ \\/ ___/ ___/ _ \\ \n",
      "/ /_/ / / / / / / / /__ | |/ /  __/ /  (__  )  __/ \n",
      "\\____/_/ /_/ /_/_/\\___/ |___/\\___/_/  /____/\\___/                                              \n",
      "\n",
      "Version: 1.5.8, Tutorials: https://omicverse.readthedocs.io/\n",
      "omicverse version:1.5.8\n",
      "scanpy version:1.9.6\n"
     ]
    }
   ],
   "source": [
    "import omicverse as ov\n",
    "print(f'omicverse version:{ov.__version__}')\n",
    "import scanpy as sc\n",
    "print(f'scanpy version:{sc.__version__}')\n",
    "ov.ov_plot_set()"
   ]
  },
  {
   "cell_type": "code",
   "execution_count": 2,
   "id": "cb3f91fb-c417-4990-9f71-51e71eb603c6",
   "metadata": {},
   "outputs": [],
   "source": [
    "adata = sc.read_h5ad(\"filtered_300adata.h5ad\")"
   ]
  },
  {
   "cell_type": "code",
   "execution_count": null,
   "id": "10c04969-b7cf-4d9a-a598-ee98d0725599",
   "metadata": {
    "jupyter": {
     "source_hidden": true
    }
   },
   "outputs": [],
   "source": [
    "#adata=ov.single.scanpy_lazy(adata)\n",
    "\n",
    "#quantity control\n",
    "adata=ov.pp.qc(adata,\n",
    "              tresh={'mito_perc': 0.05, 'nUMIs': 500, 'detected_genes': 250})\n",
    "#normalize and high variable genes (HVGs) calculated\n",
    "adata=ov.pp.preprocess(adata,mode='shiftlog|pearson',n_HVGs=2000,)\n",
    "\n",
    "#save the whole genes and filter the non-HVGs\n",
    "adata.raw = adata0\n",
    "adata = adata[:, adata.var.highly_variable_features]\n",
    "\n",
    "#scale the adata.X\n",
    "ov.pp.scale(adata)\n",
    "\n",
    "#Dimensionality Reduction\n",
    "ov.pp.pca(adata,layer='scaled',n_pcs=50)\n",
    "\n",
    "#Neighbourhood graph construction\n",
    "sc.pp.neighbors(adata, n_neighbors=15, n_pcs=50,\n",
    "               use_rep='scaled|original|X_pca')\n",
    "\n",
    "#clusters\n",
    "sc.tl.leiden(adata)\n",
    "\n",
    "#Dimensionality Reduction for visualization(X_mde=X_umap+GPU)\n",
    "adata.obsm[\"X_mde\"] = ov.utils.mde(adata.obsm[\"scaled|original|X_pca\"])\n",
    "adata"
   ]
  },
  {
   "cell_type": "code",
   "execution_count": 3,
   "id": "54d2d01c-a6ef-432d-836e-ca5dfe21a71f",
   "metadata": {},
   "outputs": [
    {
     "name": "stdout",
     "output_type": "stream",
     "text": [
      "filtered out 72998 cells that have less than 200 genes expressed\n",
      "Running Scrublet\n",
      "normalizing counts per cell\n",
      "    finished (0:00:00)\n",
      "WARNING: adata.X seems to be already log-transformed.\n",
      "extracting highly variable genes\n",
      "    finished (0:00:05)\n",
      "--> added\n",
      "    'highly_variable', boolean vector (adata.var)\n",
      "    'means', float vector (adata.var)\n",
      "    'dispersions', float vector (adata.var)\n",
      "    'dispersions_norm', float vector (adata.var)\n",
      "normalizing counts per cell\n",
      "    finished (0:00:00)\n",
      "normalizing counts per cell\n",
      "    finished (0:00:00)\n",
      "Embedding transcriptomes using PCA...\n",
      "Automatically set threshold at doublet score = 0.71\n",
      "Detected doublet rate = 0.1%\n",
      "Estimated detectable doublet fraction = 24.1%\n",
      "Overall doublet rate:\n",
      "\tExpected   = 5.0%\n",
      "\tEstimated  = 0.3%\n",
      "    Scrublet finished (0:02:10)\n",
      "normalizing counts per cell\n",
      "    finished (0:00:00)\n",
      "WARNING: adata.X seems to be already log-transformed.\n",
      "extracting highly variable genes\n",
      "    finished (0:00:00)\n",
      "--> added\n",
      "    'highly_variable', boolean vector (adata.var)\n",
      "    'means', float vector (adata.var)\n",
      "    'dispersions', float vector (adata.var)\n",
      "    'dispersions_norm', float vector (adata.var)\n",
      "... as `zero_center=True`, sparse input is densified and may lead to large memory consumption\n",
      "computing PCA\n",
      "Note that scikit-learn's randomized PCA might not be exactly reproducible across different computational platforms. For exact reproducibility, choose `svd_solver='arpack'.`\n",
      "    on highly variable genes\n",
      "    with n_comps=100\n",
      "    finished (0:00:17)\n",
      "computing neighbors\n",
      "    using 'X_pca' with n_pcs = 50\n",
      "    finished: added to `.uns['neighbors']`\n",
      "    `.obsp['distances']`, distances for each pair of neighbors\n",
      "    `.obsp['connectivities']`, weighted adjacency matrix (0:01:46)\n",
      "running Leiden clustering\n",
      "    finished: found 11 clusters and added\n",
      "    'leiden', the cluster labels (adata.obs, categorical) (0:01:49)\n",
      "running PAGA\n",
      "    finished: added\n",
      "    'paga/connectivities', connectivities adjacency (adata.uns)\n",
      "    'paga/connectivities_tree', connectivities subtree (adata.uns) (0:00:01)\n",
      "--> added 'pos', the PAGA positions (adata.uns['paga'])\n",
      "computing UMAP\n",
      "    finished: added\n",
      "    'X_umap', UMAP coordinates (adata.obsm) (0:00:46)\n"
     ]
    }
   ],
   "source": [
    "adata=ov.single.scanpy_lazy(adata)"
   ]
  },
  {
   "cell_type": "code",
   "execution_count": null,
   "id": "e46e1e49-f339-425b-ba86-791f7c2a0b7c",
   "metadata": {},
   "outputs": [],
   "source": [
    "\"\"\"\n",
    "## 一步部署\n",
    "#adata=ov.single.scanpy_lazy(adata)\n",
    "\n",
    "# 质控\n",
    "adata=ov.pp.qc(adata,\n",
    "              tresh={'mito_perc': 0.05, 'nUMIs': 500, 'detected_genes': 250})   ##阈值条件\n",
    "\n",
    "# normalize and high variable genes (HVGs)\n",
    "adata=ov.pp.preprocess(adata,mode='shiftlog|pearson',n_HVGs=2000,)  ##选取2000个HVGs\n",
    "\n",
    "# 保存原始数据，并且提取HVGs\n",
    "adata.raw = adata\n",
    "adata = adata[:, adata.var.highly_variable_features]\n",
    "\n",
    "# scale化\n",
    "ov.pp.scale(adata)\n",
    "\n",
    "# 降低维度\n",
    "ov.pp.pca(adata,layer='scaled',n_pcs=50)\n",
    "\n",
    "#Neighbourhood graph construction ## 领域可视化\n",
    "sc.pp.neighbors(adata, n_neighbors=15, n_pcs=50,\n",
    "               use_rep='scaled|original|X_pca')     \n",
    "use_rep：指定使用哪个嵌入向量或矩阵来计算细胞间的距离。\n",
    "\n",
    "这里有三种选项：\n",
    "•'scaled'：使用经过归一化或标准化处理的原始表达矩阵。\n",
    "•'original'：使用未经PCA变换的原始表达矩阵。\n",
    "•'X_pca'：使用先前计算好的PCA降维后的数据。\n",
    "\n",
    "\n",
    "\n",
    "#clusters  聚类\n",
    "sc.tl.leiden(adata)\n",
    "\n",
    "#Dimensionality Reduction for visualization(X_mde=X_umap+GPU)   可视化降维\n",
    "adata.obsm[\"X_mde\"] = ov.utils.mde(adata.obsm[\"scaled|original|X_pca\"])\n",
    "adata\n",
    "\"\"\""
   ]
  },
  {
   "cell_type": "code",
   "execution_count": 4,
   "id": "81d7887b-96b1-458e-9bc5-b46345d6a3d0",
   "metadata": {},
   "outputs": [
    {
     "data": {
      "text/plain": [
       "AnnData object with n_obs × n_vars = 46672 × 197\n",
       "    obs: 'fov', 'Area', 'AspectRatio', 'Width', 'Height', 'Mean.PanCK', 'Max.PanCK', 'Mean.CD68', 'Max.CD68', 'Mean.Membrane', 'Max.Membrane', 'Mean.CD45', 'Max.CD45', 'Mean.DAPI', 'Max.DAPI', 'cell_id', 'assay_type', 'version', 'Run_Tissue_name', 'Panel', 'slide_ID_numeric', 'cell_ID', 'unassignedTranscripts', 'nCount_RNA', 'nFeature_RNA', 'nCount_negprobes', 'nFeature_negprobes', 'nCount_falsecode', 'nFeature_falsecode', 'Area.um2', 'x_FOV_px', 'y_FOV_px', 'x_slide_mm', 'y_slide_mm', 'sample', 'leiden', 'n_genes', 'doublet_score', 'predicted_doublet', 'n_genes_by_counts', 'total_counts', 'total_counts_mt', 'pct_counts_mt'\n",
       "    var: 'DisplayName', 'Barcode', 'CodeClass', 'ProbeID', 'n_cells', 'mt', 'n_cells_by_counts', 'mean_counts', 'pct_dropout_by_counts', 'total_counts', 'highly_variable', 'means', 'dispersions', 'dispersions_norm', 'mean', 'std'\n",
       "    uns: 'leiden', 'log1p', 'neighbors', 'scaled|original|cum_sum_eigenvalues', 'scaled|original|pca_var_ratios', 'umap', 'scrublet', 'hvg', 'pca', 'paga', 'leiden_sizes'\n",
       "    obsm: 'X_harmony', 'X_pca', 'X_umap', 'scaled|original|X_pca', 'spatial'\n",
       "    varm: 'scaled|original|pca_loadings', 'PCs'\n",
       "    layers: 'counts', 'lognorm', 'scaled'\n",
       "    obsp: 'connectivities', 'distances'"
      ]
     },
     "execution_count": 4,
     "metadata": {},
     "output_type": "execute_result"
    }
   ],
   "source": [
    "adata"
   ]
  },
  {
   "cell_type": "code",
   "execution_count": 30,
   "id": "ebdfe44f-7429-4bcd-b960-e7a5f8c959e1",
   "metadata": {},
   "outputs": [],
   "source": [
    "## 注意：需要先下载“pySCSA_2023_v2_plus.db”这个数据库，然后\n",
    "scsa=ov.single.pySCSA(adata=adata,\n",
    "                      foldchange=1.5,\n",
    "                      pvalue=0.01,\n",
    "                      celltype='normal',\n",
    "                      target='cellmarker',\n",
    "                      tissue='All',\n",
    "                      model_path='temp/pySCSA_2023_v2_plus.db' )"
   ]
  },
  {
   "cell_type": "code",
   "execution_count": 12,
   "id": "c9029de3-3e97-4a1b-b0c4-c8eacc3bd1e5",
   "metadata": {},
   "outputs": [
    {
     "data": {
      "text/plain": [
       "<omicverse.single._anno.pySCSA at 0x7f771509f0d0>"
      ]
     },
     "execution_count": 12,
     "metadata": {},
     "output_type": "execute_result"
    }
   ],
   "source": [
    "scsa"
   ]
  },
  {
   "cell_type": "code",
   "execution_count": 31,
   "id": "972753c2-2d58-4be9-a8d6-1169bd3d881f",
   "metadata": {},
   "outputs": [
    {
     "name": "stdout",
     "output_type": "stream",
     "text": [
      "ranking genes\n",
      "    finished (0:00:15)\n",
      "...Auto annotate cell\n",
      "Version V2.1 [2023/06/27]\n",
      "DB load: GO_items:47347,Human_GO:3,Mouse_GO:3,\n",
      "CellMarkers:82887,CancerSEA:1574,PanglaoDB:24223\n",
      "Ensembl_HGNC:61541,Ensembl_Mouse:55414\n",
      "<omicverse.single._SCSA.Annotator object at 0x7f7713f5d460>\n",
      "Version V2.1 [2023/06/27]\n",
      "DB load: GO_items:47347,Human_GO:3,Mouse_GO:3,\n",
      "CellMarkers:82887,CancerSEA:1574,PanglaoDB:24223\n",
      "Ensembl_HGNC:61541,Ensembl_Mouse:55414\n",
      "load markers: 70276\n",
      "Cluster 0 Gene number: 28\n",
      "Other Gene number: 127\n",
      "Cluster 1 Gene number: 1\n",
      "Other Gene number: 151\n",
      "Cluster 10 Gene number: 3\n",
      "Other Gene number: 150\n",
      "Cluster 2 Gene number: 5\n",
      "Other Gene number: 147\n",
      "Cluster 3 Gene number: 29\n",
      "Other Gene number: 139\n",
      "Cluster 4 Gene number: 47\n",
      "Other Gene number: 114\n",
      "Cluster 5 Gene number: 30\n",
      "Other Gene number: 132\n",
      "Cluster 6 Gene number: 28\n",
      "Other Gene number: 127\n",
      "Cluster 7 Gene number: 5\n",
      "Other Gene number: 149\n",
      "Cluster 8 Gene number: 3\n",
      "Other Gene number: 149\n",
      "Cluster 9 Gene number: 2\n",
      "Other Gene number: 151\n",
      "#Cluster Type Celltype Score Times\n",
      "['0', '?', 'Mesenchymal stem cell|Epithelial cell', '7.831632424778127|6.779288128964704', 1.1552293213969254]\n",
      "['1', 'Good', 'Beta cell(β cell)', 2.412484750126456, '-']\n",
      "['10', '?', 'Fibroblast|Stromal cell', '3.549128617541087|2.2152860701327857', 1.602108488556672]\n",
      "['2', '?', 'CD4+ T cell|T cell', '4.125580056097248|3.710370705836901', 1.1119050852808772]\n",
      "['3', '?', 'Mesenchymal stem cell|Microglial cell', '7.061771671837373|4.041036891200872', 1.7475147745406576]\n",
      "['4', '?', 'Fibroblast|Endothelial cell', '8.77224091890969|6.4415490962929765', 1.3618216344819905]\n",
      "['5', '?', 'Neural progenitor cell|Cycling cell', '6.598978343740206|4.834960307839983', 1.3648464358724584]\n",
      "['6', '?', 'Macrophage|Microglial cell', '8.820498849985823|5.815304672159644', 1.5167732986052016]\n",
      "['7', '?', 'Monocyte|T cell', '2.730873501519136|2.363380071317671', 1.155494850219573]\n",
      "['8', '?', 'Stem cell|Pluripotent stem cell', '3.159578503622332|2.294005763430206', 1.377319339816236]\n",
      "['9', '?', 'Ciliated epithelial cell|Leydig precursor cell', '1.463850109422799|1.463850109422799', 1.0]\n"
     ]
    }
   ],
   "source": [
    "anno=scsa.cell_anno(clustertype='leiden',\n",
    "               cluster='all',rank_rep=True)"
   ]
  },
  {
   "cell_type": "code",
   "execution_count": null,
   "id": "0b7020e0-826b-4a27-9fd2-9430985c536c",
   "metadata": {},
   "outputs": [],
   "source": []
  }
 ],
 "metadata": {
  "kernelspec": {
   "display_name": "Python 3 (ipykernel)",
   "language": "python",
   "name": "python3"
  },
  "language_info": {
   "codemirror_mode": {
    "name": "ipython",
    "version": 3
   },
   "file_extension": ".py",
   "mimetype": "text/x-python",
   "name": "python",
   "nbconvert_exporter": "python",
   "pygments_lexer": "ipython3",
   "version": "3.8.10"
  }
 },
 "nbformat": 4,
 "nbformat_minor": 5
}
