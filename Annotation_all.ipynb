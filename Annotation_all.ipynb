{
 "cells": [
  {
   "cell_type": "code",
   "execution_count": 1,
   "id": "2514f5a9-162b-482c-add0-62241c8d64fd",
   "metadata": {},
   "outputs": [
    {
     "name": "stdout",
     "output_type": "stream",
     "text": [
      "\n",
      "   ____            _     _    __                  \n",
      "  / __ \\____ ___  (_)___| |  / /__  _____________ \n",
      " / / / / __ `__ \\/ / ___/ | / / _ \\/ ___/ ___/ _ \\ \n",
      "/ /_/ / / / / / / / /__ | |/ /  __/ /  (__  )  __/ \n",
      "\\____/_/ /_/ /_/_/\\___/ |___/\\___/_/  /____/\\___/                                              \n",
      "\n",
      "Version: 1.5.8, Tutorials: https://omicverse.readthedocs.io/\n",
      "omicverse version:1.5.8\n",
      "scanpy version:1.9.6\n"
     ]
    }
   ],
   "source": [
    "import omicverse as ov\n",
    "import scanpy as sc\n",
    "ov.ov_plot_set()\n",
    "import omicverse as ov\n",
    "print(f'omicverse version:{ov.__version__}')\n",
    "import scanpy as sc\n",
    "print(f'scanpy version:{sc.__version__}')\n",
    "ov.ov_plot_set()"
   ]
  },
  {
   "cell_type": "code",
   "execution_count": 2,
   "id": "3ba67e22-348d-4dc7-b7b5-90f926d6c731",
   "metadata": {},
   "outputs": [],
   "source": [
    "adata_ori = sc.read_h5ad(\"filtered_adata.h5ad\")"
   ]
  },
  {
   "cell_type": "code",
   "execution_count": null,
   "id": "a5298777-e8e2-4aec-8c2c-4985df7e56ab",
   "metadata": {
    "collapsed": true,
    "jupyter": {
     "outputs_hidden": true
    }
   },
   "outputs": [
    {
     "name": "stdout",
     "output_type": "stream",
     "text": [
      "Calculate QC metrics\n",
      "End calculation of QC metrics.\n",
      "Original cell number: 864919\n",
      "Begin of post doublets removal and QC plot\n",
      "Running Scrublet\n"
     ]
    }
   ],
   "source": [
    "\"\"\"\n",
    "#adata=ov.single.scanpy_lazy(adata)\n",
    "#quantity control\n",
    "adata=ov.pp.qc(adata,\n",
    "              tresh={'mito_perc': 0.05, 'nUMIs': 500, 'detected_genes': 250})\n",
    "#normalize and high variable genes (HVGs) calculated\n",
    "adata=ov.pp.preprocess(adata,mode='shiftlog|pearson',n_HVGs=2000,)\n",
    "\n",
    "#save the whole genes and filter the non-HVGs\n",
    "adata.raw = adata\n",
    "adata = adata[:, adata.var.highly_variable_features]\n",
    "\n",
    "#scale the adata.X\n",
    "ov.pp.scale(adata)\n",
    "\n",
    "#Dimensionality Reduction\n",
    "ov.pp.pca(adata,layer='scaled',n_pcs=50)\n",
    "\n",
    "#Neighbourhood graph construction\n",
    "sc.pp.neighbors(adata, n_neighbors=15, n_pcs=50,\n",
    "               use_rep='scaled|original|X_pca')\n",
    "\n",
    "#clusters\n",
    "sc.tl.leiden(adata)\n",
    "\n",
    "#Dimensionality Reduction for visualization(X_mde=X_umap+GPU)\n",
    "adata.obsm[\"X_mde\"] = ov.utils.mde(adata.obsm[\"scaled|original|X_pca\"])\n",
    "adata\n",
    "\"\"\""
   ]
  },
  {
   "cell_type": "code",
   "execution_count": 3,
   "id": "988b0a72-7266-4de3-9d78-99647cdcab17",
   "metadata": {
    "collapsed": true,
    "jupyter": {
     "outputs_hidden": true
    }
   },
   "outputs": [
    {
     "name": "stdout",
     "output_type": "stream",
     "text": [
      "filtered out 817006 cells that have less than 200 genes expressed\n",
      "Running Scrublet\n",
      "normalizing counts per cell\n",
      "    finished (0:00:00)\n",
      "WARNING: adata.X seems to be already log-transformed.\n",
      "extracting highly variable genes\n",
      "    finished (0:00:02)\n",
      "--> added\n",
      "    'highly_variable', boolean vector (adata.var)\n",
      "    'means', float vector (adata.var)\n",
      "    'dispersions', float vector (adata.var)\n",
      "    'dispersions_norm', float vector (adata.var)\n",
      "normalizing counts per cell\n",
      "    finished (0:00:00)\n",
      "normalizing counts per cell\n",
      "    finished (0:00:00)\n",
      "Embedding transcriptomes using PCA...\n",
      "Automatically set threshold at doublet score = 0.51\n",
      "Detected doublet rate = 0.7%\n",
      "Estimated detectable doublet fraction = 42.5%\n",
      "Overall doublet rate:\n",
      "\tExpected   = 5.0%\n",
      "\tEstimated  = 1.6%\n",
      "    Scrublet finished (0:01:41)\n",
      "normalizing counts per cell\n",
      "    finished (0:00:00)\n",
      "WARNING: adata.X seems to be already log-transformed.\n",
      "extracting highly variable genes\n",
      "    finished (0:00:00)\n",
      "--> added\n",
      "    'highly_variable', boolean vector (adata.var)\n",
      "    'means', float vector (adata.var)\n",
      "    'dispersions', float vector (adata.var)\n",
      "    'dispersions_norm', float vector (adata.var)\n",
      "... as `zero_center=True`, sparse input is densified and may lead to large memory consumption\n",
      "computing PCA\n",
      "Note that scikit-learn's randomized PCA might not be exactly reproducible across different computational platforms. For exact reproducibility, choose `svd_solver='arpack'.`\n",
      "    on highly variable genes\n",
      "    with n_comps=100\n",
      "    finished (0:00:12)\n",
      "computing neighbors\n",
      "    using 'X_pca' with n_pcs = 50\n",
      "    finished: added to `.uns['neighbors']`\n",
      "    `.obsp['distances']`, distances for each pair of neighbors\n",
      "    `.obsp['connectivities']`, weighted adjacency matrix (0:00:41)\n",
      "running Leiden clustering\n",
      "    finished: found 12 clusters and added\n",
      "    'leiden', the cluster labels (adata.obs, categorical) (0:01:15)\n",
      "running PAGA\n",
      "    finished: added\n",
      "    'paga/connectivities', connectivities adjacency (adata.uns)\n",
      "    'paga/connectivities_tree', connectivities subtree (adata.uns) (0:00:01)\n",
      "--> added 'pos', the PAGA positions (adata.uns['paga'])\n",
      "computing UMAP\n",
      "    finished: added\n",
      "    'X_umap', UMAP coordinates (adata.obsm) (0:00:35)\n"
     ]
    }
   ],
   "source": [
    "adata = ov.single.scanpy_lazy(adata_ori)"
   ]
  },
  {
   "cell_type": "code",
   "execution_count": 13,
   "id": "c1b041a9-b8ec-491e-bb81-6068392c9aec",
   "metadata": {},
   "outputs": [
    {
     "data": {
      "text/plain": [
       "AnnData object with n_obs × n_vars = 47582 × 196\n",
       "    obs: 'fov', 'Area', 'AspectRatio', 'Width', 'Height', 'Mean.PanCK', 'Max.PanCK', 'Mean.CD68', 'Max.CD68', 'Mean.Membrane', 'Max.Membrane', 'Mean.CD45', 'Max.CD45', 'Mean.DAPI', 'Max.DAPI', 'cell_id', 'assay_type', 'version', 'Run_Tissue_name', 'Panel', 'slide_ID_numeric', 'cell_ID', 'unassignedTranscripts', 'nCount_RNA', 'nFeature_RNA', 'nCount_negprobes', 'nFeature_negprobes', 'nCount_falsecode', 'nFeature_falsecode', 'Area.um2', 'x_FOV_px', 'y_FOV_px', 'x_slide_mm', 'y_slide_mm', 'sample', 'leiden', 'n_genes', 'doublet_score', 'predicted_doublet', 'n_genes_by_counts', 'total_counts', 'total_counts_mt', 'pct_counts_mt', 'scsa_celltype_panglaodb'\n",
       "    var: 'DisplayName', 'Barcode', 'CodeClass', 'ProbeID', 'n_cells', 'mt', 'n_cells_by_counts', 'mean_counts', 'pct_dropout_by_counts', 'total_counts', 'highly_variable', 'means', 'dispersions', 'dispersions_norm', 'mean', 'std'\n",
       "    uns: 'leiden', 'log1p', 'neighbors', 'scaled|original|cum_sum_eigenvalues', 'scaled|original|pca_var_ratios', 'umap', 'scrublet', 'hvg', 'pca', 'paga', 'leiden_sizes', 'rank_genes_groups'\n",
       "    obsm: 'X_harmony', 'X_pca', 'X_umap', 'scaled|original|X_pca', 'spatial'\n",
       "    varm: 'scaled|original|pca_loadings', 'PCs'\n",
       "    layers: 'counts', 'lognorm', 'scaled'\n",
       "    obsp: 'connectivities', 'distances'"
      ]
     },
     "execution_count": 13,
     "metadata": {},
     "output_type": "execute_result"
    }
   ],
   "source": [
    "adata_q = adata\n",
    "adata_q"
   ]
  },
  {
   "cell_type": "code",
   "execution_count": 14,
   "id": "8ac42182-42b3-431b-a4fd-ced590601f51",
   "metadata": {},
   "outputs": [],
   "source": [
    "## ??以为为啥跑整体流程的时候，包没问题，为啥单独分步骤 就出现问题？"
   ]
  },
  {
   "cell_type": "code",
   "execution_count": 15,
   "id": "24d79e3e-ea2f-4d90-b432-b32cc2aa1ae1",
   "metadata": {},
   "outputs": [
    {
     "name": "stdout",
     "output_type": "stream",
     "text": [
      "total 33066800\n",
      "-rw-r--r-- 1 root        13820 Apr 18 10:33 Annotation.ipynb\n",
      "-rw-r--r-- 1 root        85769 Apr 18 14:30 Annotation_all.ipynb\n",
      "-rw-r--r-- 1 root        40492 Apr 15 19:53 SM.ipynb\n",
      "-rw-r--r-- 1 root       168565 Apr 17 17:45 clustering_space.ipynb\n",
      "-rw-r--r-- 1 root   3828919618 Apr 16 17:26 filtered_250adata.h5ad\n",
      "-rw-r--r-- 1 root   2302178496 Apr 16 17:50 filtered_300adata.h5ad\n",
      "-rw-r--r-- 1 root  13245143518 Apr 15 19:55 filtered_adata.h5ad\n",
      "-rw-r--r-- 1 root      1255921 Apr 17 16:58 preprocess.ipynb\n",
      "-rw-r--r-- 1 22954 14482560400 Apr 15 17:16 raw.cluster.h5ad\n",
      "-rw-r--r-- 1 root        14507 Apr 17 11:45 raw_cluster.ipynb\n",
      "-rw-r--r-- 1 root            0 Apr 18 13:54 requirements.txt\n",
      "drwxr-xr-x 1 root         4096 Apr 18 09:41 \u001b[0m\u001b[01;34mtemp\u001b[0m/\n"
     ]
    }
   ],
   "source": [
    "ll"
   ]
  },
  {
   "cell_type": "code",
   "execution_count": 16,
   "id": "d7e7c2df-1743-4f35-b20d-7cf533358ced",
   "metadata": {},
   "outputs": [],
   "source": [
    "# 单细胞自动化注释"
   ]
  },
  {
   "cell_type": "code",
   "execution_count": null,
   "id": "effdf328-8349-4da9-b53f-ce2efb2451d9",
   "metadata": {},
   "outputs": [],
   "source": [
    "\n",
    "\n",
    "\n",
    "\n",
    "\n",
    "\n",
    "\n",
    "\n",
    "\n",
    "\n",
    "\n",
    "\n",
    "\n",
    "\n",
    "\n",
    "\n",
    "\n",
    "\n",
    "\n"
   ]
  },
  {
   "cell_type": "code",
   "execution_count": null,
   "id": "d9bf0930-2658-42b0-91bb-f894c9c70aa7",
   "metadata": {},
   "outputs": [],
   "source": []
  },
  {
   "cell_type": "code",
   "execution_count": 17,
   "id": "be0c4164-83b9-4d49-8471-714fe4fa5049",
   "metadata": {},
   "outputs": [],
   "source": [
    "## 构建scsa，是经过pySCSA分析后的\n",
    "scsa=ov.single.pySCSA(adata=adata_q,\n",
    "                      foldchange=1.5,\n",
    "                      pvalue=0.01,\n",
    "                      celltype='normal',\n",
    "                      target='cellmarker',\n",
    "                      tissue='All',\n",
    "                      model_path='temp/pySCSA_2023_v2_plus.db'                    \n",
    ")"
   ]
  },
  {
   "cell_type": "code",
   "execution_count": 18,
   "id": "ba22c8b2-a2ab-4a12-bffb-cfce60a7b5b4",
   "metadata": {
    "collapsed": true,
    "jupyter": {
     "outputs_hidden": true
    },
    "scrolled": true
   },
   "outputs": [
    {
     "name": "stdout",
     "output_type": "stream",
     "text": [
      "ranking genes\n",
      "    finished (0:00:08)\n",
      "...Auto annotate cell\n",
      "Version V2.1 [2023/06/27]\n",
      "DB load: GO_items:47347,Human_GO:3,Mouse_GO:3,\n",
      "CellMarkers:82887,CancerSEA:1574,PanglaoDB:24223\n",
      "Ensembl_HGNC:61541,Ensembl_Mouse:55414\n",
      "<omicverse.single._SCSA.Annotator object at 0x7f60e0a85040>\n",
      "Version V2.1 [2023/06/27]\n",
      "DB load: GO_items:47347,Human_GO:3,Mouse_GO:3,\n",
      "CellMarkers:82887,CancerSEA:1574,PanglaoDB:24223\n",
      "Ensembl_HGNC:61541,Ensembl_Mouse:55414\n",
      "load markers: 70276\n",
      "!WARNING3:Zero marker sets found, type:marker\n",
      "!WARNING3:Change the threshold or tissue name and try again?\n",
      "!WARNING3:EnsemblID or GeneID,try '-E' command?\n",
      "Cluster 0 Gene number: 0\n",
      "!WARNING(go processing):Zero gene sets found for the cluster 0\n",
      "!WARNING(go processing):Change the threshold and try again?\n",
      "Other Gene number: 155\n",
      "Cluster 1 Gene number: 29\n",
      "Other Gene number: 129\n",
      "Cluster 10 Gene number: 1\n",
      "Other Gene number: 154\n",
      "Cluster 11 Gene number: 3\n",
      "Other Gene number: 153\n",
      "Cluster 2 Gene number: 5\n",
      "Other Gene number: 150\n",
      "Cluster 3 Gene number: 29\n",
      "Other Gene number: 140\n",
      "Cluster 4 Gene number: 50\n",
      "Other Gene number: 113\n",
      "Cluster 5 Gene number: 24\n",
      "Other Gene number: 134\n",
      "Cluster 6 Gene number: 29\n",
      "Other Gene number: 135\n",
      "Cluster 7 Gene number: 3\n",
      "Other Gene number: 152\n",
      "Cluster 8 Gene number: 4\n",
      "Other Gene number: 151\n",
      "Cluster 9 Gene number: 3\n",
      "Other Gene number: 152\n",
      "#Cluster Type Celltype Score Times\n",
      "['0', 'N', '-', '-', '-']\n",
      "['1', '?', 'Mesenchymal stem cell|Epithelial cell', '7.8143720650012245|6.817078869361109', 1.146293333956041]\n",
      "['10', '?', 'Regulatory T(Treg) cell|Regulatory T (Treg) cell', '2.2898397651307194|1.3427571694445315', 1.7053267837534427]\n",
      "['11', 'Good', 'Dendritic cell', 2.6992058255300257, 2.1174309049418043]\n",
      "['2', '?', 'CD4+ T cell|T cell', '4.127262000688068|3.711210603892229', 1.1121066523035623]\n",
      "['3', '?', 'Mesenchymal stem cell|Microglial cell', '7.071964671170134|4.02093490846283', 1.758786160971128]\n",
      "['4', '?', 'Fibroblast|Endothelial cell', '8.539075555006058|7.406050929154217', 1.1529863400468452]\n",
      "['5', '?', 'Macrophage|Microglial cell', '8.693749138144842|5.674212224116797', 1.5321508598487505]\n",
      "['6', '?', 'Neural progenitor cell|Cycling cell', '6.555120734327008|4.820866079631223', 1.3597392306795728]\n",
      "['7', 'Good', 'Natural killer cell', 3.3145924087102543, 36.50185643848855]\n",
      "['8', '?', 'Natural killer cell|T cell', '5.429693256922716|3.416202489939605', 1.5893944439513326]\n",
      "['9', '?', 'Endothelial cell|Fibroblast', '0.8017243878707152|0.8017243878707152', 1.0]\n"
     ]
    }
   ],
   "source": [
    "anno=scsa.cell_anno(clustertype='leiden',\n",
    "               cluster='all',rank_rep=True)"
   ]
  },
  {
   "cell_type": "code",
   "execution_count": null,
   "id": "427e0808-cd02-4850-993c-8aa05416f221",
   "metadata": {},
   "outputs": [],
   "source": [
    "## 更好的注释结果"
   ]
  },
  {
   "cell_type": "code",
   "execution_count": 20,
   "id": "d8b57e2f-539c-4e7f-bdc8-911c71adef7a",
   "metadata": {},
   "outputs": [
    {
     "name": "stdout",
     "output_type": "stream",
     "text": [
      "...cell type added to scsa_celltype_cellmarker on obs of anndata\n"
     ]
    }
   ],
   "source": [
    "scsa.cell_auto_anno(adata,key='scsa_celltype_cellmarker')##key表示存储与那个字段中"
   ]
  },
  {
   "cell_type": "code",
   "execution_count": null,
   "id": "0f480335-769c-4bde-a18c-57495664fc29",
   "metadata": {},
   "outputs": [],
   "source": [
    "## 也可以使用panglaodb注释细胞类型"
   ]
  },
  {
   "cell_type": "code",
   "execution_count": 25,
   "id": "55b83b85-07e5-4565-933f-b288744e94e0",
   "metadata": {},
   "outputs": [],
   "source": [
    "## \n",
    "scsa=ov.single.pySCSA(adata=adata_q,\n",
    "                          foldchange=1.5,\n",
    "                          pvalue=0.01,\n",
    "                          celltype='normal',\n",
    "                          target='panglaodb',\n",
    "                          tissue='All',\n",
    "                          model_path='temp/pySCSA_2023_v2_plus.db'\n",
    "                          \n",
    ")"
   ]
  },
  {
   "cell_type": "code",
   "execution_count": 26,
   "id": "ab967cc9-9dbc-456a-bb96-bb3914437c67",
   "metadata": {
    "collapsed": true,
    "jupyter": {
     "outputs_hidden": true
    },
    "scrolled": true
   },
   "outputs": [
    {
     "name": "stdout",
     "output_type": "stream",
     "text": [
      "ranking genes\n",
      "    finished (0:00:07)\n",
      "...Auto annotate cell\n",
      "Version V2.1 [2023/06/27]\n",
      "DB load: GO_items:47347,Human_GO:3,Mouse_GO:3,\n",
      "CellMarkers:82887,CancerSEA:1574,PanglaoDB:24223\n",
      "Ensembl_HGNC:61541,Ensembl_Mouse:55414\n",
      "<omicverse.single._SCSA.Annotator object at 0x7f60dc8103d0>\n",
      "Version V2.1 [2023/06/27]\n",
      "DB load: GO_items:47347,Human_GO:3,Mouse_GO:3,\n",
      "CellMarkers:82887,CancerSEA:1574,PanglaoDB:24223\n",
      "Ensembl_HGNC:61541,Ensembl_Mouse:55414\n",
      "load markers: 70276\n",
      "!WARNING3:Zero marker sets found, type:marker\n",
      "!WARNING3:Change the threshold or tissue name and try again?\n",
      "!WARNING3:EnsemblID or GeneID,try '-E' command?\n",
      "Cluster 0 Gene number: 0\n",
      "!WARNING(go processing):Zero gene sets found for the cluster 0\n",
      "!WARNING(go processing):Change the threshold and try again?\n",
      "Other Gene number: 137\n",
      "Cluster 1 Gene number: 29\n",
      "Other Gene number: 117\n",
      "Cluster 10 Gene number: 1\n",
      "Other Gene number: 136\n",
      "Cluster 11 Gene number: 3\n",
      "Other Gene number: 135\n",
      "Cluster 2 Gene number: 5\n",
      "Other Gene number: 133\n",
      "Cluster 3 Gene number: 29\n",
      "Other Gene number: 125\n",
      "Cluster 4 Gene number: 50\n",
      "Other Gene number: 96\n",
      "Cluster 5 Gene number: 24\n",
      "Other Gene number: 116\n",
      "Cluster 6 Gene number: 29\n",
      "Other Gene number: 121\n",
      "Cluster 7 Gene number: 3\n",
      "Other Gene number: 135\n",
      "Cluster 8 Gene number: 4\n",
      "Other Gene number: 133\n",
      "Cluster 9 Gene number: 3\n",
      "Other Gene number: 135\n",
      "#Cluster Type Celltype Score Times\n",
      "['0', 'N', '-', '-', '-']\n",
      "['1', '?', 'Fibroblasts|Endothelial Cells', '3.725823539797855|3.069298338467519', 1.213900745034168]\n",
      "['10', '?', 'T Helper Cells|T Regulatory Cells', 'nan|nan', nan]\n",
      "['11', 'Good', 'Dendritic Cells', 1.7336922474690202, 5.954573021442257]\n",
      "['2', '?', 'Microfold Cells|Trophoblast Progenitor Cells', '1.7416938445047196|1.7416938445047196', 1.0]\n",
      "['3', '?', 'Hepatic Stellate Cells|Pancreatic Stellate Cells', '1.9461831433247996|1.9461831433247996', 1.0]\n",
      "['4', '?', 'Pericytes|Endothelial Cells', '2.627591008630418|2.592284378639161', 1.0136198907350555]\n",
      "['5', '?', 'Spermatozoa|Kupffer Cells', '2.205937187256606|1.9101194675245514', 1.1548687004983118]\n",
      "['6', 'Good', 'Gamma Delta T Cells', 7.115356213000421, 7.6750152478768685]\n",
      "['7', '?', 'Decidual Cells|NK Cells', '0.4743416490252566|0.4743416490252566', 1.0]\n",
      "['8', 'Good', 'NK Cells', 4.301646598444047, 8.055649953524762]\n",
      "['9', '?', 'Cardiac Stem And Precursor Cells|Cardiomyocytes', '0.6454972243678759|0.6454972243678759', 1.0]\n"
     ]
    }
   ],
   "source": [
    "res=scsa.cell_anno(clustertype='leiden',\n",
    "               cluster='all',rank_rep=True)"
   ]
  },
  {
   "cell_type": "code",
   "execution_count": 27,
   "id": "5f88b11b-ec73-4567-b12a-6542470c1ddd",
   "metadata": {},
   "outputs": [
    {
     "name": "stdout",
     "output_type": "stream",
     "text": [
      "Cluster:1\tCell_type:Fibroblasts|Endothelial Cells\tZ-score:3.726|3.069\n",
      "Cluster:2\tCell_type:Microfold Cells|Trophoblast Progenitor Cells\tZ-score:1.742|1.742\n",
      "Cluster:3\tCell_type:Hepatic Stellate Cells|Pancreatic Stellate Cells\tZ-score:1.946|1.946\n",
      "Cluster:4\tCell_type:Pericytes|Endothelial Cells\tZ-score:2.628|2.592\n",
      "Cluster:5\tCell_type:Spermatozoa|Kupffer Cells\tZ-score:2.206|1.91\n",
      "Nice:Cluster:6\tCell_type:Gamma Delta T Cells\tZ-score:7.115\n",
      "Cluster:7\tCell_type:Decidual Cells|NK Cells\tZ-score:0.474|0.474\n",
      "Nice:Cluster:8\tCell_type:NK Cells\tZ-score:4.302\n",
      "Cluster:9\tCell_type:Cardiac Stem And Precursor Cells|Cardiomyocytes\tZ-score:0.645|0.645\n",
      "Cluster:10\tCell_type:T Helper Cells|T Regulatory Cells\tZ-score:nan|nan\n",
      "Nice:Cluster:11\tCell_type:Dendritic Cells\tZ-score:1.734\n"
     ]
    }
   ],
   "source": [
    "## 更好的注释结果\n",
    "scsa.cell_anno_print()"
   ]
  },
  {
   "cell_type": "code",
   "execution_count": 24,
   "id": "b5791e03-9e10-4e72-b83c-73fed7ac07bc",
   "metadata": {},
   "outputs": [
    {
     "name": "stdout",
     "output_type": "stream",
     "text": [
      "...cell type added to scsa_celltype_panglaodb on obs of anndata\n"
     ]
    }
   ],
   "source": [
    "scsa.cell_auto_anno(adata,key='scsa_celltype_panglaodb')"
   ]
  },
  {
   "cell_type": "code",
   "execution_count": null,
   "id": "909bf35e-6e9f-4e3b-b3c7-e9c6849bf15f",
   "metadata": {},
   "outputs": [],
   "source": [
    "## 画图"
   ]
  },
  {
   "cell_type": "code",
   "execution_count": 22,
   "id": "2a94baee-6f71-4d71-a2eb-e4d77366e3ad",
   "metadata": {
    "collapsed": true,
    "jupyter": {
     "outputs_hidden": true
    },
    "scrolled": true
   },
   "outputs": [
    {
     "name": "stdout",
     "output_type": "stream",
     "text": [
      "Requirement already satisfied: pymde in /usr/local/lib/python3.8/dist-packages (0.1.18)\n",
      "Requirement already satisfied: matplotlib in /usr/local/lib/python3.8/dist-packages (from pymde) (3.7.5)\n",
      "Requirement already satisfied: numpy>=1.17.5 in /usr/local/lib/python3.8/dist-packages (from pymde) (1.23.5)\n",
      "Requirement already satisfied: pynndescent in /usr/local/lib/python3.8/dist-packages (from pymde) (0.5.11)\n",
      "Requirement already satisfied: scipy in /usr/local/lib/python3.8/dist-packages (from pymde) (1.10.1)\n",
      "Requirement already satisfied: torch>=1.7.1 in /usr/local/lib/python3.8/dist-packages (from pymde) (2.0.0)\n",
      "Requirement already satisfied: torchvision>=0.8.2 in /usr/local/lib/python3.8/dist-packages (from pymde) (0.17.1+rocm5.7)\n",
      "Requirement already satisfied: requests in /usr/local/lib/python3.8/dist-packages (from pymde) (2.31.0)\n",
      "Requirement already satisfied: filelock in /usr/local/lib/python3.8/dist-packages (from torch>=1.7.1->pymde) (3.9.0)\n",
      "Requirement already satisfied: typing-extensions in /usr/local/lib/python3.8/dist-packages (from torch>=1.7.1->pymde) (4.10.0)\n",
      "Requirement already satisfied: sympy in /usr/local/lib/python3.8/dist-packages (from torch>=1.7.1->pymde) (1.12)\n",
      "Requirement already satisfied: networkx in /usr/local/lib/python3.8/dist-packages (from torch>=1.7.1->pymde) (2.5)\n",
      "Requirement already satisfied: jinja2 in /usr/local/lib/python3.8/dist-packages (from torch>=1.7.1->pymde) (3.1.3)\n",
      "Requirement already satisfied: nvidia-cuda-nvrtc-cu11==11.7.99 in /usr/local/lib/python3.8/dist-packages (from torch>=1.7.1->pymde) (11.7.99)\n",
      "Requirement already satisfied: nvidia-cuda-runtime-cu11==11.7.99 in /usr/local/lib/python3.8/dist-packages (from torch>=1.7.1->pymde) (11.7.99)\n",
      "Requirement already satisfied: nvidia-cuda-cupti-cu11==11.7.101 in /usr/local/lib/python3.8/dist-packages (from torch>=1.7.1->pymde) (11.7.101)\n",
      "Requirement already satisfied: nvidia-cudnn-cu11==8.5.0.96 in /usr/local/lib/python3.8/dist-packages (from torch>=1.7.1->pymde) (8.5.0.96)\n",
      "Requirement already satisfied: nvidia-cublas-cu11==11.10.3.66 in /usr/local/lib/python3.8/dist-packages (from torch>=1.7.1->pymde) (11.10.3.66)\n",
      "Requirement already satisfied: nvidia-cufft-cu11==10.9.0.58 in /usr/local/lib/python3.8/dist-packages (from torch>=1.7.1->pymde) (10.9.0.58)\n",
      "Requirement already satisfied: nvidia-curand-cu11==10.2.10.91 in /usr/local/lib/python3.8/dist-packages (from torch>=1.7.1->pymde) (10.2.10.91)\n",
      "Requirement already satisfied: nvidia-cusolver-cu11==11.4.0.1 in /usr/local/lib/python3.8/dist-packages (from torch>=1.7.1->pymde) (11.4.0.1)\n",
      "Requirement already satisfied: nvidia-cusparse-cu11==11.7.4.91 in /usr/local/lib/python3.8/dist-packages (from torch>=1.7.1->pymde) (11.7.4.91)\n",
      "Requirement already satisfied: nvidia-nccl-cu11==2.14.3 in /usr/local/lib/python3.8/dist-packages (from torch>=1.7.1->pymde) (2.14.3)\n",
      "Requirement already satisfied: nvidia-nvtx-cu11==11.7.91 in /usr/local/lib/python3.8/dist-packages (from torch>=1.7.1->pymde) (11.7.91)\n",
      "Requirement already satisfied: triton==2.0.0 in /usr/local/lib/python3.8/dist-packages (from torch>=1.7.1->pymde) (2.0.0)\n",
      "Requirement already satisfied: setuptools in /usr/local/lib/python3.8/dist-packages (from nvidia-cublas-cu11==11.10.3.66->torch>=1.7.1->pymde) (69.2.0)\n",
      "Requirement already satisfied: wheel in /usr/lib/python3/dist-packages (from nvidia-cublas-cu11==11.10.3.66->torch>=1.7.1->pymde) (0.34.2)\n",
      "Requirement already satisfied: cmake in /usr/local/lib/python3.8/dist-packages (from triton==2.0.0->torch>=1.7.1->pymde) (3.29.2)\n",
      "Requirement already satisfied: lit in /usr/local/lib/python3.8/dist-packages (from triton==2.0.0->torch>=1.7.1->pymde) (18.1.3)\n",
      "Collecting torch>=1.7.1 (from pymde)\n",
      "  Downloading torch-2.2.1-cp38-cp38-manylinux1_x86_64.whl.metadata (25 kB)\n",
      "Requirement already satisfied: pillow!=8.3.*,>=5.3.0 in /usr/local/lib/python3.8/dist-packages (from torchvision>=0.8.2->pymde) (10.2.0)\n",
      "Requirement already satisfied: fsspec in /usr/local/lib/python3.8/dist-packages (from torch>=1.7.1->pymde) (2024.3.1)\n",
      "Collecting nvidia-cuda-nvrtc-cu12==12.1.105 (from torch>=1.7.1->pymde)\n",
      "  Downloading nvidia_cuda_nvrtc_cu12-12.1.105-py3-none-manylinux1_x86_64.whl.metadata (1.5 kB)\n",
      "Collecting nvidia-cuda-runtime-cu12==12.1.105 (from torch>=1.7.1->pymde)\n",
      "  Downloading nvidia_cuda_runtime_cu12-12.1.105-py3-none-manylinux1_x86_64.whl.metadata (1.5 kB)\n",
      "Collecting nvidia-cuda-cupti-cu12==12.1.105 (from torch>=1.7.1->pymde)\n",
      "  Downloading nvidia_cuda_cupti_cu12-12.1.105-py3-none-manylinux1_x86_64.whl.metadata (1.6 kB)\n",
      "Collecting nvidia-cudnn-cu12==8.9.2.26 (from torch>=1.7.1->pymde)\n",
      "  Downloading nvidia_cudnn_cu12-8.9.2.26-py3-none-manylinux1_x86_64.whl.metadata (1.6 kB)\n",
      "Collecting nvidia-cublas-cu12==12.1.3.1 (from torch>=1.7.1->pymde)\n",
      "  Downloading nvidia_cublas_cu12-12.1.3.1-py3-none-manylinux1_x86_64.whl.metadata (1.5 kB)\n",
      "Collecting nvidia-cufft-cu12==11.0.2.54 (from torch>=1.7.1->pymde)\n",
      "  Downloading nvidia_cufft_cu12-11.0.2.54-py3-none-manylinux1_x86_64.whl.metadata (1.5 kB)\n",
      "Collecting nvidia-curand-cu12==10.3.2.106 (from torch>=1.7.1->pymde)\n",
      "  Downloading nvidia_curand_cu12-10.3.2.106-py3-none-manylinux1_x86_64.whl.metadata (1.5 kB)\n",
      "Collecting nvidia-cusolver-cu12==11.4.5.107 (from torch>=1.7.1->pymde)\n",
      "  Downloading nvidia_cusolver_cu12-11.4.5.107-py3-none-manylinux1_x86_64.whl.metadata (1.6 kB)\n",
      "Collecting nvidia-cusparse-cu12==12.1.0.106 (from torch>=1.7.1->pymde)\n",
      "  Downloading nvidia_cusparse_cu12-12.1.0.106-py3-none-manylinux1_x86_64.whl.metadata (1.6 kB)\n",
      "Collecting nvidia-nccl-cu12==2.19.3 (from torch>=1.7.1->pymde)\n",
      "  Downloading nvidia_nccl_cu12-2.19.3-py3-none-manylinux1_x86_64.whl.metadata (1.8 kB)\n",
      "Collecting nvidia-nvtx-cu12==12.1.105 (from torch>=1.7.1->pymde)\n",
      "  Downloading nvidia_nvtx_cu12-12.1.105-py3-none-manylinux1_x86_64.whl.metadata (1.7 kB)\n",
      "Collecting triton==2.2.0 (from torch>=1.7.1->pymde)\n",
      "  Downloading triton-2.2.0-cp38-cp38-manylinux_2_17_x86_64.manylinux2014_x86_64.whl.metadata (1.4 kB)\n",
      "Collecting nvidia-nvjitlink-cu12 (from nvidia-cusolver-cu12==11.4.5.107->torch>=1.7.1->pymde)\n",
      "  Downloading nvidia_nvjitlink_cu12-12.4.127-py3-none-manylinux2014_x86_64.whl.metadata (1.5 kB)\n",
      "Requirement already satisfied: contourpy>=1.0.1 in /usr/local/lib/python3.8/dist-packages (from matplotlib->pymde) (1.1.1)\n",
      "Requirement already satisfied: cycler>=0.10 in /usr/local/lib/python3.8/dist-packages (from matplotlib->pymde) (0.12.1)\n",
      "Requirement already satisfied: fonttools>=4.22.0 in /usr/local/lib/python3.8/dist-packages (from matplotlib->pymde) (4.50.0)\n",
      "Requirement already satisfied: kiwisolver>=1.0.1 in /usr/local/lib/python3.8/dist-packages (from matplotlib->pymde) (1.4.5)\n",
      "Requirement already satisfied: packaging>=20.0 in /usr/local/lib/python3.8/dist-packages (from matplotlib->pymde) (24.0)\n",
      "Requirement already satisfied: pyparsing>=2.3.1 in /usr/local/lib/python3.8/dist-packages (from matplotlib->pymde) (3.1.2)\n",
      "Requirement already satisfied: python-dateutil>=2.7 in /usr/local/lib/python3.8/dist-packages (from matplotlib->pymde) (2.9.0.post0)\n",
      "Requirement already satisfied: importlib-resources>=3.2.0 in /usr/local/lib/python3.8/dist-packages (from matplotlib->pymde) (6.3.2)\n",
      "Requirement already satisfied: scikit-learn>=0.18 in /usr/local/lib/python3.8/dist-packages (from pynndescent->pymde) (1.3.2)\n",
      "Requirement already satisfied: numba>=0.51.2 in /usr/local/lib/python3.8/dist-packages (from pynndescent->pymde) (0.58.1)\n",
      "Requirement already satisfied: llvmlite>=0.30 in /usr/local/lib/python3.8/dist-packages (from pynndescent->pymde) (0.41.1)\n",
      "Requirement already satisfied: joblib>=0.11 in /usr/local/lib/python3.8/dist-packages (from pynndescent->pymde) (1.3.2)\n",
      "Requirement already satisfied: charset-normalizer<4,>=2 in /usr/local/lib/python3.8/dist-packages (from requests->pymde) (3.3.2)\n",
      "Requirement already satisfied: idna<4,>=2.5 in /usr/lib/python3/dist-packages (from requests->pymde) (2.8)\n",
      "Requirement already satisfied: urllib3<3,>=1.21.1 in /usr/local/lib/python3.8/dist-packages (from requests->pymde) (2.1.0)\n",
      "Requirement already satisfied: certifi>=2017.4.17 in /usr/lib/python3/dist-packages (from requests->pymde) (2019.11.28)\n",
      "Requirement already satisfied: zipp>=3.1.0 in /usr/local/lib/python3.8/dist-packages (from importlib-resources>=3.2.0->matplotlib->pymde) (3.18.1)\n",
      "Requirement already satisfied: importlib-metadata in /usr/local/lib/python3.8/dist-packages (from numba>=0.51.2->pynndescent->pymde) (7.1.0)\n",
      "Requirement already satisfied: six>=1.5 in /usr/lib/python3/dist-packages (from python-dateutil>=2.7->matplotlib->pymde) (1.14.0)\n",
      "Requirement already satisfied: threadpoolctl>=2.0.0 in /usr/local/lib/python3.8/dist-packages (from scikit-learn>=0.18->pynndescent->pymde) (3.4.0)\n",
      "Requirement already satisfied: MarkupSafe>=2.0 in /usr/local/lib/python3.8/dist-packages (from jinja2->torch>=1.7.1->pymde) (2.1.5)\n",
      "Requirement already satisfied: decorator>=4.3.0 in /usr/local/lib/python3.8/dist-packages (from networkx->torch>=1.7.1->pymde) (5.1.1)\n",
      "Requirement already satisfied: mpmath>=0.19 in /usr/local/lib/python3.8/dist-packages (from sympy->torch>=1.7.1->pymde) (1.3.0)\n",
      "Downloading torch-2.2.1-cp38-cp38-manylinux1_x86_64.whl (755.5 MB)\n",
      "\u001b[2K   \u001b[90m━━━━━━━━━━━━━━━━━━━━━━━━━━━━━━━━━━━━━━━━\u001b[0m \u001b[32m755.5/755.5 MB\u001b[0m \u001b[31m?\u001b[0m eta \u001b[36m0:00:00\u001b[0m \u001b[36m0:00:01\u001b[0m00:02\u001b[0m\n",
      "\u001b[?25hDownloading nvidia_cublas_cu12-12.1.3.1-py3-none-manylinux1_x86_64.whl (410.6 MB)\n",
      "\u001b[2K   \u001b[90m━━━━━━━━━━━━━━━━━━━━━━━━━━━━━━━━━━━━━━━━\u001b[0m \u001b[32m410.6/410.6 MB\u001b[0m \u001b[31m?\u001b[0m eta \u001b[36m0:00:00\u001b[0m \u001b[36m0:00:01\u001b[0m00:01\u001b[0m\n",
      "\u001b[?25hDownloading nvidia_cuda_cupti_cu12-12.1.105-py3-none-manylinux1_x86_64.whl (14.1 MB)\n",
      "\u001b[2K   \u001b[90m━━━━━━━━━━━━━━━━━━━━━━━━━━━━━━━━━━━━━━━━\u001b[0m \u001b[32m14.1/14.1 MB\u001b[0m \u001b[31m13.0 MB/s\u001b[0m eta \u001b[36m0:00:00\u001b[0m00:01\u001b[0m00:01\u001b[0m\n",
      "\u001b[?25hDownloading nvidia_cuda_nvrtc_cu12-12.1.105-py3-none-manylinux1_x86_64.whl (23.7 MB)\n",
      "\u001b[2K   \u001b[90m━━━━━━━━━━━━━━━━━━━━━━━━━━━━━━━━━━━━━━━━\u001b[0m \u001b[32m23.7/23.7 MB\u001b[0m \u001b[31m5.8 MB/s\u001b[0m eta \u001b[36m0:00:00\u001b[0m:00:01\u001b[0m00:01\u001b[0m\n",
      "\u001b[?25hDownloading nvidia_cuda_runtime_cu12-12.1.105-py3-none-manylinux1_x86_64.whl (823 kB)\n",
      "\u001b[2K   \u001b[90m━━━━━━━━━━━━━━━━━━━━━━━━━━━━━━━━━━━━━━━━\u001b[0m \u001b[32m823.6/823.6 kB\u001b[0m \u001b[31m18.8 MB/s\u001b[0m eta \u001b[36m0:00:00\u001b[0ma \u001b[36m0:00:01\u001b[0m\n",
      "\u001b[?25hDownloading nvidia_cudnn_cu12-8.9.2.26-py3-none-manylinux1_x86_64.whl (731.7 MB)\n",
      "\u001b[2K   \u001b[90m━━━━━━━━━━━━━━━━━━━━━━━━━━━━━━━━━━━━━━━━\u001b[0m \u001b[32m731.7/731.7 MB\u001b[0m \u001b[31m3.4 MB/s\u001b[0m eta \u001b[36m0:00:00\u001b[0m:00:01\u001b[0m00:02\u001b[0m\n",
      "\u001b[?25hDownloading nvidia_cufft_cu12-11.0.2.54-py3-none-manylinux1_x86_64.whl (121.6 MB)\n",
      "\u001b[2K   \u001b[90m━━━━━━━━━━━━━━━━━━━━━━━━━━━━━━━━━━━━━━━━\u001b[0m \u001b[32m121.6/121.6 MB\u001b[0m \u001b[31m8.4 MB/s\u001b[0m eta \u001b[36m0:00:00\u001b[0m:00:01\u001b[0m00:01\u001b[0m\n",
      "\u001b[?25hDownloading nvidia_curand_cu12-10.3.2.106-py3-none-manylinux1_x86_64.whl (56.5 MB)\n",
      "\u001b[2K   \u001b[90m━━━━━━━━━━━━━━━━━━━━━━━━━━━━━━━━━━━━━━━━\u001b[0m \u001b[32m56.5/56.5 MB\u001b[0m \u001b[31m11.6 MB/s\u001b[0m eta \u001b[36m0:00:00\u001b[0m00:01\u001b[0m00:01\u001b[0m\n",
      "\u001b[?25hDownloading nvidia_cusolver_cu12-11.4.5.107-py3-none-manylinux1_x86_64.whl (124.2 MB)\n",
      "\u001b[2K   \u001b[90m━━━━━━━━━━━━━━━━━━━━━━━━━━━━━━━━━━━━━━━━\u001b[0m \u001b[32m124.2/124.2 MB\u001b[0m \u001b[31m13.5 MB/s\u001b[0m eta \u001b[36m0:00:00\u001b[0m00:01\u001b[0m00:01\u001b[0m\n",
      "\u001b[?25hDownloading nvidia_cusparse_cu12-12.1.0.106-py3-none-manylinux1_x86_64.whl (196.0 MB)\n",
      "\u001b[2K   \u001b[90m━━━━━━━━━━━━━━━━━━━━━━━━━━━━━━━━━━━━━━━━\u001b[0m \u001b[32m196.0/196.0 MB\u001b[0m \u001b[31m12.3 MB/s\u001b[0m eta \u001b[36m0:00:00\u001b[0m00:01\u001b[0m00:01\u001b[0m\n",
      "\u001b[?25hDownloading nvidia_nccl_cu12-2.19.3-py3-none-manylinux1_x86_64.whl (166.0 MB)\n",
      "\u001b[2K   \u001b[90m━━━━━━━━━━━━━━━━━━━━━━━━━━━━━━━━━━━━━━━━\u001b[0m \u001b[32m166.0/166.0 MB\u001b[0m \u001b[31m12.8 MB/s\u001b[0m eta \u001b[36m0:00:00\u001b[0m00:01\u001b[0m00:01\u001b[0m\n",
      "\u001b[?25hDownloading nvidia_nvtx_cu12-12.1.105-py3-none-manylinux1_x86_64.whl (99 kB)\n",
      "\u001b[2K   \u001b[90m━━━━━━━━━━━━━━━━━━━━━━━━━━━━━━━━━━━━━━━━\u001b[0m \u001b[32m99.1/99.1 kB\u001b[0m \u001b[31m20.1 MB/s\u001b[0m eta \u001b[36m0:00:00\u001b[0m\n",
      "\u001b[?25hDownloading triton-2.2.0-cp38-cp38-manylinux_2_17_x86_64.manylinux2014_x86_64.whl (167.9 MB)\n",
      "\u001b[2K   \u001b[90m━━━━━━━━━━━━━━━━━━━━━━━━━━━━━━━━━━━━━━━━\u001b[0m \u001b[32m167.9/167.9 MB\u001b[0m \u001b[31m12.4 MB/s\u001b[0m eta \u001b[36m0:00:00\u001b[0m00:01\u001b[0m00:01\u001b[0m\n",
      "\u001b[?25hDownloading nvidia_nvjitlink_cu12-12.4.127-py3-none-manylinux2014_x86_64.whl (21.1 MB)\n",
      "\u001b[2K   \u001b[90m━━━━━━━━━━━━━━━━━━━━━━━━━━━━━━━━━━━━━━━━\u001b[0m \u001b[32m21.1/21.1 MB\u001b[0m \u001b[31m17.3 MB/s\u001b[0m eta \u001b[36m0:00:00\u001b[0m00:01\u001b[0m00:01\u001b[0m\n",
      "\u001b[?25hInstalling collected packages: triton, nvidia-nvtx-cu12, nvidia-nvjitlink-cu12, nvidia-nccl-cu12, nvidia-curand-cu12, nvidia-cufft-cu12, nvidia-cuda-runtime-cu12, nvidia-cuda-nvrtc-cu12, nvidia-cuda-cupti-cu12, nvidia-cublas-cu12, nvidia-cusparse-cu12, nvidia-cudnn-cu12, nvidia-cusolver-cu12, torch\n",
      "  Attempting uninstall: triton\n",
      "    Found existing installation: triton 2.0.0\n",
      "    Uninstalling triton-2.0.0:\n",
      "      Successfully uninstalled triton-2.0.0\n",
      "  Attempting uninstall: torch\n",
      "    Found existing installation: torch 2.0.0\n",
      "    Uninstalling torch-2.0.0:\n",
      "      Successfully uninstalled torch-2.0.0\n",
      "\u001b[31mERROR: pip's dependency resolver does not currently take into account all the packages that are installed. This behaviour is the source of the following dependency conflicts.\n",
      "mira-multiome 2.1.1 requires torch<=2.0.0,>=1.8.0, but you have torch 2.2.1 which is incompatible.\u001b[0m\u001b[31m\n",
      "\u001b[0mSuccessfully installed nvidia-cublas-cu12-12.1.3.1 nvidia-cuda-cupti-cu12-12.1.105 nvidia-cuda-nvrtc-cu12-12.1.105 nvidia-cuda-runtime-cu12-12.1.105 nvidia-cudnn-cu12-8.9.2.26 nvidia-cufft-cu12-11.0.2.54 nvidia-curand-cu12-10.3.2.106 nvidia-cusolver-cu12-11.4.5.107 nvidia-cusparse-cu12-12.1.0.106 nvidia-nccl-cu12-2.19.3 nvidia-nvjitlink-cu12-12.4.127 nvidia-nvtx-cu12-12.1.105 torch-2.2.1 triton-2.2.0\n",
      "\u001b[33mWARNING: Running pip as the 'root' user can result in broken permissions and conflicting behaviour with the system package manager. It is recommended to use a virtual environment instead: https://pip.pypa.io/warnings/venv\u001b[0m\u001b[33m\n",
      "\u001b[0mNote: you may need to restart the kernel to use updated packages.\n"
     ]
    }
   ],
   "source": [
    "#pip install pymde\n",
    "#pip install --upgrade omicverse"
   ]
  },
  {
   "cell_type": "code",
   "execution_count": null,
   "id": "1f948c21-5dd1-424c-a78e-aac3628301d8",
   "metadata": {},
   "outputs": [],
   "source": [
    "#Dimensionality Reduction for visualization(X_mde=X_umap+GPU)\n",
    "adata.obsm[\"X_mde\"] = ov.utils.mde(adata.obsm[\"scaled|original|X_pca\"])"
   ]
  },
  {
   "cell_type": "code",
   "execution_count": 30,
   "id": "f553a4b7-d9af-418f-ad84-9b3b534b5353",
   "metadata": {
    "collapsed": true,
    "jupyter": {
     "outputs_hidden": true
    }
   },
   "outputs": [
    {
     "ename": "TypeError",
     "evalue": "unhashable type: 'numpy.ndarray'",
     "output_type": "error",
     "traceback": [
      "\u001b[0;31m---------------------------------------------------------------------------\u001b[0m",
      "\u001b[0;31mTypeError\u001b[0m                                 Traceback (most recent call last)",
      "Cell \u001b[0;32mIn[30], line 1\u001b[0m\n\u001b[0;32m----> 1\u001b[0m \u001b[43mov\u001b[49m\u001b[38;5;241;43m.\u001b[39;49m\u001b[43mutils\u001b[49m\u001b[38;5;241;43m.\u001b[39;49m\u001b[43membedding\u001b[49m\u001b[43m(\u001b[49m\u001b[43madata_q\u001b[49m\u001b[43m,\u001b[49m\n\u001b[1;32m      2\u001b[0m \u001b[43m                   \u001b[49m\u001b[43mbasis\u001b[49m\u001b[38;5;241;43m=\u001b[39;49m\u001b[43mov\u001b[49m\u001b[38;5;241;43m.\u001b[39;49m\u001b[43mutils\u001b[49m\u001b[38;5;241;43m.\u001b[39;49m\u001b[43mmde\u001b[49m\u001b[43m(\u001b[49m\u001b[43madata\u001b[49m\u001b[38;5;241;43m.\u001b[39;49m\u001b[43mobsm\u001b[49m\u001b[43m[\u001b[49m\u001b[38;5;124;43m\"\u001b[39;49m\u001b[38;5;124;43mscaled|original|X_pca\u001b[39;49m\u001b[38;5;124;43m\"\u001b[39;49m\u001b[43m]\u001b[49m\u001b[43m)\u001b[49m\u001b[43m,\u001b[49m\n\u001b[1;32m      3\u001b[0m \u001b[43m                   \u001b[49m\u001b[43mcolor\u001b[49m\u001b[38;5;241;43m=\u001b[39;49m\u001b[43m[\u001b[49m\u001b[38;5;124;43m'\u001b[39;49m\u001b[38;5;124;43mleiden\u001b[39;49m\u001b[38;5;124;43m'\u001b[39;49m\u001b[43m,\u001b[49m\u001b[38;5;124;43m'\u001b[39;49m\u001b[38;5;124;43mscsa_celltype_cellmarker\u001b[39;49m\u001b[38;5;124;43m'\u001b[39;49m\u001b[43m,\u001b[49m\u001b[38;5;124;43m'\u001b[39;49m\u001b[38;5;124;43mscsa_celltype_panglaodb\u001b[39;49m\u001b[38;5;124;43m'\u001b[39;49m\u001b[43m]\u001b[49m\u001b[43m,\u001b[49m\u001b[43m \u001b[49m\n\u001b[1;32m      4\u001b[0m \u001b[43m                   \u001b[49m\u001b[43mlegend_loc\u001b[49m\u001b[38;5;241;43m=\u001b[39;49m\u001b[38;5;124;43m'\u001b[39;49m\u001b[38;5;124;43mon data\u001b[39;49m\u001b[38;5;124;43m'\u001b[39;49m\u001b[43m,\u001b[49m\u001b[43m \u001b[49m\n\u001b[1;32m      5\u001b[0m \u001b[43m                   \u001b[49m\u001b[43mframeon\u001b[49m\u001b[38;5;241;43m=\u001b[39;49m\u001b[38;5;124;43m'\u001b[39;49m\u001b[38;5;124;43msmall\u001b[39;49m\u001b[38;5;124;43m'\u001b[39;49m\u001b[43m,\u001b[49m\n\u001b[1;32m      6\u001b[0m \u001b[43m                   \u001b[49m\u001b[43mlegend_fontoutline\u001b[49m\u001b[38;5;241;43m=\u001b[39;49m\u001b[38;5;241;43m2\u001b[39;49m\u001b[43m,\u001b[49m\n\u001b[1;32m      7\u001b[0m \u001b[43m                   \u001b[49m\u001b[43mpalette\u001b[49m\u001b[38;5;241;43m=\u001b[39;49m\u001b[43mov\u001b[49m\u001b[38;5;241;43m.\u001b[39;49m\u001b[43mutils\u001b[49m\u001b[38;5;241;43m.\u001b[39;49m\u001b[43mpalette\u001b[49m\u001b[43m(\u001b[49m\u001b[43m)\u001b[49m\u001b[43m[\u001b[49m\u001b[38;5;241;43m14\u001b[39;49m\u001b[43m:\u001b[49m\u001b[43m]\u001b[49m\u001b[43m,\u001b[49m\n\u001b[1;32m      8\u001b[0m \u001b[43m                  \u001b[49m\u001b[43m)\u001b[49m\n",
      "File \u001b[0;32m/usr/local/lib/python3.8/dist-packages/omicverse/utils/_scatterplot.py:129\u001b[0m, in \u001b[0;36membedding\u001b[0;34m(adata, basis, color, gene_symbols, use_raw, sort_order, edges, edges_width, edges_color, neighbors_key, arrows, arrows_kwds, groups, components, dimensions, layer, projection, scale_factor, color_map, cmap, palette, na_color, na_in_legend, size, frameon, legend_fontsize, legend_fontweight, legend_loc, legend_fontoutline, colorbar_loc, vmax, vmin, vcenter, norm, add_outline, outline_width, outline_color, ncols, hspace, wspace, title, show, save, ax, return_fig, marker, **kwargs)\u001b[0m\n\u001b[1;32m    126\u001b[0m check_projection(projection)\n\u001b[1;32m    127\u001b[0m sanitize_anndata(adata)\n\u001b[0;32m--> 129\u001b[0m basis_values \u001b[38;5;241m=\u001b[39m \u001b[43m_get_basis\u001b[49m\u001b[43m(\u001b[49m\u001b[43madata\u001b[49m\u001b[43m,\u001b[49m\u001b[43m \u001b[49m\u001b[43mbasis\u001b[49m\u001b[43m)\u001b[49m\n\u001b[1;32m    130\u001b[0m dimensions \u001b[38;5;241m=\u001b[39m _components_to_dimensions(\n\u001b[1;32m    131\u001b[0m     components, dimensions, projection\u001b[38;5;241m=\u001b[39mprojection, total_dims\u001b[38;5;241m=\u001b[39mbasis_values\u001b[38;5;241m.\u001b[39mshape[\u001b[38;5;241m1\u001b[39m]\n\u001b[1;32m    132\u001b[0m )\n\u001b[1;32m    133\u001b[0m args_3d \u001b[38;5;241m=\u001b[39m \u001b[38;5;28mdict\u001b[39m(projection\u001b[38;5;241m=\u001b[39m\u001b[38;5;124m'\u001b[39m\u001b[38;5;124m3d\u001b[39m\u001b[38;5;124m'\u001b[39m) \u001b[38;5;28;01mif\u001b[39;00m projection \u001b[38;5;241m==\u001b[39m \u001b[38;5;124m'\u001b[39m\u001b[38;5;124m3d\u001b[39m\u001b[38;5;124m'\u001b[39m \u001b[38;5;28;01melse\u001b[39;00m {}\n",
      "File \u001b[0;32m/usr/local/lib/python3.8/dist-packages/omicverse/utils/_scatterplot.py:1181\u001b[0m, in \u001b[0;36m_get_basis\u001b[0;34m(adata, basis)\u001b[0m\n\u001b[1;32m   1179\u001b[0m \u001b[38;5;28;01mdef\u001b[39;00m \u001b[38;5;21m_get_basis\u001b[39m(adata: AnnData, basis: \u001b[38;5;28mstr\u001b[39m) \u001b[38;5;241m-\u001b[39m\u001b[38;5;241m>\u001b[39m np\u001b[38;5;241m.\u001b[39mndarray:\n\u001b[1;32m   1180\u001b[0m \u001b[38;5;250m    \u001b[39m\u001b[38;5;124;03m\"\"\"Get array for basis from anndata. Just tries to add 'X_'.\"\"\"\u001b[39;00m\n\u001b[0;32m-> 1181\u001b[0m     \u001b[38;5;28;01mif\u001b[39;00m \u001b[43mbasis\u001b[49m\u001b[43m \u001b[49m\u001b[38;5;129;43;01min\u001b[39;49;00m\u001b[43m \u001b[49m\u001b[43madata\u001b[49m\u001b[38;5;241;43m.\u001b[39;49m\u001b[43mobsm\u001b[49m:\n\u001b[1;32m   1182\u001b[0m         \u001b[38;5;28;01mreturn\u001b[39;00m adata\u001b[38;5;241m.\u001b[39mobsm[basis]\n\u001b[1;32m   1183\u001b[0m     \u001b[38;5;28;01melif\u001b[39;00m \u001b[38;5;124mf\u001b[39m\u001b[38;5;124m\"\u001b[39m\u001b[38;5;124mX_\u001b[39m\u001b[38;5;132;01m{\u001b[39;00mbasis\u001b[38;5;132;01m}\u001b[39;00m\u001b[38;5;124m\"\u001b[39m \u001b[38;5;129;01min\u001b[39;00m adata\u001b[38;5;241m.\u001b[39mobsm:\n",
      "File \u001b[0;32m/usr/local/lib/python3.8/dist-packages/anndata/_core/aligned_mapping.py:185\u001b[0m, in \u001b[0;36mAlignedActualMixin.__contains__\u001b[0;34m(self, key)\u001b[0m\n\u001b[1;32m    184\u001b[0m \u001b[38;5;28;01mdef\u001b[39;00m \u001b[38;5;21m__contains__\u001b[39m(\u001b[38;5;28mself\u001b[39m, key: \u001b[38;5;28mstr\u001b[39m) \u001b[38;5;241m-\u001b[39m\u001b[38;5;241m>\u001b[39m \u001b[38;5;28mbool\u001b[39m:\n\u001b[0;32m--> 185\u001b[0m     \u001b[38;5;28;01mreturn\u001b[39;00m \u001b[43mkey\u001b[49m\u001b[43m \u001b[49m\u001b[38;5;129;43;01min\u001b[39;49;00m\u001b[43m \u001b[49m\u001b[38;5;28;43mself\u001b[39;49m\u001b[38;5;241;43m.\u001b[39;49m\u001b[43m_data\u001b[49m\n",
      "\u001b[0;31mTypeError\u001b[0m: unhashable type: 'numpy.ndarray'"
     ]
    }
   ],
   "source": [
    "ov.utils.embedding(adata_q,\n",
    "                   basis=ov.utils.mde(adata.obsm[\"scaled|original|X_pca\"]),## 这里不知道为啥找不到\n",
    "                   color=['leiden','scsa_celltype_cellmarker','scsa_celltype_panglaodb'], \n",
    "                   legend_loc='on data', \n",
    "                   frameon='small',\n",
    "                   legend_fontoutline=2,\n",
    "                   palette=ov.utils.palette()[14:],\n",
    "                  )"
   ]
  },
  {
   "cell_type": "code",
   "execution_count": 31,
   "id": "5cdcce09-c2ca-425c-b035-3fa436873731",
   "metadata": {
    "collapsed": true,
    "jupyter": {
     "outputs_hidden": true
    }
   },
   "outputs": [
    {
     "ename": "KeyError",
     "evalue": "\"Could not find 'X_mde' or 'X_X_mde' in .obsm\"",
     "output_type": "error",
     "traceback": [
      "\u001b[0;31m---------------------------------------------------------------------------\u001b[0m",
      "\u001b[0;31mKeyError\u001b[0m                                  Traceback (most recent call last)",
      "Cell \u001b[0;32mIn[31], line 1\u001b[0m\n\u001b[0;32m----> 1\u001b[0m \u001b[43mov\u001b[49m\u001b[38;5;241;43m.\u001b[39;49m\u001b[43mutils\u001b[49m\u001b[38;5;241;43m.\u001b[39;49m\u001b[43membedding\u001b[49m\u001b[43m(\u001b[49m\u001b[43madata_q\u001b[49m\u001b[43m,\u001b[49m\n\u001b[1;32m      2\u001b[0m \u001b[43m                   \u001b[49m\u001b[43mbasis\u001b[49m\u001b[38;5;241;43m=\u001b[39;49m\u001b[38;5;124;43m'\u001b[39;49m\u001b[38;5;124;43mX_mde\u001b[39;49m\u001b[38;5;124;43m'\u001b[39;49m\u001b[43m,\u001b[49m\n\u001b[1;32m      3\u001b[0m \u001b[43m                   \u001b[49m\u001b[43mcolor\u001b[49m\u001b[38;5;241;43m=\u001b[39;49m\u001b[43m[\u001b[49m\u001b[38;5;124;43m'\u001b[39;49m\u001b[38;5;124;43mleiden\u001b[39;49m\u001b[38;5;124;43m'\u001b[39;49m\u001b[43m,\u001b[49m\u001b[38;5;124;43m'\u001b[39;49m\u001b[38;5;124;43mscsa_celltype_cellmarker\u001b[39;49m\u001b[38;5;124;43m'\u001b[39;49m\u001b[43m,\u001b[49m\u001b[38;5;124;43m'\u001b[39;49m\u001b[38;5;124;43mscsa_celltype_panglaodb\u001b[39;49m\u001b[38;5;124;43m'\u001b[39;49m\u001b[43m]\u001b[49m\u001b[43m,\u001b[49m\u001b[43m \u001b[49m\n\u001b[1;32m      4\u001b[0m \u001b[43m                   \u001b[49m\u001b[43mlegend_loc\u001b[49m\u001b[38;5;241;43m=\u001b[39;49m\u001b[38;5;124;43m'\u001b[39;49m\u001b[38;5;124;43mon data\u001b[39;49m\u001b[38;5;124;43m'\u001b[39;49m\u001b[43m,\u001b[49m\u001b[43m \u001b[49m\n\u001b[1;32m      5\u001b[0m \u001b[43m                   \u001b[49m\u001b[43mframeon\u001b[49m\u001b[38;5;241;43m=\u001b[39;49m\u001b[38;5;124;43m'\u001b[39;49m\u001b[38;5;124;43msmall\u001b[39;49m\u001b[38;5;124;43m'\u001b[39;49m\u001b[43m,\u001b[49m\n\u001b[1;32m      6\u001b[0m \u001b[43m                   \u001b[49m\u001b[43mlegend_fontoutline\u001b[49m\u001b[38;5;241;43m=\u001b[39;49m\u001b[38;5;241;43m2\u001b[39;49m\u001b[43m,\u001b[49m\n\u001b[1;32m      7\u001b[0m \u001b[43m                   \u001b[49m\u001b[43mpalette\u001b[49m\u001b[38;5;241;43m=\u001b[39;49m\u001b[43mov\u001b[49m\u001b[38;5;241;43m.\u001b[39;49m\u001b[43mutils\u001b[49m\u001b[38;5;241;43m.\u001b[39;49m\u001b[43mpalette\u001b[49m\u001b[43m(\u001b[49m\u001b[43m)\u001b[49m\u001b[43m[\u001b[49m\u001b[38;5;241;43m14\u001b[39;49m\u001b[43m:\u001b[49m\u001b[43m]\u001b[49m\u001b[43m,\u001b[49m\n\u001b[1;32m      8\u001b[0m \u001b[43m                  \u001b[49m\u001b[43m)\u001b[49m\n",
      "File \u001b[0;32m/usr/local/lib/python3.8/dist-packages/omicverse/utils/_scatterplot.py:129\u001b[0m, in \u001b[0;36membedding\u001b[0;34m(adata, basis, color, gene_symbols, use_raw, sort_order, edges, edges_width, edges_color, neighbors_key, arrows, arrows_kwds, groups, components, dimensions, layer, projection, scale_factor, color_map, cmap, palette, na_color, na_in_legend, size, frameon, legend_fontsize, legend_fontweight, legend_loc, legend_fontoutline, colorbar_loc, vmax, vmin, vcenter, norm, add_outline, outline_width, outline_color, ncols, hspace, wspace, title, show, save, ax, return_fig, marker, **kwargs)\u001b[0m\n\u001b[1;32m    126\u001b[0m check_projection(projection)\n\u001b[1;32m    127\u001b[0m sanitize_anndata(adata)\n\u001b[0;32m--> 129\u001b[0m basis_values \u001b[38;5;241m=\u001b[39m \u001b[43m_get_basis\u001b[49m\u001b[43m(\u001b[49m\u001b[43madata\u001b[49m\u001b[43m,\u001b[49m\u001b[43m \u001b[49m\u001b[43mbasis\u001b[49m\u001b[43m)\u001b[49m\n\u001b[1;32m    130\u001b[0m dimensions \u001b[38;5;241m=\u001b[39m _components_to_dimensions(\n\u001b[1;32m    131\u001b[0m     components, dimensions, projection\u001b[38;5;241m=\u001b[39mprojection, total_dims\u001b[38;5;241m=\u001b[39mbasis_values\u001b[38;5;241m.\u001b[39mshape[\u001b[38;5;241m1\u001b[39m]\n\u001b[1;32m    132\u001b[0m )\n\u001b[1;32m    133\u001b[0m args_3d \u001b[38;5;241m=\u001b[39m \u001b[38;5;28mdict\u001b[39m(projection\u001b[38;5;241m=\u001b[39m\u001b[38;5;124m'\u001b[39m\u001b[38;5;124m3d\u001b[39m\u001b[38;5;124m'\u001b[39m) \u001b[38;5;28;01mif\u001b[39;00m projection \u001b[38;5;241m==\u001b[39m \u001b[38;5;124m'\u001b[39m\u001b[38;5;124m3d\u001b[39m\u001b[38;5;124m'\u001b[39m \u001b[38;5;28;01melse\u001b[39;00m {}\n",
      "File \u001b[0;32m/usr/local/lib/python3.8/dist-packages/omicverse/utils/_scatterplot.py:1186\u001b[0m, in \u001b[0;36m_get_basis\u001b[0;34m(adata, basis)\u001b[0m\n\u001b[1;32m   1184\u001b[0m     \u001b[38;5;28;01mreturn\u001b[39;00m adata\u001b[38;5;241m.\u001b[39mobsm[\u001b[38;5;124mf\u001b[39m\u001b[38;5;124m\"\u001b[39m\u001b[38;5;124mX_\u001b[39m\u001b[38;5;132;01m{\u001b[39;00mbasis\u001b[38;5;132;01m}\u001b[39;00m\u001b[38;5;124m\"\u001b[39m]\n\u001b[1;32m   1185\u001b[0m \u001b[38;5;28;01melse\u001b[39;00m:\n\u001b[0;32m-> 1186\u001b[0m     \u001b[38;5;28;01mraise\u001b[39;00m \u001b[38;5;167;01mKeyError\u001b[39;00m(\u001b[38;5;124mf\u001b[39m\u001b[38;5;124m\"\u001b[39m\u001b[38;5;124mCould not find \u001b[39m\u001b[38;5;124m'\u001b[39m\u001b[38;5;132;01m{\u001b[39;00mbasis\u001b[38;5;132;01m}\u001b[39;00m\u001b[38;5;124m'\u001b[39m\u001b[38;5;124m or \u001b[39m\u001b[38;5;124m'\u001b[39m\u001b[38;5;124mX_\u001b[39m\u001b[38;5;132;01m{\u001b[39;00mbasis\u001b[38;5;132;01m}\u001b[39;00m\u001b[38;5;124m'\u001b[39m\u001b[38;5;124m in .obsm\u001b[39m\u001b[38;5;124m\"\u001b[39m)\n",
      "\u001b[0;31mKeyError\u001b[0m: \"Could not find 'X_mde' or 'X_X_mde' in .obsm\""
     ]
    }
   ],
   "source": [
    "ov.utils.embedding(adata_q,\n",
    "                   basis='X_mde',\n",
    "                   color=['leiden','scsa_celltype_cellmarker','scsa_celltype_panglaodb'], \n",
    "                   legend_loc='on data', \n",
    "                   frameon='small',\n",
    "                   legend_fontoutline=2,\n",
    "                   palette=ov.utils.palette()[14:],\n",
    "                  )"
   ]
  },
  {
   "cell_type": "code",
   "execution_count": null,
   "id": "42354cad-6844-4e21-95ab-9aa878aaae2d",
   "metadata": {},
   "outputs": [],
   "source": []
  }
 ],
 "metadata": {
  "kernelspec": {
   "display_name": "Python 3 (ipykernel)",
   "language": "python",
   "name": "python3"
  },
  "language_info": {
   "codemirror_mode": {
    "name": "ipython",
    "version": 3
   },
   "file_extension": ".py",
   "mimetype": "text/x-python",
   "name": "python",
   "nbconvert_exporter": "python",
   "pygments_lexer": "ipython3",
   "version": "3.8.10"
  }
 },
 "nbformat": 4,
 "nbformat_minor": 5
}
