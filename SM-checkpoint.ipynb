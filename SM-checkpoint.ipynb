{
 "cells": [
  {
   "cell_type": "code",
   "execution_count": 1,
   "id": "f4293ded-25a3-461e-b400-641a50803297",
   "metadata": {},
   "outputs": [
    {
     "name": "stdout",
     "output_type": "stream",
     "text": [
      "total 4\n",
      "-rw-r--r-- 1 root 72 Apr 11  2024 Untitled.ipynb\n"
     ]
    }
   ],
   "source": [
    "ll"
   ]
  },
  {
   "cell_type": "code",
   "execution_count": 2,
   "id": "d58647e4-6e12-4b7e-ade8-cb34c99970b3",
   "metadata": {},
   "outputs": [
    {
     "data": {
      "text/plain": [
       "'/root/notebooks'"
      ]
     },
     "execution_count": 2,
     "metadata": {},
     "output_type": "execute_result"
    }
   ],
   "source": [
    "pwd"
   ]
  },
  {
   "cell_type": "code",
   "execution_count": 3,
   "id": "2654df07-aa85-4827-a5d6-53441a78dbf0",
   "metadata": {},
   "outputs": [
    {
     "name": "stdout",
     "output_type": "stream",
     "text": [
      "total 4\n",
      "-rw-r--r-- 1 root 72 Apr 11 16:52 Untitled.ipynb\n"
     ]
    }
   ],
   "source": [
    "ll"
   ]
  },
  {
   "cell_type": "code",
   "execution_count": 4,
   "id": "e9be743e-6d81-497e-b3a2-5c2575796dde",
   "metadata": {},
   "outputs": [
    {
     "name": "stdout",
     "output_type": "stream",
     "text": [
      "total 20\n",
      "drwxrwxrwx 1 22954 5000 4096 Apr 11 16:52 \u001b[0m\u001b[34;42m.\u001b[0m/\n",
      "drwx------ 1 root  root 4096 Apr 11 16:52 \u001b[01;34m..\u001b[0m/\n",
      "drwxr-xr-x 1 root  root 4096 Apr 11 16:52 \u001b[01;34m.ipynb_checkpoints\u001b[0m/\n",
      "drwxr-xr-x 1 root  root 4096 Apr 11 16:52 \u001b[01;34m.virtual_documents\u001b[0m/\n",
      "-rw-r--r-- 1 root  root   72 Apr 11 16:52 Untitled.ipynb\n"
     ]
    }
   ],
   "source": [
    "ls -la"
   ]
  },
  {
   "cell_type": "code",
   "execution_count": 6,
   "id": "a5ef2209-4515-4f19-802e-6153ab184229",
   "metadata": {},
   "outputs": [
    {
     "name": "stdout",
     "output_type": "stream",
     "text": [
      "/\n"
     ]
    }
   ],
   "source": [
    "cd /"
   ]
  },
  {
   "cell_type": "code",
   "execution_count": 7,
   "id": "35598e64-9f93-47a3-be64-7c9a610901a4",
   "metadata": {},
   "outputs": [
    {
     "name": "stdout",
     "output_type": "stream",
     "text": [
      "total 52\n",
      "-rw-r--r--   1 root    0 Apr 10 10:48 '=0.25.7'\n",
      "lrwxrwxrwx   1 root    7 Feb 16 16:22  \u001b[0m\u001b[01;36mbin\u001b[0m -> \u001b[01;34musr/bin\u001b[0m/\n",
      "drwxr-xr-x   2 root 4096 Apr 15  2020  \u001b[01;34mboot\u001b[0m/\n",
      "drwxr-xr-x   5 root  340 Apr 11 16:48  \u001b[01;34mdev\u001b[0m/\n",
      "drwxr-xr-x   1 root 4096 Apr 11 16:48  \u001b[01;34metc\u001b[0m/\n",
      "drwxr-xr-x   2 root 4096 Apr 15  2020  \u001b[01;34mhome\u001b[0m/\n",
      "lrwxrwxrwx   1 root    7 Feb 16 16:22  \u001b[01;36mlib\u001b[0m -> \u001b[01;34musr/lib\u001b[0m/\n",
      "lrwxrwxrwx   1 root    9 Feb 16 16:22  \u001b[01;36mlib32\u001b[0m -> \u001b[01;34musr/lib32\u001b[0m/\n",
      "lrwxrwxrwx   1 root    9 Feb 16 16:22  \u001b[01;36mlib64\u001b[0m -> \u001b[01;34musr/lib64\u001b[0m/\n",
      "lrwxrwxrwx   1 root   10 Feb 16 16:22  \u001b[01;36mlibx32\u001b[0m -> \u001b[01;34musr/libx32\u001b[0m/\n",
      "drwxr-xr-x   2 root 4096 Feb 16 16:23  \u001b[01;34mmedia\u001b[0m/\n",
      "drwxr-xr-x   2 root 4096 Feb 16 16:23  \u001b[01;34mmnt\u001b[0m/\n",
      "drwxr-xr-x   1 root 4096 Apr 10 10:51  \u001b[01;34mopt\u001b[0m/\n",
      "dr-xr-xr-x 524 root    0 Apr 11 16:48  \u001b[01;34mproc\u001b[0m/\n",
      "drwx------   1 root 4096 Apr 11 16:52  \u001b[01;34mroot\u001b[0m/\n",
      "drwxr-xr-x   1 root 4096 Mar 21 18:16  \u001b[01;34mrun\u001b[0m/\n",
      "lrwxrwxrwx   1 root    8 Feb 16 16:22  \u001b[01;36msbin\u001b[0m -> \u001b[01;34musr/sbin\u001b[0m/\n",
      "drwxr-xr-x   2 root 4096 Feb 16 16:23  \u001b[01;34msrv\u001b[0m/\n",
      "drwxr-xr-x   1 root 4096 Mar 21 18:28  \u001b[01;34mstereopy\u001b[0m/\n",
      "dr-xr-xr-x  13 root    0 Apr 11 16:48  \u001b[01;34msys\u001b[0m/\n",
      "drwxrwxrwt   1 root 4096 Apr 11 16:52  \u001b[30;42mtmp\u001b[0m/\n",
      "drwxr-xr-x   1 root 4096 Apr 10 10:49  \u001b[01;34musr\u001b[0m/\n",
      "drwxr-xr-x   1 root 4096 Feb 16 16:26  \u001b[01;34mvar\u001b[0m/\n"
     ]
    }
   ],
   "source": [
    "ll"
   ]
  },
  {
   "cell_type": "code",
   "execution_count": 8,
   "id": "4952eac7-2081-48b1-adec-0094e464d861",
   "metadata": {},
   "outputs": [
    {
     "name": "stdout",
     "output_type": "stream",
     "text": [
      "total 52\n",
      "-rw-r--r--   1 root    0 Apr 10 10:48 '=0.25.7'\n",
      "lrwxrwxrwx   1 root    7 Feb 16 16:22  \u001b[0m\u001b[01;36mbin\u001b[0m -> \u001b[01;34musr/bin\u001b[0m/\n",
      "drwxr-xr-x   2 root 4096 Apr 15  2020  \u001b[01;34mboot\u001b[0m/\n",
      "drwxr-xr-x   5 root  340 Apr 11 16:48  \u001b[01;34mdev\u001b[0m/\n",
      "drwxr-xr-x   1 root 4096 Apr 11 16:48  \u001b[01;34metc\u001b[0m/\n",
      "drwxr-xr-x   2 root 4096 Apr 15  2020  \u001b[01;34mhome\u001b[0m/\n",
      "lrwxrwxrwx   1 root    7 Feb 16 16:22  \u001b[01;36mlib\u001b[0m -> \u001b[01;34musr/lib\u001b[0m/\n",
      "lrwxrwxrwx   1 root    9 Feb 16 16:22  \u001b[01;36mlib32\u001b[0m -> \u001b[01;34musr/lib32\u001b[0m/\n",
      "lrwxrwxrwx   1 root    9 Feb 16 16:22  \u001b[01;36mlib64\u001b[0m -> \u001b[01;34musr/lib64\u001b[0m/\n",
      "lrwxrwxrwx   1 root   10 Feb 16 16:22  \u001b[01;36mlibx32\u001b[0m -> \u001b[01;34musr/libx32\u001b[0m/\n",
      "drwxr-xr-x   2 root 4096 Feb 16 16:23  \u001b[01;34mmedia\u001b[0m/\n",
      "drwxr-xr-x   2 root 4096 Feb 16 16:23  \u001b[01;34mmnt\u001b[0m/\n",
      "drwxr-xr-x   1 root 4096 Apr 10 10:51  \u001b[01;34mopt\u001b[0m/\n",
      "dr-xr-xr-x 524 root    0 Apr 11 16:48  \u001b[01;34mproc\u001b[0m/\n",
      "drwx------   1 root 4096 Apr 11 16:52  \u001b[01;34mroot\u001b[0m/\n",
      "drwxr-xr-x   1 root 4096 Mar 21 18:16  \u001b[01;34mrun\u001b[0m/\n",
      "lrwxrwxrwx   1 root    8 Feb 16 16:22  \u001b[01;36msbin\u001b[0m -> \u001b[01;34musr/sbin\u001b[0m/\n",
      "drwxr-xr-x   2 root 4096 Feb 16 16:23  \u001b[01;34msrv\u001b[0m/\n",
      "drwxr-xr-x   1 root 4096 Mar 21 18:28  \u001b[01;34mstereopy\u001b[0m/\n",
      "dr-xr-xr-x  13 root    0 Apr 11 16:54  \u001b[01;34msys\u001b[0m/\n",
      "drwxrwxrwt   1 root 4096 Apr 11 16:52  \u001b[30;42mtmp\u001b[0m/\n",
      "drwxr-xr-x   1 root 4096 Apr 10 10:49  \u001b[01;34musr\u001b[0m/\n",
      "drwxr-xr-x   1 root 4096 Feb 16 16:26  \u001b[01;34mvar\u001b[0m/\n"
     ]
    }
   ],
   "source": [
    "ll"
   ]
  },
  {
   "cell_type": "code",
   "execution_count": 9,
   "id": "109182c3-fba1-405f-8f7e-233cb0ba30ba",
   "metadata": {},
   "outputs": [
    {
     "name": "stdout",
     "output_type": "stream",
     "text": [
      "/mnt\n"
     ]
    }
   ],
   "source": [
    "cd mnt/"
   ]
  },
  {
   "cell_type": "code",
   "execution_count": 10,
   "id": "79e8b592-73a8-4ad4-9054-ef50ab4d5ea6",
   "metadata": {},
   "outputs": [
    {
     "name": "stdout",
     "output_type": "stream",
     "text": [
      "total 0\n"
     ]
    }
   ],
   "source": [
    "ll"
   ]
  },
  {
   "cell_type": "code",
   "execution_count": 11,
   "id": "3173b4dc-1d8d-4c6a-9c08-b4d1ea24f814",
   "metadata": {},
   "outputs": [
    {
     "name": "stdout",
     "output_type": "stream",
     "text": [
      "/home\n"
     ]
    }
   ],
   "source": [
    "cd /home/"
   ]
  },
  {
   "cell_type": "code",
   "execution_count": 12,
   "id": "29eb0694-ae4a-4668-972c-50d6d8b87729",
   "metadata": {},
   "outputs": [
    {
     "name": "stdout",
     "output_type": "stream",
     "text": [
      "total 0\n"
     ]
    }
   ],
   "source": [
    "ll\n"
   ]
  },
  {
   "cell_type": "code",
   "execution_count": 13,
   "id": "fefd3aa5-de75-48ee-999f-68eea01f3de8",
   "metadata": {},
   "outputs": [
    {
     "data": {
      "text/plain": [
       "'/home'"
      ]
     },
     "execution_count": 13,
     "metadata": {},
     "output_type": "execute_result"
    }
   ],
   "source": [
    "pwd\n"
   ]
  },
  {
   "cell_type": "code",
   "execution_count": 14,
   "id": "c7da561d-b64d-4509-be28-6478c6cae6ae",
   "metadata": {},
   "outputs": [
    {
     "name": "stdout",
     "output_type": "stream",
     "text": [
      "\n",
      "   ____            _     _    __                  \n",
      "  / __ \\____ ___  (_)___| |  / /__  _____________ \n",
      " / / / / __ `__ \\/ / ___/ | / / _ \\/ ___/ ___/ _ \\ \n",
      "/ /_/ / / / / / / / /__ | |/ /  __/ /  (__  )  __/ \n",
      "\\____/_/ /_/ /_/_/\\___/ |___/\\___/_/  /____/\\___/                                              \n",
      "\n",
      "Version: 1.5.8, Tutorials: https://omicverse.readthedocs.io/\n"
     ]
    }
   ],
   "source": [
    "import omicverse as ov\n",
    "import scanpy as sc\n",
    "ov.ov_plot_set()\n"
   ]
  },
  {
   "cell_type": "code",
   "execution_count": 15,
   "id": "29faec32-053e-49fc-8ce4-e45de68ccc10",
   "metadata": {},
   "outputs": [
    {
     "name": "stdout",
     "output_type": "stream",
     "text": [
      "total 0\n"
     ]
    }
   ],
   "source": [
    "ll"
   ]
  },
  {
   "cell_type": "code",
   "execution_count": 21,
   "id": "25d8dff9-669e-4011-a057-f232bc5f12c7",
   "metadata": {},
   "outputs": [
    {
     "name": "stdout",
     "output_type": "stream",
     "text": [
      "--2024-04-11 17:12:51--  http://cf.10xgenomics.com/samples/cell-exp/1.1.0/pbmc3k/pbmc3k_filtered_gene_bc_matrices.tar.gz\n",
      "Resolving cf.10xgenomics.com (cf.10xgenomics.com)... 104.18.0.173, 104.18.1.173, 2606:4700::6812:ad, ...\n",
      "Connecting to cf.10xgenomics.com (cf.10xgenomics.com)|104.18.0.173|:80... connected.\n",
      "HTTP request sent, awaiting response... 301 Moved Permanently\n",
      "Location: https://cf.10xgenomics.com/samples/cell-exp/1.1.0/pbmc3k/pbmc3k_filtered_gene_bc_matrices.tar.gz [following]\n",
      "--2024-04-11 17:12:54--  https://cf.10xgenomics.com/samples/cell-exp/1.1.0/pbmc3k/pbmc3k_filtered_gene_bc_matrices.tar.gz\n",
      "Connecting to cf.10xgenomics.com (cf.10xgenomics.com)|104.18.0.173|:443... connected.\n",
      "HTTP request sent, awaiting response... 200 OK\n",
      "Length: 7621991 (7.3M) [application/x-tar]\n",
      "Saving to: ‘data/pbmc3k_filtered_gene_bc_matrices.tar.gz’\n",
      "\n",
      "data/pbmc3k_filtere 100%[===================>]   7.27M  1.12MB/s    in 6.5s    \n",
      "\n",
      "2024-04-11 17:13:03 (1.12 MB/s) - ‘data/pbmc3k_filtered_gene_bc_matrices.tar.gz’ saved [7621991/7621991]\n",
      "\n"
     ]
    }
   ],
   "source": [
    "!mkdir data\n",
    "!wget http://cf.10xgenomics.com/samples/cell-exp/1.1.0/pbmc3k/pbmc3k_filtered_gene_bc_matrices.tar.gz -O data/pbmc3k_filtered_gene_bc_matrices.tar.gz\n",
    "!cd data; tar -xzf pbmc3k_filtered_gene_bc_matrices.tar.gz\n",
    "!mkdir write"
   ]
  },
  {
   "cell_type": "code",
   "execution_count": 22,
   "id": "b6c5fd9b-6da3-4822-92f4-a8bb575c389f",
   "metadata": {},
   "outputs": [
    {
     "name": "stdout",
     "output_type": "stream",
     "text": [
      "total 8\n",
      "drwxr-xr-x 3 root 4096 Apr 11 17:13 \u001b[0m\u001b[01;34mdata\u001b[0m/\n",
      "drwxr-xr-x 2 root 4096 Apr 11 17:13 \u001b[01;34mwrite\u001b[0m/\n"
     ]
    }
   ],
   "source": [
    "ll"
   ]
  },
  {
   "cell_type": "code",
   "execution_count": 23,
   "id": "80717611-f121-4ae4-b7f5-82203ee933ae",
   "metadata": {},
   "outputs": [
    {
     "name": "stdout",
     "output_type": "stream",
     "text": [
      "/\n"
     ]
    }
   ],
   "source": [
    "cd /"
   ]
  },
  {
   "cell_type": "code",
   "execution_count": 24,
   "id": "4bfe5f3a-6fc7-440d-9933-8519d62c2fad",
   "metadata": {},
   "outputs": [
    {
     "name": "stdout",
     "output_type": "stream",
     "text": [
      "total 52\n",
      "-rw-r--r--   1 root    0 Apr 10 10:48 '=0.25.7'\n",
      "lrwxrwxrwx   1 root    7 Feb 16 16:22  \u001b[0m\u001b[01;36mbin\u001b[0m -> \u001b[01;34musr/bin\u001b[0m/\n",
      "drwxr-xr-x   2 root 4096 Apr 15  2020  \u001b[01;34mboot\u001b[0m/\n",
      "drwxr-xr-x   5 root  340 Apr 11 16:48  \u001b[01;34mdev\u001b[0m/\n",
      "drwxr-xr-x   1 root 4096 Apr 11 16:48  \u001b[01;34metc\u001b[0m/\n",
      "drwxr-xr-x   2 root 4096 Apr 15  2020  \u001b[01;34mhome\u001b[0m/\n",
      "lrwxrwxrwx   1 root    7 Feb 16 16:22  \u001b[01;36mlib\u001b[0m -> \u001b[01;34musr/lib\u001b[0m/\n",
      "lrwxrwxrwx   1 root    9 Feb 16 16:22  \u001b[01;36mlib32\u001b[0m -> \u001b[01;34musr/lib32\u001b[0m/\n",
      "lrwxrwxrwx   1 root    9 Feb 16 16:22  \u001b[01;36mlib64\u001b[0m -> \u001b[01;34musr/lib64\u001b[0m/\n",
      "lrwxrwxrwx   1 root   10 Feb 16 16:22  \u001b[01;36mlibx32\u001b[0m -> \u001b[01;34musr/libx32\u001b[0m/\n",
      "drwxr-xr-x   2 root 4096 Feb 16 16:23  \u001b[01;34mmedia\u001b[0m/\n",
      "drwxr-xr-x   1 root 4096 Apr 11 17:13  \u001b[01;34mmnt\u001b[0m/\n",
      "drwxr-xr-x   1 root 4096 Apr 10 10:51  \u001b[01;34mopt\u001b[0m/\n",
      "dr-xr-xr-x 531 root    0 Apr 11 16:48  \u001b[01;34mproc\u001b[0m/\n",
      "drwx------   1 root 4096 Apr 11 16:52  \u001b[01;34mroot\u001b[0m/\n",
      "drwxr-xr-x   1 root 4096 Mar 21 18:16  \u001b[01;34mrun\u001b[0m/\n",
      "lrwxrwxrwx   1 root    8 Feb 16 16:22  \u001b[01;36msbin\u001b[0m -> \u001b[01;34musr/sbin\u001b[0m/\n",
      "drwxr-xr-x   2 root 4096 Feb 16 16:23  \u001b[01;34msrv\u001b[0m/\n",
      "drwxr-xr-x   1 root 4096 Mar 21 18:28  \u001b[01;34mstereopy\u001b[0m/\n",
      "dr-xr-xr-x  13 root    0 Apr 11 16:54  \u001b[01;34msys\u001b[0m/\n",
      "drwxrwxrwt   1 root 4096 Apr 11 16:52  \u001b[30;42mtmp\u001b[0m/\n",
      "drwxr-xr-x   1 root 4096 Apr 10 10:49  \u001b[01;34musr\u001b[0m/\n",
      "drwxr-xr-x   1 root 4096 Feb 16 16:26  \u001b[01;34mvar\u001b[0m/\n"
     ]
    }
   ],
   "source": [
    "ll"
   ]
  },
  {
   "cell_type": "code",
   "execution_count": 25,
   "id": "7e7c56b9-da76-48a6-adfd-c31058fc6074",
   "metadata": {},
   "outputs": [
    {
     "name": "stdout",
     "output_type": "stream",
     "text": [
      "[Errno 2] No such file or directory: '/mnt/afs'\n",
      "/\n"
     ]
    }
   ],
   "source": [
    "cd /mnt/afs"
   ]
  },
  {
   "cell_type": "code",
   "execution_count": 26,
   "id": "ca7a91a9-b481-4cc4-bf07-7b1480c0d346",
   "metadata": {},
   "outputs": [
    {
     "name": "stdout",
     "output_type": "stream",
     "text": [
      "total 52\n",
      "-rw-r--r--   1 root    0 Apr 10 10:48 '=0.25.7'\n",
      "lrwxrwxrwx   1 root    7 Feb 16 16:22  \u001b[0m\u001b[01;36mbin\u001b[0m -> \u001b[01;34musr/bin\u001b[0m/\n",
      "drwxr-xr-x   2 root 4096 Apr 15  2020  \u001b[01;34mboot\u001b[0m/\n",
      "drwxr-xr-x   5 root  340 Apr 11 16:48  \u001b[01;34mdev\u001b[0m/\n",
      "drwxr-xr-x   1 root 4096 Apr 11 16:48  \u001b[01;34metc\u001b[0m/\n",
      "drwxr-xr-x   2 root 4096 Apr 15  2020  \u001b[01;34mhome\u001b[0m/\n",
      "lrwxrwxrwx   1 root    7 Feb 16 16:22  \u001b[01;36mlib\u001b[0m -> \u001b[01;34musr/lib\u001b[0m/\n",
      "lrwxrwxrwx   1 root    9 Feb 16 16:22  \u001b[01;36mlib32\u001b[0m -> \u001b[01;34musr/lib32\u001b[0m/\n",
      "lrwxrwxrwx   1 root    9 Feb 16 16:22  \u001b[01;36mlib64\u001b[0m -> \u001b[01;34musr/lib64\u001b[0m/\n",
      "lrwxrwxrwx   1 root   10 Feb 16 16:22  \u001b[01;36mlibx32\u001b[0m -> \u001b[01;34musr/libx32\u001b[0m/\n",
      "drwxr-xr-x   2 root 4096 Feb 16 16:23  \u001b[01;34mmedia\u001b[0m/\n",
      "drwxr-xr-x   1 root 4096 Apr 11 17:13  \u001b[01;34mmnt\u001b[0m/\n",
      "drwxr-xr-x   1 root 4096 Apr 10 10:51  \u001b[01;34mopt\u001b[0m/\n",
      "dr-xr-xr-x 531 root    0 Apr 11 16:48  \u001b[01;34mproc\u001b[0m/\n",
      "drwx------   1 root 4096 Apr 11 16:52  \u001b[01;34mroot\u001b[0m/\n",
      "drwxr-xr-x   1 root 4096 Mar 21 18:16  \u001b[01;34mrun\u001b[0m/\n",
      "lrwxrwxrwx   1 root    8 Feb 16 16:22  \u001b[01;36msbin\u001b[0m -> \u001b[01;34musr/sbin\u001b[0m/\n",
      "drwxr-xr-x   2 root 4096 Feb 16 16:23  \u001b[01;34msrv\u001b[0m/\n",
      "drwxr-xr-x   1 root 4096 Mar 21 18:28  \u001b[01;34mstereopy\u001b[0m/\n",
      "dr-xr-xr-x  13 root    0 Apr 11 16:54  \u001b[01;34msys\u001b[0m/\n",
      "drwxrwxrwt   1 root 4096 Apr 11 16:52  \u001b[30;42mtmp\u001b[0m/\n",
      "drwxr-xr-x   1 root 4096 Apr 10 10:49  \u001b[01;34musr\u001b[0m/\n",
      "drwxr-xr-x   1 root 4096 Feb 16 16:26  \u001b[01;34mvar\u001b[0m/\n"
     ]
    }
   ],
   "source": [
    "ll"
   ]
  },
  {
   "cell_type": "code",
   "execution_count": 27,
   "id": "5f3694d1-a248-418c-8763-abfe792c9b4c",
   "metadata": {},
   "outputs": [
    {
     "name": "stdout",
     "output_type": "stream",
     "text": [
      "[Errno 2] No such file or directory: '/mnt/afs/WHMed/taoyongcheng/jupyter'\n",
      "/\n"
     ]
    }
   ],
   "source": [
    "cd /mnt/afs/WHMed/taoyongcheng/jupyter"
   ]
  },
  {
   "cell_type": "code",
   "execution_count": 28,
   "id": "5c987ea1-01f5-4166-9a97-75127accccb1",
   "metadata": {},
   "outputs": [
    {
     "name": "stdout",
     "output_type": "stream",
     "text": [
      "total 52\n",
      "-rw-r--r--   1 root    0 Apr 10 10:48 '=0.25.7'\n",
      "lrwxrwxrwx   1 root    7 Feb 16 16:22  \u001b[0m\u001b[01;36mbin\u001b[0m -> \u001b[01;34musr/bin\u001b[0m/\n",
      "drwxr-xr-x   2 root 4096 Apr 15  2020  \u001b[01;34mboot\u001b[0m/\n",
      "drwxr-xr-x   5 root  340 Apr 11 16:48  \u001b[01;34mdev\u001b[0m/\n",
      "drwxr-xr-x   1 root 4096 Apr 11 16:48  \u001b[01;34metc\u001b[0m/\n",
      "drwxr-xr-x   2 root 4096 Apr 15  2020  \u001b[01;34mhome\u001b[0m/\n",
      "lrwxrwxrwx   1 root    7 Feb 16 16:22  \u001b[01;36mlib\u001b[0m -> \u001b[01;34musr/lib\u001b[0m/\n",
      "lrwxrwxrwx   1 root    9 Feb 16 16:22  \u001b[01;36mlib32\u001b[0m -> \u001b[01;34musr/lib32\u001b[0m/\n",
      "lrwxrwxrwx   1 root    9 Feb 16 16:22  \u001b[01;36mlib64\u001b[0m -> \u001b[01;34musr/lib64\u001b[0m/\n",
      "lrwxrwxrwx   1 root   10 Feb 16 16:22  \u001b[01;36mlibx32\u001b[0m -> \u001b[01;34musr/libx32\u001b[0m/\n",
      "drwxr-xr-x   2 root 4096 Feb 16 16:23  \u001b[01;34mmedia\u001b[0m/\n",
      "drwxr-xr-x   1 root 4096 Apr 11 17:13  \u001b[01;34mmnt\u001b[0m/\n",
      "drwxr-xr-x   1 root 4096 Apr 10 10:51  \u001b[01;34mopt\u001b[0m/\n",
      "dr-xr-xr-x 531 root    0 Apr 11 16:48  \u001b[01;34mproc\u001b[0m/\n",
      "drwx------   1 root 4096 Apr 11 16:52  \u001b[01;34mroot\u001b[0m/\n",
      "drwxr-xr-x   1 root 4096 Mar 21 18:16  \u001b[01;34mrun\u001b[0m/\n",
      "lrwxrwxrwx   1 root    8 Feb 16 16:22  \u001b[01;36msbin\u001b[0m -> \u001b[01;34musr/sbin\u001b[0m/\n",
      "drwxr-xr-x   2 root 4096 Feb 16 16:23  \u001b[01;34msrv\u001b[0m/\n",
      "drwxr-xr-x   1 root 4096 Mar 21 18:28  \u001b[01;34mstereopy\u001b[0m/\n",
      "dr-xr-xr-x  13 root    0 Apr 11 16:54  \u001b[01;34msys\u001b[0m/\n",
      "drwxrwxrwt   1 root 4096 Apr 11 16:52  \u001b[30;42mtmp\u001b[0m/\n",
      "drwxr-xr-x   1 root 4096 Apr 10 10:49  \u001b[01;34musr\u001b[0m/\n",
      "drwxr-xr-x   1 root 4096 Feb 16 16:26  \u001b[01;34mvar\u001b[0m/\n"
     ]
    }
   ],
   "source": [
    "ll"
   ]
  },
  {
   "cell_type": "code",
   "execution_count": 29,
   "id": "93ee510a-fe39-4ebe-aefa-ff5179e81434",
   "metadata": {},
   "outputs": [
    {
     "name": "stdout",
     "output_type": "stream",
     "text": [
      "total 52\n",
      "-rw-r--r--   1 root    0 Apr 10 10:48 '=0.25.7'\n",
      "lrwxrwxrwx   1 root    7 Feb 16 16:22  \u001b[0m\u001b[01;36mbin\u001b[0m -> \u001b[01;34musr/bin\u001b[0m/\n",
      "drwxr-xr-x   2 root 4096 Apr 15  2020  \u001b[01;34mboot\u001b[0m/\n",
      "drwxr-xr-x   5 root  340 Apr 11 16:48  \u001b[01;34mdev\u001b[0m/\n",
      "drwxr-xr-x   1 root 4096 Apr 11 16:48  \u001b[01;34metc\u001b[0m/\n",
      "drwxr-xr-x   2 root 4096 Apr 15  2020  \u001b[01;34mhome\u001b[0m/\n",
      "lrwxrwxrwx   1 root    7 Feb 16 16:22  \u001b[01;36mlib\u001b[0m -> \u001b[01;34musr/lib\u001b[0m/\n",
      "lrwxrwxrwx   1 root    9 Feb 16 16:22  \u001b[01;36mlib32\u001b[0m -> \u001b[01;34musr/lib32\u001b[0m/\n",
      "lrwxrwxrwx   1 root    9 Feb 16 16:22  \u001b[01;36mlib64\u001b[0m -> \u001b[01;34musr/lib64\u001b[0m/\n",
      "lrwxrwxrwx   1 root   10 Feb 16 16:22  \u001b[01;36mlibx32\u001b[0m -> \u001b[01;34musr/libx32\u001b[0m/\n",
      "drwxr-xr-x   2 root 4096 Feb 16 16:23  \u001b[01;34mmedia\u001b[0m/\n",
      "drwxr-xr-x   1 root 4096 Apr 11 17:13  \u001b[01;34mmnt\u001b[0m/\n",
      "drwxr-xr-x   1 root 4096 Apr 10 10:51  \u001b[01;34mopt\u001b[0m/\n",
      "dr-xr-xr-x 524 root    0 Apr 11 16:48  \u001b[01;34mproc\u001b[0m/\n",
      "drwx------   1 root 4096 Apr 11 16:52  \u001b[01;34mroot\u001b[0m/\n",
      "drwxr-xr-x   1 root 4096 Mar 21 18:16  \u001b[01;34mrun\u001b[0m/\n",
      "lrwxrwxrwx   1 root    8 Feb 16 16:22  \u001b[01;36msbin\u001b[0m -> \u001b[01;34musr/sbin\u001b[0m/\n",
      "drwxr-xr-x   2 root 4096 Feb 16 16:23  \u001b[01;34msrv\u001b[0m/\n",
      "drwxr-xr-x   1 root 4096 Mar 21 18:28  \u001b[01;34mstereopy\u001b[0m/\n",
      "dr-xr-xr-x  13 root    0 Apr 11 16:54  \u001b[01;34msys\u001b[0m/\n",
      "drwxrwxrwt   1 root 4096 Apr 11 16:52  \u001b[30;42mtmp\u001b[0m/\n",
      "drwxr-xr-x   1 root 4096 Apr 10 10:49  \u001b[01;34musr\u001b[0m/\n",
      "drwxr-xr-x   1 root 4096 Feb 16 16:26  \u001b[01;34mvar\u001b[0m/\n"
     ]
    }
   ],
   "source": [
    "ll"
   ]
  },
  {
   "cell_type": "code",
   "execution_count": 30,
   "id": "4f69508e-6d6b-4cb6-a953-69818ce45b9e",
   "metadata": {},
   "outputs": [
    {
     "name": "stdout",
     "output_type": "stream",
     "text": [
      "/mnt\n"
     ]
    }
   ],
   "source": [
    "cd /mnt/"
   ]
  },
  {
   "cell_type": "code",
   "execution_count": 31,
   "id": "f8b6cfb3-c83a-4d61-9035-2952bfa8d3af",
   "metadata": {},
   "outputs": [
    {
     "name": "stdout",
     "output_type": "stream",
     "text": [
      "total 8\n",
      "drwxr-xr-x 3 root 4096 Apr 11 17:13 \u001b[0m\u001b[01;34mdata\u001b[0m/\n",
      "drwxr-xr-x 2 root 4096 Apr 11 17:13 \u001b[01;34mwrite\u001b[0m/\n"
     ]
    }
   ],
   "source": [
    "ll"
   ]
  },
  {
   "cell_type": "code",
   "execution_count": 32,
   "id": "28543e84-ffab-4dec-bc0d-830f5984ee77",
   "metadata": {},
   "outputs": [
    {
     "name": "stdout",
     "output_type": "stream",
     "text": [
      "total 8\n",
      "drwxr-xr-x 3 root 4096 Apr 11 17:13 \u001b[0m\u001b[01;34mdata\u001b[0m/\n",
      "drwxr-xr-x 2 root 4096 Apr 11 17:13 \u001b[01;34mwrite\u001b[0m/\n"
     ]
    }
   ],
   "source": [
    "ll"
   ]
  },
  {
   "cell_type": "code",
   "execution_count": 33,
   "id": "112efe6a-292e-4917-b461-4af2e1ee9d3c",
   "metadata": {},
   "outputs": [
    {
     "name": "stdout",
     "output_type": "stream",
     "text": [
      "/mnt/data\n"
     ]
    }
   ],
   "source": [
    "cd data/"
   ]
  },
  {
   "cell_type": "code",
   "execution_count": 34,
   "id": "ebde138e-dd16-4654-9819-faafb88fe735",
   "metadata": {},
   "outputs": [
    {
     "name": "stdout",
     "output_type": "stream",
     "text": [
      "total 7448\n",
      "drwxr-xr-x 3 5027    4096 May 27  2016 \u001b[0m\u001b[01;34mfiltered_gene_bc_matrices\u001b[0m/\n",
      "-rw-r--r-- 1 root 7621991 Jun  2  2017 pbmc3k_filtered_gene_bc_matrices.tar.gz\n"
     ]
    }
   ],
   "source": [
    "ll"
   ]
  },
  {
   "cell_type": "code",
   "execution_count": 35,
   "id": "04991c47-59db-4ffd-9bc4-cbd8f32feb47",
   "metadata": {},
   "outputs": [
    {
     "name": "stdout",
     "output_type": "stream",
     "text": [
      "/mnt/data/filtered_gene_bc_matrices\n"
     ]
    }
   ],
   "source": [
    "cd filtered_gene_bc_matrices/"
   ]
  },
  {
   "cell_type": "code",
   "execution_count": 36,
   "id": "f0bfa39d-7a01-40a4-84f1-ddec6a39b445",
   "metadata": {},
   "outputs": [
    {
     "name": "stdout",
     "output_type": "stream",
     "text": [
      "total 4\n",
      "drwxr-xr-x 2 5027 4096 May 27  2016 \u001b[0m\u001b[01;34mhg19\u001b[0m/\n"
     ]
    }
   ],
   "source": [
    "ll"
   ]
  },
  {
   "cell_type": "code",
   "execution_count": 37,
   "id": "6e41089a-a38d-4b1b-97aa-f66ad2f968f7",
   "metadata": {},
   "outputs": [],
   "source": [
    "import omicverse as ov\n",
    "import scanpy as sc\n",
    "ov.ov_plot_set()\n"
   ]
  },
  {
   "cell_type": "code",
   "execution_count": 39,
   "id": "9f7e12e7-a7c6-48bd-ab55-dfe7214747ef",
   "metadata": {},
   "outputs": [
    {
     "name": "stdout",
     "output_type": "stream",
     "text": [
      "/\n"
     ]
    }
   ],
   "source": [
    "cd /\n"
   ]
  },
  {
   "cell_type": "code",
   "execution_count": 40,
   "id": "31a73dad-8675-434e-ba4e-36594a1546fc",
   "metadata": {},
   "outputs": [
    {
     "name": "stdout",
     "output_type": "stream",
     "text": [
      "total 52\n",
      "-rw-r--r--   1 root    0 Apr 10 10:48 '=0.25.7'\n",
      "lrwxrwxrwx   1 root    7 Feb 16 16:22  \u001b[0m\u001b[01;36mbin\u001b[0m -> \u001b[01;34musr/bin\u001b[0m/\n",
      "drwxr-xr-x   2 root 4096 Apr 15  2020  \u001b[01;34mboot\u001b[0m/\n",
      "drwxr-xr-x   5 root  340 Apr 11 16:48  \u001b[01;34mdev\u001b[0m/\n",
      "drwxr-xr-x   1 root 4096 Apr 11 16:48  \u001b[01;34metc\u001b[0m/\n",
      "drwxr-xr-x   2 root 4096 Apr 15  2020  \u001b[01;34mhome\u001b[0m/\n",
      "lrwxrwxrwx   1 root    7 Feb 16 16:22  \u001b[01;36mlib\u001b[0m -> \u001b[01;34musr/lib\u001b[0m/\n",
      "lrwxrwxrwx   1 root    9 Feb 16 16:22  \u001b[01;36mlib32\u001b[0m -> \u001b[01;34musr/lib32\u001b[0m/\n",
      "lrwxrwxrwx   1 root    9 Feb 16 16:22  \u001b[01;36mlib64\u001b[0m -> \u001b[01;34musr/lib64\u001b[0m/\n",
      "lrwxrwxrwx   1 root   10 Feb 16 16:22  \u001b[01;36mlibx32\u001b[0m -> \u001b[01;34musr/libx32\u001b[0m/\n",
      "drwxr-xr-x   2 root 4096 Feb 16 16:23  \u001b[01;34mmedia\u001b[0m/\n",
      "drwxr-xr-x   1 root 4096 Apr 11 17:13  \u001b[01;34mmnt\u001b[0m/\n",
      "drwxr-xr-x   1 root 4096 Apr 10 10:51  \u001b[01;34mopt\u001b[0m/\n",
      "dr-xr-xr-x 522 root    0 Apr 11 16:48  \u001b[01;34mproc\u001b[0m/\n",
      "drwx------   1 root 4096 Apr 11 16:52  \u001b[01;34mroot\u001b[0m/\n",
      "drwxr-xr-x   1 root 4096 Mar 21 18:16  \u001b[01;34mrun\u001b[0m/\n",
      "lrwxrwxrwx   1 root    8 Feb 16 16:22  \u001b[01;36msbin\u001b[0m -> \u001b[01;34musr/sbin\u001b[0m/\n",
      "drwxr-xr-x   2 root 4096 Feb 16 16:23  \u001b[01;34msrv\u001b[0m/\n",
      "drwxr-xr-x   1 root 4096 Mar 21 18:28  \u001b[01;34mstereopy\u001b[0m/\n",
      "dr-xr-xr-x  13 root    0 Apr 11 16:54  \u001b[01;34msys\u001b[0m/\n",
      "drwxrwxrwt   1 root 4096 Apr 11 16:52  \u001b[30;42mtmp\u001b[0m/\n",
      "drwxr-xr-x   1 root 4096 Apr 10 10:49  \u001b[01;34musr\u001b[0m/\n",
      "drwxr-xr-x   1 root 4096 Feb 16 16:26  \u001b[01;34mvar\u001b[0m/\n"
     ]
    }
   ],
   "source": [
    "ll"
   ]
  },
  {
   "cell_type": "code",
   "execution_count": 41,
   "id": "86084ce3-4781-48ff-823d-59330b2177eb",
   "metadata": {},
   "outputs": [
    {
     "name": "stdout",
     "output_type": "stream",
     "text": [
      "/mnt\n"
     ]
    }
   ],
   "source": [
    "cd mnt/"
   ]
  },
  {
   "cell_type": "code",
   "execution_count": 42,
   "id": "255fd891-22e4-4a0e-8f25-3ddf93707922",
   "metadata": {},
   "outputs": [
    {
     "name": "stdout",
     "output_type": "stream",
     "text": [
      "total 8\n",
      "drwxr-xr-x 3 root 4096 Apr 11 17:13 \u001b[0m\u001b[01;34mdata\u001b[0m/\n",
      "drwxr-xr-x 2 root 4096 Apr 11 17:13 \u001b[01;34mwrite\u001b[0m/\n"
     ]
    }
   ],
   "source": [
    "ll\n"
   ]
  },
  {
   "cell_type": "code",
   "execution_count": 43,
   "id": "be44d87d-528d-4a66-be70-1d403fb9d8dc",
   "metadata": {},
   "outputs": [
    {
     "name": "stdout",
     "output_type": "stream",
     "text": [
      "... writing an h5ad cache file to speedup reading next time\n"
     ]
    },
    {
     "data": {
      "text/plain": [
       "AnnData object with n_obs × n_vars = 2700 × 32738\n",
       "    var: 'gene_ids'"
      ]
     },
     "execution_count": 43,
     "metadata": {},
     "output_type": "execute_result"
    }
   ],
   "source": [
    "adata = sc.read_10x_mtx(\n",
    "    'data/filtered_gene_bc_matrices/hg19/',  # the directory with the `.mtx` file\n",
    "    var_names='gene_symbols',                # use gene symbols for the variable names (variables-axis index)\n",
    "    cache=True)                              # write a cache file for faster subsequent reading\n",
    "adata"
   ]
  },
  {
   "cell_type": "code",
   "execution_count": 44,
   "id": "032fa673-d7b7-4e3d-9e3e-d9a11406e0bf",
   "metadata": {},
   "outputs": [],
   "source": [
    "adata.var_names_make_unique()\n",
    "adata.obs_names_make_unique()"
   ]
  },
  {
   "cell_type": "code",
   "execution_count": 45,
   "id": "694c7dcf-48be-4c05-b247-7d83f2084323",
   "metadata": {},
   "outputs": [
    {
     "name": "stdout",
     "output_type": "stream",
     "text": [
      "Calculate QC metrics\n",
      "End calculation of QC metrics.\n",
      "Original cell number: 2700\n",
      "Begin of post doublets removal and QC plot\n",
      "Running Scrublet\n",
      "filtered out 19024 genes that are detected in less than 3 cells\n",
      "normalizing counts per cell\n",
      "    finished (0:00:00)\n",
      "extracting highly variable genes\n",
      "    finished (0:00:02)\n",
      "--> added\n",
      "    'highly_variable', boolean vector (adata.var)\n",
      "    'means', float vector (adata.var)\n",
      "    'dispersions', float vector (adata.var)\n",
      "    'dispersions_norm', float vector (adata.var)\n",
      "normalizing counts per cell\n",
      "    finished (0:00:00)\n",
      "normalizing counts per cell\n",
      "    finished (0:00:00)\n",
      "Embedding transcriptomes using PCA...\n",
      "Automatically set threshold at doublet score = 0.29\n",
      "Detected doublet rate = 1.4%\n",
      "Estimated detectable doublet fraction = 35.7%\n",
      "Overall doublet rate:\n",
      "\tExpected   = 5.0%\n",
      "\tEstimated  = 4.0%\n",
      "    Scrublet finished (0:00:08)\n",
      "Cells retained after scrublet: 2661, 39 removed.\n",
      "End of post doublets removal and QC plots.\n",
      "Filters application (seurat or mads)\n",
      "Lower treshold, nUMIs: 500; filtered-out-cells: 0\n",
      "Lower treshold, n genes: 250; filtered-out-cells: 3\n",
      "Lower treshold, mito %: 0.05; filtered-out-cells: 55\n",
      "Filters applicated.\n",
      "Total cell filtered out with this last --mode seurat QC (and its chosen options): 58\n",
      "Cells retained after scrublet and seurat filtering: 2603, 97 removed.\n",
      "filtered out 19107 genes that are detected in less than 3 cells\n"
     ]
    },
    {
     "data": {
      "text/plain": [
       "AnnData object with n_obs × n_vars = 2603 × 13631\n",
       "    obs: 'nUMIs', 'mito_perc', 'detected_genes', 'cell_complexity', 'doublet_score', 'predicted_doublet', 'passing_mt', 'passing_nUMIs', 'passing_ngenes', 'n_genes'\n",
       "    var: 'gene_ids', 'mt', 'n_cells'\n",
       "    uns: 'scrublet'"
      ]
     },
     "execution_count": 45,
     "metadata": {},
     "output_type": "execute_result"
    }
   ],
   "source": [
    "### 预处理\n",
    "## 质控\n",
    "adata=ov.pp.qc(adata,\n",
    "              tresh={'mito_perc': 0.05, 'nUMIs': 500, 'detected_genes': 250})\n",
    "adata"
   ]
  },
  {
   "cell_type": "code",
   "execution_count": null,
   "id": "c6340d0f-9803-425f-8b3b-0b08f45865af",
   "metadata": {},
   "outputs": [],
   "source": [
    "### 高变异性基因\n",
    "## 常用person相关系数来进行处理。"
   ]
  },
  {
   "cell_type": "code",
   "execution_count": 47,
   "id": "e06c36f8-e947-45cf-b2ff-310da8e41372",
   "metadata": {},
   "outputs": [
    {
     "name": "stdout",
     "output_type": "stream",
     "text": [
      "......The X of adata have been stored in counts\n"
     ]
    }
   ],
   "source": [
    "## 1.储存初始数据\n",
    "ov.utils.store_layers(adata,layers=\"counts\")\n",
    "## ov：表示一个特定的生物信息学或单细胞分析库。•utils：通常是指该库内包含的一些实用工具函数的模块，用于简化常见任务的操作。•store_layers：这是一个函数名，其功能是存储 AnnData 对象中的指定层数据。•adata：是一个 AnnData 对象，它是单细胞转录组数据分析中常用的数据结构，包含了基因表达数据和相关元数据。•layers=\"counts\"：函数参数，表示要存储的数据层是原始的基因表达计数数据。"
   ]
  },
  {
   "cell_type": "code",
   "execution_count": 48,
   "id": "0357fb1b-b462-435c-b612-ae01a814142c",
   "metadata": {},
   "outputs": [
    {
     "name": "stdout",
     "output_type": "stream",
     "text": [
      "Begin robust gene identification\n",
      "After filtration, 13631/13631 genes are kept. Among 13631 genes, 13631 genes are robust.\n",
      "End of robust gene identification.\n",
      "Begin size normalization: shiftlog and HVGs selection pearson\n",
      "normalizing counts per cell The following highly-expressed genes are not considered during normalization factor computation:\n",
      "[]\n",
      "    finished (0:00:00)\n",
      "extracting highly variable genes\n",
      "--> added\n",
      "    'highly_variable', boolean vector (adata.var)\n",
      "    'highly_variable_rank', float vector (adata.var)\n",
      "    'highly_variable_nbatches', int vector (adata.var)\n",
      "    'highly_variable_intersection', boolean vector (adata.var)\n",
      "    'means', float vector (adata.var)\n",
      "    'variances', float vector (adata.var)\n",
      "    'residual_variances', float vector (adata.var)\n",
      "End of size normalization: shiftlog and HVGs selection pearson\n"
     ]
    },
    {
     "data": {
      "text/plain": [
       "AnnData object with n_obs × n_vars = 2603 × 13631\n",
       "    obs: 'nUMIs', 'mito_perc', 'detected_genes', 'cell_complexity', 'doublet_score', 'predicted_doublet', 'passing_mt', 'passing_nUMIs', 'passing_ngenes', 'n_genes'\n",
       "    var: 'gene_ids', 'mt', 'n_cells', 'percent_cells', 'robust', 'mean', 'var', 'residual_variances', 'highly_variable_rank', 'highly_variable_features'\n",
       "    uns: 'scrublet', 'layers_counts', 'log1p', 'hvg'\n",
       "    layers: 'counts'"
      ]
     },
     "execution_count": 48,
     "metadata": {},
     "output_type": "execute_result"
    }
   ],
   "source": [
    "## 2.标准化&HVGS\n",
    "#  一般流程是用shiftlog 和 Pearsons 和 seurat三者穿插。默认为shiftlogpearsonpearsonseuratshiftlog|pearson的方法。\n",
    "## 如果你用 modeshiftlog|pearsontarget_sum=50*1e4target_sum=1e4，加上后面的50*1e4更好；如果你用 modepearson|pearsontarget_sum，无需target_sum\n",
    "adata=ov.pp.preprocess(adata,mode='shiftlog|pearson',n_HVGs=2000,)\n",
    "adata\n",
    "## pp常用来封装一系列针对单细胞测序数据的标准预处理步骤，是一个模块或类内部用于组织预处理函数的空间。"
   ]
  },
  {
   "cell_type": "code",
   "execution_count": 50,
   "id": "732f236d-3749-481a-9159-9878737b8807",
   "metadata": {},
   "outputs": [
    {
     "name": "stdout",
     "output_type": "stream",
     "text": [
      "Begin robust gene identification\n",
      "After filtration, 13631/13631 genes are kept. Among 13631 genes, 13631 genes are robust.\n",
      "End of robust gene identification.\n",
      "Begin size normalization: shiftlog and HVGs selection pearson\n",
      "normalizing counts per cell The following highly-expressed genes are not considered during normalization factor computation:\n",
      "[]\n",
      "    finished (0:00:00)\n",
      "WARNING: adata.X seems to be already log-transformed.\n",
      "extracting highly variable genes\n",
      "--> added\n",
      "    'highly_variable', boolean vector (adata.var)\n",
      "    'highly_variable_rank', float vector (adata.var)\n",
      "    'highly_variable_nbatches', int vector (adata.var)\n",
      "    'highly_variable_intersection', boolean vector (adata.var)\n",
      "    'means', float vector (adata.var)\n",
      "    'variances', float vector (adata.var)\n",
      "    'residual_variances', float vector (adata.var)\n",
      "End of size normalization: shiftlog and HVGs selection pearson\n"
     ]
    },
    {
     "data": {
      "text/plain": [
       "AnnData object with n_obs × n_vars = 2603 × 13631\n",
       "    obs: 'nUMIs', 'mito_perc', 'detected_genes', 'cell_complexity', 'doublet_score', 'predicted_doublet', 'passing_mt', 'passing_nUMIs', 'passing_ngenes', 'n_genes'\n",
       "    var: 'gene_ids', 'mt', 'n_cells', 'percent_cells', 'robust', 'mean', 'var', 'residual_variances', 'highly_variable_rank', 'mean', 'var', 'highly_variable_features'\n",
       "    uns: 'scrublet', 'layers_counts', 'log1p', 'hvg'\n",
       "    layers: 'counts'"
      ]
     },
     "execution_count": 50,
     "metadata": {},
     "output_type": "execute_result"
    }
   ],
   "source": [
    "##预处理adata,通过shift和person,nHVGs数量为2000\n",
    "adata=ov.pp.preprocess(adata,mode='shiftlog|pearson',n_HVGs=2000,)\n",
    "adata"
   ]
  },
  {
   "cell_type": "code",
   "execution_count": 51,
   "id": "a6fae7ea-aae5-4df9-a454-94bf4e26a823",
   "metadata": {},
   "outputs": [
    {
     "data": {
      "text/plain": [
       "AnnData object with n_obs × n_vars = 2603 × 13631\n",
       "    obs: 'nUMIs', 'mito_perc', 'detected_genes', 'cell_complexity', 'doublet_score', 'predicted_doublet', 'passing_mt', 'passing_nUMIs', 'passing_ngenes', 'n_genes'\n",
       "    var: 'gene_ids', 'mt', 'n_cells', 'percent_cells', 'robust', 'mean', 'var', 'residual_variances', 'highly_variable_rank', 'mean', 'var', 'highly_variable_features'\n",
       "    uns: 'scrublet', 'layers_counts', 'log1p', 'hvg'\n",
       "    layers: 'counts'"
      ]
     },
     "execution_count": 51,
     "metadata": {},
     "output_type": "execute_result"
    }
   ],
   "source": [
    "##此时的adata仅包含经过筛选的高变异性基因表达数据，且已经经过某种形式的标准化处理。uns和layers字段存储了有关归一化、对数转换以及高变异性基因的信息。\n",
    "adata"
   ]
  },
  {
   "cell_type": "code",
   "execution_count": 52,
   "id": "92991b4d-340a-4aa0-b209-9be6cf8b0de8",
   "metadata": {},
   "outputs": [],
   "source": [
    "## 如何获取未标准话数据呢？并为后续工作呢"
   ]
  },
  {
   "cell_type": "code",
   "execution_count": 55,
   "id": "f85fc43a-e06a-4cd8-a7f9-ca494c0bfc1b",
   "metadata": {},
   "outputs": [
    {
     "data": {
      "text/plain": [
       "View of AnnData object with n_obs × n_vars = 2603 × 2000\n",
       "    obs: 'nUMIs', 'mito_perc', 'detected_genes', 'cell_complexity', 'doublet_score', 'predicted_doublet', 'passing_mt', 'passing_nUMIs', 'passing_ngenes', 'n_genes'\n",
       "    var: 'gene_ids', 'mt', 'n_cells', 'percent_cells', 'robust', 'mean', 'var', 'residual_variances', 'highly_variable_rank', 'mean', 'var', 'highly_variable_features'\n",
       "    uns: 'scrublet', 'layers_counts', 'log1p', 'hvg'\n",
       "    layers: 'counts'"
      ]
     },
     "execution_count": 55,
     "metadata": {},
     "output_type": "execute_result"
    }
   ],
   "source": [
    "## 通过.raw属性获取所有基因的原始计数\n",
    "# 思路：1.将已经已经标准化的adta到adata_count\n",
    "adata.raw = adata\n",
    "adata = adata[:, adata.var.highly_variable_features]\n",
    "adata"
   ]
  },
  {
   "cell_type": "code",
   "execution_count": null,
   "id": "1bc18842-e6a0-4527-a56e-07c053c166f6",
   "metadata": {},
   "outputs": [],
   "source": []
  },
  {
   "cell_type": "code",
   "execution_count": null,
   "id": "4fb3c0e5-3fbb-4127-a3d6-f5afa173c629",
   "metadata": {},
   "outputs": [],
   "source": []
  }
 ],
 "metadata": {
  "kernelspec": {
   "display_name": "Python 3 (ipykernel)",
   "language": "python",
   "name": "python3"
  },
  "language_info": {
   "codemirror_mode": {
    "name": "ipython",
    "version": 3
   },
   "file_extension": ".py",
   "mimetype": "text/x-python",
   "name": "python",
   "nbconvert_exporter": "python",
   "pygments_lexer": "ipython3",
   "version": "3.8.10"
  }
 },
 "nbformat": 4,
 "nbformat_minor": 5
}
