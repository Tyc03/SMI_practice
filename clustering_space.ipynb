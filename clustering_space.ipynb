{
 "cells": [
  {
   "cell_type": "code",
   "execution_count": 1,
   "id": "02741ba7-d5f5-4d7b-81f5-06e1bfdb0b70",
   "metadata": {},
   "outputs": [
    {
     "name": "stdout",
     "output_type": "stream",
     "text": [
      "\n",
      "   ____            _     _    __                  \n",
      "  / __ \\____ ___  (_)___| |  / /__  _____________ \n",
      " / / / / __ `__ \\/ / ___/ | / / _ \\/ ___/ ___/ _ \\ \n",
      "/ /_/ / / / / / / / /__ | |/ /  __/ /  (__  )  __/ \n",
      "\\____/_/ /_/ /_/_/\\___/ |___/\\___/_/  /____/\\___/                                              \n",
      "\n",
      "Version: 1.5.8, Tutorials: https://omicverse.readthedocs.io/\n"
     ]
    },
    {
     "name": "stderr",
     "output_type": "stream",
     "text": [
      "Global seed set to 0\n"
     ]
    },
    {
     "ename": "TypeError",
     "evalue": "'type' object is not subscriptable",
     "output_type": "error",
     "traceback": [
      "\u001b[0;31m---------------------------------------------------------------------------\u001b[0m",
      "\u001b[0;31mTypeError\u001b[0m                                 Traceback (most recent call last)",
      "Cell \u001b[0;32mIn[1], line 3\u001b[0m\n\u001b[1;32m      1\u001b[0m \u001b[38;5;28;01mimport\u001b[39;00m \u001b[38;5;21;01momicverse\u001b[39;00m \u001b[38;5;28;01mas\u001b[39;00m \u001b[38;5;21;01mov\u001b[39;00m\n\u001b[1;32m      2\u001b[0m \u001b[38;5;28;01mimport\u001b[39;00m \u001b[38;5;21;01mscanpy\u001b[39;00m \u001b[38;5;28;01mas\u001b[39;00m \u001b[38;5;21;01msc\u001b[39;00m\n\u001b[0;32m----> 3\u001b[0m \u001b[38;5;28;01mimport\u001b[39;00m \u001b[38;5;21;01mscvelo\u001b[39;00m \u001b[38;5;28;01mas\u001b[39;00m \u001b[38;5;21;01mscv\u001b[39;00m\n\u001b[1;32m      4\u001b[0m ov\u001b[38;5;241m.\u001b[39mutils\u001b[38;5;241m.\u001b[39mov_plot_set()\n",
      "File \u001b[0;32m/usr/local/lib/python3.8/dist-packages/scvelo/__init__.py:6\u001b[0m\n\u001b[1;32m      3\u001b[0m \u001b[38;5;28;01mfrom\u001b[39;00m \u001b[38;5;21;01mscanpy\u001b[39;00m \u001b[38;5;28;01mimport\u001b[39;00m read, read_loom\n\u001b[1;32m      5\u001b[0m \u001b[38;5;28;01mfrom\u001b[39;00m \u001b[38;5;21;01mscvelo\u001b[39;00m \u001b[38;5;28;01mimport\u001b[39;00m datasets, logging\n\u001b[0;32m----> 6\u001b[0m \u001b[38;5;28;01mfrom\u001b[39;00m \u001b[38;5;21;01mscvelo\u001b[39;00m \u001b[38;5;28;01mimport\u001b[39;00m plotting \u001b[38;5;28;01mas\u001b[39;00m pl\n\u001b[1;32m      7\u001b[0m \u001b[38;5;28;01mfrom\u001b[39;00m \u001b[38;5;21;01mscvelo\u001b[39;00m \u001b[38;5;28;01mimport\u001b[39;00m preprocessing \u001b[38;5;28;01mas\u001b[39;00m pp\n\u001b[1;32m      8\u001b[0m \u001b[38;5;28;01mfrom\u001b[39;00m \u001b[38;5;21;01mscvelo\u001b[39;00m \u001b[38;5;28;01mimport\u001b[39;00m settings\n",
      "File \u001b[0;32m/usr/local/lib/python3.8/dist-packages/scvelo/plotting/__init__.py:3\u001b[0m\n\u001b[1;32m      1\u001b[0m \u001b[38;5;28;01mfrom\u001b[39;00m \u001b[38;5;21;01mscanpy\u001b[39;00m\u001b[38;5;21;01m.\u001b[39;00m\u001b[38;5;21;01mplotting\u001b[39;00m \u001b[38;5;28;01mimport\u001b[39;00m paga_compare, rank_genes_groups\n\u001b[0;32m----> 3\u001b[0m \u001b[38;5;28;01mfrom\u001b[39;00m \u001b[38;5;21;01m.\u001b[39;00m\u001b[38;5;21;01mgridspec\u001b[39;00m \u001b[38;5;28;01mimport\u001b[39;00m gridspec\n\u001b[1;32m      4\u001b[0m \u001b[38;5;28;01mfrom\u001b[39;00m \u001b[38;5;21;01m.\u001b[39;00m\u001b[38;5;21;01mheatmap\u001b[39;00m \u001b[38;5;28;01mimport\u001b[39;00m heatmap\n\u001b[1;32m      5\u001b[0m \u001b[38;5;28;01mfrom\u001b[39;00m \u001b[38;5;21;01m.\u001b[39;00m\u001b[38;5;21;01mpaga\u001b[39;00m \u001b[38;5;28;01mimport\u001b[39;00m paga\n",
      "File \u001b[0;32m/usr/local/lib/python3.8/dist-packages/scvelo/plotting/gridspec.py:6\u001b[0m\n\u001b[1;32m      3\u001b[0m \u001b[38;5;28;01mimport\u001b[39;00m \u001b[38;5;21;01mmatplotlib\u001b[39;00m\u001b[38;5;21;01m.\u001b[39;00m\u001b[38;5;21;01mpyplot\u001b[39;00m \u001b[38;5;28;01mas\u001b[39;00m \u001b[38;5;21;01mpl\u001b[39;00m\n\u001b[1;32m      5\u001b[0m \u001b[38;5;66;03m# todo: auto-complete and docs wrapper\u001b[39;00m\n\u001b[0;32m----> 6\u001b[0m \u001b[38;5;28;01mfrom\u001b[39;00m \u001b[38;5;21;01m.\u001b[39;00m\u001b[38;5;21;01mscatter\u001b[39;00m \u001b[38;5;28;01mimport\u001b[39;00m scatter\n\u001b[1;32m      7\u001b[0m \u001b[38;5;28;01mfrom\u001b[39;00m \u001b[38;5;21;01m.\u001b[39;00m\u001b[38;5;21;01mutils\u001b[39;00m \u001b[38;5;28;01mimport\u001b[39;00m get_figure_params, hist\n\u001b[1;32m      8\u001b[0m \u001b[38;5;28;01mfrom\u001b[39;00m \u001b[38;5;21;01m.\u001b[39;00m\u001b[38;5;21;01mvelocity_embedding\u001b[39;00m \u001b[38;5;28;01mimport\u001b[39;00m velocity_embedding\n",
      "File \u001b[0;32m/usr/local/lib/python3.8/dist-packages/scvelo/plotting/scatter.py:16\u001b[0m\n\u001b[1;32m     14\u001b[0m \u001b[38;5;28;01mfrom\u001b[39;00m \u001b[38;5;21;01mscvelo\u001b[39;00m\u001b[38;5;21;01m.\u001b[39;00m\u001b[38;5;21;01mpreprocessing\u001b[39;00m\u001b[38;5;21;01m.\u001b[39;00m\u001b[38;5;21;01mneighbors\u001b[39;00m \u001b[38;5;28;01mimport\u001b[39;00m get_connectivities\n\u001b[1;32m     15\u001b[0m \u001b[38;5;28;01mfrom\u001b[39;00m \u001b[38;5;21;01m.\u001b[39;00m\u001b[38;5;21;01mdocs\u001b[39;00m \u001b[38;5;28;01mimport\u001b[39;00m doc_params, doc_scatter\n\u001b[0;32m---> 16\u001b[0m \u001b[38;5;28;01mfrom\u001b[39;00m \u001b[38;5;21;01m.\u001b[39;00m\u001b[38;5;21;01mutils\u001b[39;00m \u001b[38;5;28;01mimport\u001b[39;00m (\n\u001b[1;32m     17\u001b[0m     default_basis,\n\u001b[1;32m     18\u001b[0m     default_color,\n\u001b[1;32m     19\u001b[0m     default_color_map,\n\u001b[1;32m     20\u001b[0m     default_legend_loc,\n\u001b[1;32m     21\u001b[0m     default_size,\n\u001b[1;32m     22\u001b[0m     default_xkey,\n\u001b[1;32m     23\u001b[0m     default_ykey,\n\u001b[1;32m     24\u001b[0m     get_ax,\n\u001b[1;32m     25\u001b[0m     get_components,\n\u001b[1;32m     26\u001b[0m     get_figure_params,\n\u001b[1;32m     27\u001b[0m     get_kwargs,\n\u001b[1;32m     28\u001b[0m     get_obs_vector,\n\u001b[1;32m     29\u001b[0m     get_value_counts,\n\u001b[1;32m     30\u001b[0m     gets_vals_from_color_gradients,\n\u001b[1;32m     31\u001b[0m     groups_to_bool,\n\u001b[1;32m     32\u001b[0m     interpret_colorkey,\n\u001b[1;32m     33\u001b[0m     is_categorical,\n\u001b[1;32m     34\u001b[0m     is_int,\n\u001b[1;32m     35\u001b[0m     is_list,\n\u001b[1;32m     36\u001b[0m     is_list_of_int,\n\u001b[1;32m     37\u001b[0m     is_list_of_list,\n\u001b[1;32m     38\u001b[0m     is_list_of_str,\n\u001b[1;32m     39\u001b[0m     make_dense,\n\u001b[1;32m     40\u001b[0m     plot_density,\n\u001b[1;32m     41\u001b[0m     plot_linfit,\n\u001b[1;32m     42\u001b[0m     plot_outline,\n\u001b[1;32m     43\u001b[0m     plot_polyfit,\n\u001b[1;32m     44\u001b[0m     plot_rug,\n\u001b[1;32m     45\u001b[0m     plot_velocity_fits,\n\u001b[1;32m     46\u001b[0m     rgb_custom_colormap,\n\u001b[1;32m     47\u001b[0m     savefig_or_show,\n\u001b[1;32m     48\u001b[0m     set_colorbar,\n\u001b[1;32m     49\u001b[0m     set_colors_for_categorical_obs,\n\u001b[1;32m     50\u001b[0m     set_label,\n\u001b[1;32m     51\u001b[0m     set_legend,\n\u001b[1;32m     52\u001b[0m     set_margin,\n\u001b[1;32m     53\u001b[0m     set_title,\n\u001b[1;32m     54\u001b[0m     to_list,\n\u001b[1;32m     55\u001b[0m     to_val,\n\u001b[1;32m     56\u001b[0m     to_valid_bases_list,\n\u001b[1;32m     57\u001b[0m     update_axes,\n\u001b[1;32m     58\u001b[0m )\n\u001b[1;32m     61\u001b[0m \u001b[38;5;129m@doc_params\u001b[39m(scatter\u001b[38;5;241m=\u001b[39mdoc_scatter)\n\u001b[1;32m     62\u001b[0m \u001b[38;5;28;01mdef\u001b[39;00m \u001b[38;5;21mscatter\u001b[39m(\n\u001b[1;32m     63\u001b[0m     adata\u001b[38;5;241m=\u001b[39m\u001b[38;5;28;01mNone\u001b[39;00m,\n\u001b[0;32m   (...)\u001b[0m\n\u001b[1;32m    123\u001b[0m     \u001b[38;5;241m*\u001b[39m\u001b[38;5;241m*\u001b[39mkwargs,\n\u001b[1;32m    124\u001b[0m ):\n\u001b[1;32m    125\u001b[0m \u001b[38;5;250m    \u001b[39m\u001b[38;5;124;03m\"\"\"Scatter plot along observations or variables axes.\u001b[39;00m\n\u001b[1;32m    126\u001b[0m \n\u001b[1;32m    127\u001b[0m \u001b[38;5;124;03m    Arguments:\u001b[39;00m\n\u001b[0;32m   (...)\u001b[0m\n\u001b[1;32m    139\u001b[0m \u001b[38;5;124;03m    If `show==False` a `matplotlib.Axis`\u001b[39;00m\n\u001b[1;32m    140\u001b[0m \u001b[38;5;124;03m    \"\"\"\u001b[39;00m\n",
      "File \u001b[0;32m/usr/local/lib/python3.8/dist-packages/scvelo/plotting/utils.py:24\u001b[0m\n\u001b[1;32m     22\u001b[0m \u001b[38;5;28;01mfrom\u001b[39;00m \u001b[38;5;21;01mscvelo\u001b[39;00m \u001b[38;5;28;01mimport\u001b[39;00m logging \u001b[38;5;28;01mas\u001b[39;00m logg\n\u001b[1;32m     23\u001b[0m \u001b[38;5;28;01mfrom\u001b[39;00m \u001b[38;5;21;01mscvelo\u001b[39;00m \u001b[38;5;28;01mimport\u001b[39;00m settings\n\u001b[0;32m---> 24\u001b[0m \u001b[38;5;28;01mfrom\u001b[39;00m \u001b[38;5;21;01mscvelo\u001b[39;00m\u001b[38;5;21;01m.\u001b[39;00m\u001b[38;5;21;01mtools\u001b[39;00m\u001b[38;5;21;01m.\u001b[39;00m\u001b[38;5;21;01mutils\u001b[39;00m \u001b[38;5;28;01mimport\u001b[39;00m strings_to_categoricals\n\u001b[1;32m     25\u001b[0m \u001b[38;5;28;01mfrom\u001b[39;00m \u001b[38;5;21;01m.\u001b[39;00m \u001b[38;5;28;01mimport\u001b[39;00m palettes\n\u001b[1;32m     27\u001b[0m \u001b[38;5;124;03m\"\"\"helper functions\"\"\"\u001b[39;00m\n",
      "File \u001b[0;32m/usr/local/lib/python3.8/dist-packages/scvelo/tools/__init__.py:28\u001b[0m\n\u001b[1;32m     25\u001b[0m \u001b[38;5;28;01mfrom\u001b[39;00m \u001b[38;5;21;01m.\u001b[39;00m\u001b[38;5;21;01mvelocity_pseudotime\u001b[39;00m \u001b[38;5;28;01mimport\u001b[39;00m velocity_map, velocity_pseudotime\n\u001b[1;32m     27\u001b[0m \u001b[38;5;28;01mwith\u001b[39;00m contextlib\u001b[38;5;241m.\u001b[39msuppress(\u001b[38;5;167;01mImportError\u001b[39;00m):\n\u001b[0;32m---> 28\u001b[0m     \u001b[38;5;28;01mfrom\u001b[39;00m \u001b[38;5;21;01m.\u001b[39;00m\u001b[38;5;21;01m_vi_model\u001b[39;00m \u001b[38;5;28;01mimport\u001b[39;00m VELOVI\n\u001b[1;32m     31\u001b[0m __all__ \u001b[38;5;241m=\u001b[39m [\n\u001b[1;32m     32\u001b[0m     \u001b[38;5;124m\"\u001b[39m\u001b[38;5;124malign_dynamics\u001b[39m\u001b[38;5;124m\"\u001b[39m,\n\u001b[1;32m     33\u001b[0m     \u001b[38;5;124m\"\u001b[39m\u001b[38;5;124mdifferential_kinetic_test\u001b[39m\u001b[38;5;124m\"\u001b[39m,\n\u001b[0;32m   (...)\u001b[0m\n\u001b[1;32m     61\u001b[0m     \u001b[38;5;124m\"\u001b[39m\u001b[38;5;124mExpectationMaximizationModel\u001b[39m\u001b[38;5;124m\"\u001b[39m,\n\u001b[1;32m     62\u001b[0m ]\n\u001b[1;32m     63\u001b[0m \u001b[38;5;28;01mif\u001b[39;00m \u001b[38;5;124m\"\u001b[39m\u001b[38;5;124mVELOVI\u001b[39m\u001b[38;5;124m\"\u001b[39m \u001b[38;5;129;01min\u001b[39;00m \u001b[38;5;28mlocals\u001b[39m():\n",
      "File \u001b[0;32m/usr/local/lib/python3.8/dist-packages/scvelo/tools/_vi_model.py:14\u001b[0m\n\u001b[1;32m     11\u001b[0m \u001b[38;5;28;01mfrom\u001b[39;00m \u001b[38;5;21;01mscipy\u001b[39;00m\u001b[38;5;21;01m.\u001b[39;00m\u001b[38;5;21;01mstats\u001b[39;00m \u001b[38;5;28;01mimport\u001b[39;00m ttest_ind\n\u001b[1;32m     13\u001b[0m \u001b[38;5;28;01mfrom\u001b[39;00m \u001b[38;5;21;01manndata\u001b[39;00m \u001b[38;5;28;01mimport\u001b[39;00m AnnData\n\u001b[0;32m---> 14\u001b[0m \u001b[38;5;28;01mfrom\u001b[39;00m \u001b[38;5;21;01mscvi\u001b[39;00m\u001b[38;5;21;01m.\u001b[39;00m\u001b[38;5;21;01mdata\u001b[39;00m \u001b[38;5;28;01mimport\u001b[39;00m AnnDataManager\n\u001b[1;32m     15\u001b[0m \u001b[38;5;28;01mfrom\u001b[39;00m \u001b[38;5;21;01mscvi\u001b[39;00m\u001b[38;5;21;01m.\u001b[39;00m\u001b[38;5;21;01mdata\u001b[39;00m\u001b[38;5;21;01m.\u001b[39;00m\u001b[38;5;21;01mfields\u001b[39;00m \u001b[38;5;28;01mimport\u001b[39;00m LayerField\n\u001b[1;32m     16\u001b[0m \u001b[38;5;28;01mfrom\u001b[39;00m \u001b[38;5;21;01mscvi\u001b[39;00m\u001b[38;5;21;01m.\u001b[39;00m\u001b[38;5;21;01mdataloaders\u001b[39;00m \u001b[38;5;28;01mimport\u001b[39;00m DataSplitter\n",
      "File \u001b[0;32m/usr/local/lib/python3.8/dist-packages/scvi/__init__.py:10\u001b[0m\n\u001b[1;32m      7\u001b[0m \u001b[38;5;28;01mfrom\u001b[39;00m \u001b[38;5;21;01m.\u001b[39;00m\u001b[38;5;21;01m_settings\u001b[39;00m \u001b[38;5;28;01mimport\u001b[39;00m settings\n\u001b[1;32m      9\u001b[0m \u001b[38;5;66;03m# this import needs to come after prior imports to prevent circular import\u001b[39;00m\n\u001b[0;32m---> 10\u001b[0m \u001b[38;5;28;01mfrom\u001b[39;00m \u001b[38;5;21;01m.\u001b[39;00m \u001b[38;5;28;01mimport\u001b[39;00m autotune, data, model, external, utils\n\u001b[1;32m     12\u001b[0m \u001b[38;5;28;01mfrom\u001b[39;00m \u001b[38;5;21;01mimportlib\u001b[39;00m\u001b[38;5;21;01m.\u001b[39;00m\u001b[38;5;21;01mmetadata\u001b[39;00m \u001b[38;5;28;01mimport\u001b[39;00m version\n\u001b[1;32m     14\u001b[0m package_name \u001b[38;5;241m=\u001b[39m \u001b[38;5;124m\"\u001b[39m\u001b[38;5;124mscvi-tools\u001b[39m\u001b[38;5;124m\"\u001b[39m\n",
      "File \u001b[0;32m/usr/local/lib/python3.8/dist-packages/scvi/autotune/__init__.py:1\u001b[0m\n\u001b[0;32m----> 1\u001b[0m \u001b[38;5;28;01mfrom\u001b[39;00m \u001b[38;5;21;01m.\u001b[39;00m\u001b[38;5;21;01m_manager\u001b[39;00m \u001b[38;5;28;01mimport\u001b[39;00m TuneAnalysis, TunerManager\n\u001b[1;32m      2\u001b[0m \u001b[38;5;28;01mfrom\u001b[39;00m \u001b[38;5;21;01m.\u001b[39;00m\u001b[38;5;21;01m_tuner\u001b[39;00m \u001b[38;5;28;01mimport\u001b[39;00m ModelTuner\n\u001b[1;32m      3\u001b[0m \u001b[38;5;28;01mfrom\u001b[39;00m \u001b[38;5;21;01m.\u001b[39;00m\u001b[38;5;21;01m_types\u001b[39;00m \u001b[38;5;28;01mimport\u001b[39;00m Tunable, TunableMixin\n",
      "File \u001b[0;32m/usr/local/lib/python3.8/dist-packages/scvi/autotune/_manager.py:22\u001b[0m\n\u001b[1;32m     20\u001b[0m \u001b[38;5;28;01mfrom\u001b[39;00m \u001b[38;5;21;01mscvi\u001b[39;00m\u001b[38;5;21;01m.\u001b[39;00m\u001b[38;5;21;01m_types\u001b[39;00m \u001b[38;5;28;01mimport\u001b[39;00m AnnOrMuData\n\u001b[1;32m     21\u001b[0m \u001b[38;5;28;01mfrom\u001b[39;00m \u001b[38;5;21;01mscvi\u001b[39;00m\u001b[38;5;21;01m.\u001b[39;00m\u001b[38;5;21;01mdata\u001b[39;00m\u001b[38;5;21;01m.\u001b[39;00m\u001b[38;5;21;01m_constants\u001b[39;00m \u001b[38;5;28;01mimport\u001b[39;00m _SETUP_ARGS_KEY, _SETUP_METHOD_NAME\n\u001b[0;32m---> 22\u001b[0m \u001b[38;5;28;01mfrom\u001b[39;00m \u001b[38;5;21;01mscvi\u001b[39;00m\u001b[38;5;21;01m.\u001b[39;00m\u001b[38;5;21;01mmodel\u001b[39;00m\u001b[38;5;21;01m.\u001b[39;00m\u001b[38;5;21;01mbase\u001b[39;00m \u001b[38;5;28;01mimport\u001b[39;00m BaseModelClass\n\u001b[1;32m     23\u001b[0m \u001b[38;5;28;01mfrom\u001b[39;00m \u001b[38;5;21;01mscvi\u001b[39;00m\u001b[38;5;21;01m.\u001b[39;00m\u001b[38;5;21;01mutils\u001b[39;00m \u001b[38;5;28;01mimport\u001b[39;00m InvalidParameterError\n\u001b[1;32m     25\u001b[0m \u001b[38;5;28;01mfrom\u001b[39;00m \u001b[38;5;21;01m.\u001b[39;00m\u001b[38;5;21;01m_defaults\u001b[39;00m \u001b[38;5;28;01mimport\u001b[39;00m COLORS, COLUMN_KWARGS, DEFAULTS, TUNABLE_TYPES\n",
      "File \u001b[0;32m/usr/local/lib/python3.8/dist-packages/scvi/model/__init__.py:2\u001b[0m\n\u001b[1;32m      1\u001b[0m \u001b[38;5;28;01mfrom\u001b[39;00m \u001b[38;5;21;01m.\u001b[39;00m \u001b[38;5;28;01mimport\u001b[39;00m utils\n\u001b[0;32m----> 2\u001b[0m \u001b[38;5;28;01mfrom\u001b[39;00m \u001b[38;5;21;01m.\u001b[39;00m\u001b[38;5;21;01m_amortizedlda\u001b[39;00m \u001b[38;5;28;01mimport\u001b[39;00m AmortizedLDA\n\u001b[1;32m      3\u001b[0m \u001b[38;5;28;01mfrom\u001b[39;00m \u001b[38;5;21;01m.\u001b[39;00m\u001b[38;5;21;01m_autozi\u001b[39;00m \u001b[38;5;28;01mimport\u001b[39;00m AUTOZI\n\u001b[1;32m      4\u001b[0m \u001b[38;5;28;01mfrom\u001b[39;00m \u001b[38;5;21;01m.\u001b[39;00m\u001b[38;5;21;01m_condscvi\u001b[39;00m \u001b[38;5;28;01mimport\u001b[39;00m CondSCVI\n",
      "File \u001b[0;32m/usr/local/lib/python3.8/dist-packages/scvi/model/_amortizedlda.py:14\u001b[0m\n\u001b[1;32m     12\u001b[0m \u001b[38;5;28;01mfrom\u001b[39;00m \u001b[38;5;21;01mscvi\u001b[39;00m\u001b[38;5;21;01m.\u001b[39;00m\u001b[38;5;21;01mdata\u001b[39;00m \u001b[38;5;28;01mimport\u001b[39;00m AnnDataManager\n\u001b[1;32m     13\u001b[0m \u001b[38;5;28;01mfrom\u001b[39;00m \u001b[38;5;21;01mscvi\u001b[39;00m\u001b[38;5;21;01m.\u001b[39;00m\u001b[38;5;21;01mdata\u001b[39;00m\u001b[38;5;21;01m.\u001b[39;00m\u001b[38;5;21;01mfields\u001b[39;00m \u001b[38;5;28;01mimport\u001b[39;00m LayerField\n\u001b[0;32m---> 14\u001b[0m \u001b[38;5;28;01mfrom\u001b[39;00m \u001b[38;5;21;01mscvi\u001b[39;00m\u001b[38;5;21;01m.\u001b[39;00m\u001b[38;5;21;01mmodule\u001b[39;00m \u001b[38;5;28;01mimport\u001b[39;00m AmortizedLDAPyroModule\n\u001b[1;32m     15\u001b[0m \u001b[38;5;28;01mfrom\u001b[39;00m \u001b[38;5;21;01mscvi\u001b[39;00m\u001b[38;5;21;01m.\u001b[39;00m\u001b[38;5;21;01mutils\u001b[39;00m \u001b[38;5;28;01mimport\u001b[39;00m setup_anndata_dsp\n\u001b[1;32m     17\u001b[0m \u001b[38;5;28;01mfrom\u001b[39;00m \u001b[38;5;21;01m.\u001b[39;00m\u001b[38;5;21;01mbase\u001b[39;00m \u001b[38;5;28;01mimport\u001b[39;00m BaseModelClass, PyroSviTrainMixin\n",
      "File \u001b[0;32m/usr/local/lib/python3.8/dist-packages/scvi/module/__init__.py:1\u001b[0m\n\u001b[0;32m----> 1\u001b[0m \u001b[38;5;28;01mfrom\u001b[39;00m \u001b[38;5;21;01m.\u001b[39;00m\u001b[38;5;21;01m_amortizedlda\u001b[39;00m \u001b[38;5;28;01mimport\u001b[39;00m AmortizedLDAPyroModule\n\u001b[1;32m      2\u001b[0m \u001b[38;5;28;01mfrom\u001b[39;00m \u001b[38;5;21;01m.\u001b[39;00m\u001b[38;5;21;01m_autozivae\u001b[39;00m \u001b[38;5;28;01mimport\u001b[39;00m AutoZIVAE\n\u001b[1;32m      3\u001b[0m \u001b[38;5;28;01mfrom\u001b[39;00m \u001b[38;5;21;01m.\u001b[39;00m\u001b[38;5;21;01m_classifier\u001b[39;00m \u001b[38;5;28;01mimport\u001b[39;00m Classifier\n",
      "File \u001b[0;32m/usr/local/lib/python3.8/dist-packages/scvi/module/_amortizedlda.py:14\u001b[0m\n\u001b[1;32m     12\u001b[0m \u001b[38;5;28;01mfrom\u001b[39;00m \u001b[38;5;21;01mscvi\u001b[39;00m\u001b[38;5;21;01m.\u001b[39;00m\u001b[38;5;21;01m_constants\u001b[39;00m \u001b[38;5;28;01mimport\u001b[39;00m REGISTRY_KEYS\n\u001b[1;32m     13\u001b[0m \u001b[38;5;28;01mfrom\u001b[39;00m \u001b[38;5;21;01mscvi\u001b[39;00m\u001b[38;5;21;01m.\u001b[39;00m\u001b[38;5;21;01mautotune\u001b[39;00m\u001b[38;5;21;01m.\u001b[39;00m\u001b[38;5;21;01m_types\u001b[39;00m \u001b[38;5;28;01mimport\u001b[39;00m Tunable\n\u001b[0;32m---> 14\u001b[0m \u001b[38;5;28;01mfrom\u001b[39;00m \u001b[38;5;21;01mscvi\u001b[39;00m\u001b[38;5;21;01m.\u001b[39;00m\u001b[38;5;21;01mmodule\u001b[39;00m\u001b[38;5;21;01m.\u001b[39;00m\u001b[38;5;21;01mbase\u001b[39;00m \u001b[38;5;28;01mimport\u001b[39;00m PyroBaseModuleClass, auto_move_data\n\u001b[1;32m     15\u001b[0m \u001b[38;5;28;01mfrom\u001b[39;00m \u001b[38;5;21;01mscvi\u001b[39;00m\u001b[38;5;21;01m.\u001b[39;00m\u001b[38;5;21;01mnn\u001b[39;00m \u001b[38;5;28;01mimport\u001b[39;00m Encoder\n\u001b[1;32m     17\u001b[0m _AMORTIZED_LDA_PYRO_MODULE_NAME \u001b[38;5;241m=\u001b[39m \u001b[38;5;124m\"\u001b[39m\u001b[38;5;124mamortized_lda\u001b[39m\u001b[38;5;124m\"\u001b[39m\n",
      "File \u001b[0;32m/usr/local/lib/python3.8/dist-packages/scvi/module/base/__init__.py:1\u001b[0m\n\u001b[0;32m----> 1\u001b[0m \u001b[38;5;28;01mfrom\u001b[39;00m \u001b[38;5;21;01m.\u001b[39;00m\u001b[38;5;21;01m_base_module\u001b[39;00m \u001b[38;5;28;01mimport\u001b[39;00m (\n\u001b[1;32m      2\u001b[0m     BaseMinifiedModeModuleClass,\n\u001b[1;32m      3\u001b[0m     BaseModuleClass,\n\u001b[1;32m      4\u001b[0m     JaxBaseModuleClass,\n\u001b[1;32m      5\u001b[0m     LossOutput,\n\u001b[1;32m      6\u001b[0m     PyroBaseModuleClass,\n\u001b[1;32m      7\u001b[0m     TrainStateWithState,\n\u001b[1;32m      8\u001b[0m )\n\u001b[1;32m      9\u001b[0m \u001b[38;5;28;01mfrom\u001b[39;00m \u001b[38;5;21;01m.\u001b[39;00m\u001b[38;5;21;01m_decorators\u001b[39;00m \u001b[38;5;28;01mimport\u001b[39;00m auto_move_data, flax_configure\n\u001b[1;32m     11\u001b[0m __all__ \u001b[38;5;241m=\u001b[39m [\n\u001b[1;32m     12\u001b[0m     \u001b[38;5;124m\"\u001b[39m\u001b[38;5;124mBaseModuleClass\u001b[39m\u001b[38;5;124m\"\u001b[39m,\n\u001b[1;32m     13\u001b[0m     \u001b[38;5;124m\"\u001b[39m\u001b[38;5;124mLossOutput\u001b[39m\u001b[38;5;124m\"\u001b[39m,\n\u001b[0;32m   (...)\u001b[0m\n\u001b[1;32m     19\u001b[0m     \u001b[38;5;124m\"\u001b[39m\u001b[38;5;124mBaseMinifiedModeModuleClass\u001b[39m\u001b[38;5;124m\"\u001b[39m,\n\u001b[1;32m     20\u001b[0m ]\n",
      "File \u001b[0;32m/usr/local/lib/python3.8/dist-packages/scvi/module/base/_base_module.py:15\u001b[0m\n\u001b[1;32m     13\u001b[0m \u001b[38;5;28;01mimport\u001b[39;00m \u001b[38;5;21;01mtorch\u001b[39;00m\n\u001b[1;32m     14\u001b[0m \u001b[38;5;28;01mfrom\u001b[39;00m \u001b[38;5;21;01mflax\u001b[39;00m\u001b[38;5;21;01m.\u001b[39;00m\u001b[38;5;21;01mcore\u001b[39;00m \u001b[38;5;28;01mimport\u001b[39;00m FrozenDict\n\u001b[0;32m---> 15\u001b[0m \u001b[38;5;28;01mfrom\u001b[39;00m \u001b[38;5;21;01mflax\u001b[39;00m\u001b[38;5;21;01m.\u001b[39;00m\u001b[38;5;21;01mtraining\u001b[39;00m \u001b[38;5;28;01mimport\u001b[39;00m train_state\n\u001b[1;32m     16\u001b[0m \u001b[38;5;28;01mfrom\u001b[39;00m \u001b[38;5;21;01mjax\u001b[39;00m \u001b[38;5;28;01mimport\u001b[39;00m random\n\u001b[1;32m     17\u001b[0m \u001b[38;5;28;01mfrom\u001b[39;00m \u001b[38;5;21;01mjaxlib\u001b[39;00m\u001b[38;5;21;01m.\u001b[39;00m\u001b[38;5;21;01mxla_extension\u001b[39;00m \u001b[38;5;28;01mimport\u001b[39;00m Device\n",
      "File \u001b[0;32m/usr/local/lib/python3.8/dist-packages/flax/training/train_state.py:19\u001b[0m\n\u001b[1;32m     17\u001b[0m \u001b[38;5;28;01mfrom\u001b[39;00m \u001b[38;5;21;01mflax\u001b[39;00m \u001b[38;5;28;01mimport\u001b[39;00m core\n\u001b[1;32m     18\u001b[0m \u001b[38;5;28;01mfrom\u001b[39;00m \u001b[38;5;21;01mflax\u001b[39;00m \u001b[38;5;28;01mimport\u001b[39;00m struct\n\u001b[0;32m---> 19\u001b[0m \u001b[38;5;28;01mimport\u001b[39;00m \u001b[38;5;21;01moptax\u001b[39;00m\n\u001b[1;32m     22\u001b[0m \u001b[38;5;28;01mclass\u001b[39;00m \u001b[38;5;21;01mTrainState\u001b[39;00m(struct\u001b[38;5;241m.\u001b[39mPyTreeNode):\n\u001b[1;32m     23\u001b[0m \u001b[38;5;250m  \u001b[39m\u001b[38;5;124;03m\"\"\"Simple train state for the common case with a single Optax optimizer.\u001b[39;00m\n\u001b[1;32m     24\u001b[0m \n\u001b[1;32m     25\u001b[0m \u001b[38;5;124;03m  Synopsis::\u001b[39;00m\n\u001b[0;32m   (...)\u001b[0m\n\u001b[1;32m     50\u001b[0m \u001b[38;5;124;03m    opt_state: The state for `tx`.\u001b[39;00m\n\u001b[1;32m     51\u001b[0m \u001b[38;5;124;03m  \"\"\"\u001b[39;00m\n",
      "File \u001b[0;32m/usr/local/lib/python3.8/dist-packages/optax/__init__.py:17\u001b[0m\n\u001b[1;32m      1\u001b[0m \u001b[38;5;66;03m# Copyright 2019 DeepMind Technologies Limited. All Rights Reserved.\u001b[39;00m\n\u001b[1;32m      2\u001b[0m \u001b[38;5;66;03m#\u001b[39;00m\n\u001b[1;32m      3\u001b[0m \u001b[38;5;66;03m# Licensed under the Apache License, Version 2.0 (the \"License\");\u001b[39;00m\n\u001b[0;32m   (...)\u001b[0m\n\u001b[1;32m     13\u001b[0m \u001b[38;5;66;03m# limitations under the License.\u001b[39;00m\n\u001b[1;32m     14\u001b[0m \u001b[38;5;66;03m# ==============================================================================\u001b[39;00m\n\u001b[1;32m     15\u001b[0m \u001b[38;5;124;03m\"\"\"Optax: composable gradient processing and optimization, in JAX.\"\"\"\u001b[39;00m\n\u001b[0;32m---> 17\u001b[0m \u001b[38;5;28;01mfrom\u001b[39;00m \u001b[38;5;21;01moptax\u001b[39;00m \u001b[38;5;28;01mimport\u001b[39;00m contrib\n\u001b[1;32m     18\u001b[0m \u001b[38;5;28;01mfrom\u001b[39;00m \u001b[38;5;21;01moptax\u001b[39;00m \u001b[38;5;28;01mimport\u001b[39;00m losses\n\u001b[1;32m     19\u001b[0m \u001b[38;5;28;01mfrom\u001b[39;00m \u001b[38;5;21;01moptax\u001b[39;00m \u001b[38;5;28;01mimport\u001b[39;00m monte_carlo\n",
      "File \u001b[0;32m/usr/local/lib/python3.8/dist-packages/optax/contrib/__init__.py:21\u001b[0m\n\u001b[1;32m     19\u001b[0m \u001b[38;5;28;01mfrom\u001b[39;00m \u001b[38;5;21;01moptax\u001b[39;00m\u001b[38;5;21;01m.\u001b[39;00m\u001b[38;5;21;01mcontrib\u001b[39;00m\u001b[38;5;21;01m.\u001b[39;00m\u001b[38;5;21;01mcomplex_valued\u001b[39;00m \u001b[38;5;28;01mimport\u001b[39;00m split_real_and_imaginary\n\u001b[1;32m     20\u001b[0m \u001b[38;5;28;01mfrom\u001b[39;00m \u001b[38;5;21;01moptax\u001b[39;00m\u001b[38;5;21;01m.\u001b[39;00m\u001b[38;5;21;01mcontrib\u001b[39;00m\u001b[38;5;21;01m.\u001b[39;00m\u001b[38;5;21;01mcomplex_valued\u001b[39;00m \u001b[38;5;28;01mimport\u001b[39;00m SplitRealAndImaginaryState\n\u001b[0;32m---> 21\u001b[0m \u001b[38;5;28;01mfrom\u001b[39;00m \u001b[38;5;21;01moptax\u001b[39;00m\u001b[38;5;21;01m.\u001b[39;00m\u001b[38;5;21;01mcontrib\u001b[39;00m\u001b[38;5;21;01m.\u001b[39;00m\u001b[38;5;21;01mdadapt_adamw\u001b[39;00m \u001b[38;5;28;01mimport\u001b[39;00m dadapt_adamw\n\u001b[1;32m     22\u001b[0m \u001b[38;5;28;01mfrom\u001b[39;00m \u001b[38;5;21;01moptax\u001b[39;00m\u001b[38;5;21;01m.\u001b[39;00m\u001b[38;5;21;01mcontrib\u001b[39;00m\u001b[38;5;21;01m.\u001b[39;00m\u001b[38;5;21;01mdadapt_adamw\u001b[39;00m \u001b[38;5;28;01mimport\u001b[39;00m DAdaptAdamWState\n\u001b[1;32m     23\u001b[0m \u001b[38;5;28;01mfrom\u001b[39;00m \u001b[38;5;21;01moptax\u001b[39;00m\u001b[38;5;21;01m.\u001b[39;00m\u001b[38;5;21;01mcontrib\u001b[39;00m\u001b[38;5;21;01m.\u001b[39;00m\u001b[38;5;21;01mmechanic\u001b[39;00m \u001b[38;5;28;01mimport\u001b[39;00m MechanicState\n",
      "File \u001b[0;32m/usr/local/lib/python3.8/dist-packages/optax/contrib/dadapt_adamw.py:45\u001b[0m\n\u001b[1;32m     39\u001b[0m   numerator_weighted: chex\u001b[38;5;241m.\u001b[39mArray  \u001b[38;5;66;03m# shape=(), dtype=jnp.float32.\u001b[39;00m\n\u001b[1;32m     40\u001b[0m   count: chex\u001b[38;5;241m.\u001b[39mArray  \u001b[38;5;66;03m# shape=(), dtype=jnp.int32.\u001b[39;00m\n\u001b[1;32m     43\u001b[0m \u001b[38;5;28;01mdef\u001b[39;00m \u001b[38;5;21mdadapt_adamw\u001b[39m(\n\u001b[1;32m     44\u001b[0m     learning_rate: base\u001b[38;5;241m.\u001b[39mScalarOrSchedule \u001b[38;5;241m=\u001b[39m \u001b[38;5;241m1.0\u001b[39m,\n\u001b[0;32m---> 45\u001b[0m     betas: \u001b[38;5;28;43mtuple\u001b[39;49m\u001b[43m[\u001b[49m\u001b[38;5;28;43mfloat\u001b[39;49m\u001b[43m,\u001b[49m\u001b[43m \u001b[49m\u001b[38;5;28;43mfloat\u001b[39;49m\u001b[43m]\u001b[49m \u001b[38;5;241m=\u001b[39m (\u001b[38;5;241m0.9\u001b[39m, \u001b[38;5;241m0.999\u001b[39m),\n\u001b[1;32m     46\u001b[0m     eps: \u001b[38;5;28mfloat\u001b[39m \u001b[38;5;241m=\u001b[39m \u001b[38;5;241m1e-8\u001b[39m,\n\u001b[1;32m     47\u001b[0m     estim_lr0: \u001b[38;5;28mfloat\u001b[39m \u001b[38;5;241m=\u001b[39m \u001b[38;5;241m1e-6\u001b[39m,\n\u001b[1;32m     48\u001b[0m     weight_decay: \u001b[38;5;28mfloat\u001b[39m \u001b[38;5;241m=\u001b[39m \u001b[38;5;241m0.\u001b[39m,\n\u001b[1;32m     49\u001b[0m ) \u001b[38;5;241m-\u001b[39m\u001b[38;5;241m>\u001b[39m base\u001b[38;5;241m.\u001b[39mGradientTransformation:\n\u001b[1;32m     50\u001b[0m \u001b[38;5;250m  \u001b[39m\u001b[38;5;124;03m\"\"\"Learning rate free AdamW by D-Adaptation.\u001b[39;00m\n\u001b[1;32m     51\u001b[0m \n\u001b[1;32m     52\u001b[0m \u001b[38;5;124;03m  Adapts the baseline learning rate of AdamW automatically by estimating the\u001b[39;00m\n\u001b[0;32m   (...)\u001b[0m\n\u001b[1;32m     69\u001b[0m \u001b[38;5;124;03m    A `GradientTransformation` object.\u001b[39;00m\n\u001b[1;32m     70\u001b[0m \u001b[38;5;124;03m  \"\"\"\u001b[39;00m\n\u001b[1;32m     72\u001b[0m   \u001b[38;5;28;01mdef\u001b[39;00m \u001b[38;5;21minit_fn\u001b[39m(params: base\u001b[38;5;241m.\u001b[39mParams) \u001b[38;5;241m-\u001b[39m\u001b[38;5;241m>\u001b[39m DAdaptAdamWState:\n",
      "\u001b[0;31mTypeError\u001b[0m: 'type' object is not subscriptable"
     ]
    }
   ],
   "source": [
    "import omicverse as ov\n",
    "import scanpy as sc\n",
    "import scvelo as scv\n",
    "ov.utils.ov_plot_set()"
   ]
  },
  {
   "cell_type": "code",
   "execution_count": 2,
   "id": "5385a966-5dee-4764-886d-a673b5691c81",
   "metadata": {
    "collapsed": true,
    "jupyter": {
     "outputs_hidden": true
    }
   },
   "outputs": [
    {
     "name": "stdout",
     "output_type": "stream",
     "text": [
      "Collecting scvelo\n",
      "  Downloading scvelo-0.3.2-py3-none-any.whl.metadata (8.6 kB)\n",
      "Requirement already satisfied: anndata>=0.7.5 in /usr/local/lib/python3.8/dist-packages (from scvelo) (0.9.2)\n",
      "Requirement already satisfied: scanpy>=1.5 in /usr/local/lib/python3.8/dist-packages (from scvelo) (1.9.6)\n",
      "Requirement already satisfied: loompy>=2.0.12 in /usr/local/lib/python3.8/dist-packages (from scvelo) (3.0.7)\n",
      "Requirement already satisfied: umap-learn>=0.3.10 in /usr/local/lib/python3.8/dist-packages (from scvelo) (0.5.1)\n",
      "Requirement already satisfied: numba>=0.41.0 in /usr/local/lib/python3.8/dist-packages (from scvelo) (0.58.1)\n",
      "Requirement already satisfied: numpy>=1.17 in /usr/local/lib/python3.8/dist-packages (from scvelo) (1.23.5)\n",
      "Requirement already satisfied: pandas!=1.4.0,>=1.1.1 in /usr/local/lib/python3.8/dist-packages (from scvelo) (1.5.3)\n",
      "Requirement already satisfied: scipy>=1.4.1 in /usr/local/lib/python3.8/dist-packages (from scvelo) (1.10.1)\n",
      "Requirement already satisfied: scikit-learn>=0.21.2 in /usr/local/lib/python3.8/dist-packages (from scvelo) (1.3.2)\n",
      "Requirement already satisfied: matplotlib>=3.3.0 in /usr/local/lib/python3.8/dist-packages (from scvelo) (3.6.3)\n",
      "Requirement already satisfied: h5py>=3 in /usr/local/lib/python3.8/dist-packages (from anndata>=0.7.5->scvelo) (3.10.0)\n",
      "Requirement already satisfied: natsort in /usr/local/lib/python3.8/dist-packages (from anndata>=0.7.5->scvelo) (7.1.1)\n",
      "Requirement already satisfied: packaging>=20 in /usr/local/lib/python3.8/dist-packages (from anndata>=0.7.5->scvelo) (24.0)\n",
      "Requirement already satisfied: click in /usr/local/lib/python3.8/dist-packages (from loompy>=2.0.12->scvelo) (8.1.7)\n",
      "Requirement already satisfied: numpy-groupies in /usr/local/lib/python3.8/dist-packages (from loompy>=2.0.12->scvelo) (0.9.22)\n",
      "Requirement already satisfied: setuptools in /usr/local/lib/python3.8/dist-packages (from loompy>=2.0.12->scvelo) (69.2.0)\n",
      "Requirement already satisfied: contourpy>=1.0.1 in /usr/local/lib/python3.8/dist-packages (from matplotlib>=3.3.0->scvelo) (1.1.1)\n",
      "Requirement already satisfied: cycler>=0.10 in /usr/local/lib/python3.8/dist-packages (from matplotlib>=3.3.0->scvelo) (0.12.1)\n",
      "Requirement already satisfied: fonttools>=4.22.0 in /usr/local/lib/python3.8/dist-packages (from matplotlib>=3.3.0->scvelo) (4.50.0)\n",
      "Requirement already satisfied: kiwisolver>=1.0.1 in /usr/local/lib/python3.8/dist-packages (from matplotlib>=3.3.0->scvelo) (1.4.5)\n",
      "Requirement already satisfied: pillow>=6.2.0 in /usr/local/lib/python3.8/dist-packages (from matplotlib>=3.3.0->scvelo) (10.2.0)\n",
      "Requirement already satisfied: pyparsing>=2.2.1 in /usr/local/lib/python3.8/dist-packages (from matplotlib>=3.3.0->scvelo) (3.1.2)\n",
      "Requirement already satisfied: python-dateutil>=2.7 in /usr/local/lib/python3.8/dist-packages (from matplotlib>=3.3.0->scvelo) (2.9.0.post0)\n",
      "Requirement already satisfied: llvmlite<0.42,>=0.41.0dev0 in /usr/local/lib/python3.8/dist-packages (from numba>=0.41.0->scvelo) (0.41.1)\n",
      "Requirement already satisfied: importlib-metadata in /usr/local/lib/python3.8/dist-packages (from numba>=0.41.0->scvelo) (7.1.0)\n",
      "Requirement already satisfied: pytz>=2020.1 in /usr/local/lib/python3.8/dist-packages (from pandas!=1.4.0,>=1.1.1->scvelo) (2024.1)\n",
      "Requirement already satisfied: get-annotations in /usr/local/lib/python3.8/dist-packages (from scanpy>=1.5->scvelo) (0.1.2)\n",
      "Requirement already satisfied: joblib in /usr/local/lib/python3.8/dist-packages (from scanpy>=1.5->scvelo) (1.3.2)\n",
      "Requirement already satisfied: networkx>=2.3 in /usr/local/lib/python3.8/dist-packages (from scanpy>=1.5->scvelo) (3.1)\n",
      "Requirement already satisfied: patsy in /usr/local/lib/python3.8/dist-packages (from scanpy>=1.5->scvelo) (0.5.6)\n",
      "Requirement already satisfied: seaborn!=0.13.0 in /usr/local/lib/python3.8/dist-packages (from scanpy>=1.5->scvelo) (0.12.2)\n",
      "Requirement already satisfied: session-info in /usr/local/lib/python3.8/dist-packages (from scanpy>=1.5->scvelo) (1.0.0)\n",
      "Requirement already satisfied: statsmodels>=0.10.0rc2 in /usr/local/lib/python3.8/dist-packages (from scanpy>=1.5->scvelo) (0.14.1)\n",
      "Requirement already satisfied: tqdm in /usr/local/lib/python3.8/dist-packages (from scanpy>=1.5->scvelo) (4.66.2)\n",
      "Requirement already satisfied: threadpoolctl>=2.0.0 in /usr/local/lib/python3.8/dist-packages (from scikit-learn>=0.21.2->scvelo) (3.4.0)\n",
      "Requirement already satisfied: pynndescent>=0.5 in /usr/local/lib/python3.8/dist-packages (from umap-learn>=0.3.10->scvelo) (0.5.11)\n",
      "Requirement already satisfied: six>=1.5 in /usr/lib/python3/dist-packages (from python-dateutil>=2.7->matplotlib>=3.3.0->scvelo) (1.14.0)\n",
      "Requirement already satisfied: zipp>=0.5 in /usr/local/lib/python3.8/dist-packages (from importlib-metadata->numba>=0.41.0->scvelo) (3.18.1)\n",
      "Requirement already satisfied: stdlib-list in /usr/local/lib/python3.8/dist-packages (from session-info->scanpy>=1.5->scvelo) (0.10.0)\n",
      "Downloading scvelo-0.3.2-py3-none-any.whl (210 kB)\n",
      "\u001b[2K   \u001b[90m━━━━━━━━━━━━━━━━━━━━━━━━━━━━━━━━━━━━━━━\u001b[0m \u001b[32m210.1/210.1 kB\u001b[0m \u001b[31m536.7 kB/s\u001b[0m eta \u001b[36m0:00:00\u001b[0ma \u001b[36m0:00:01\u001b[0m\n",
      "\u001b[?25hInstalling collected packages: scvelo\n",
      "Successfully installed scvelo-0.3.2\n",
      "\u001b[33mWARNING: Running pip as the 'root' user can result in broken permissions and conflicting behaviour with the system package manager. It is recommended to use a virtual environment instead: https://pip.pypa.io/warnings/venv\u001b[0m\u001b[33m\n",
      "\u001b[0mNote: you may need to restart the kernel to use updated packages.\n"
     ]
    }
   ],
   "source": [
    "#pip install scvelo"
   ]
  },
  {
   "cell_type": "code",
   "execution_count": null,
   "id": "0bbe9c66-e277-4885-857f-44937d1a9ad8",
   "metadata": {},
   "outputs": [],
   "source": [
    "import scvelo as scv\n",
    "adata=scv.datasets.dentategyrus()\n",
    "adata"
   ]
  },
  {
   "cell_type": "code",
   "execution_count": null,
   "id": "63d23a48-0f9e-4d1c-8f75-0a3e54677d4c",
   "metadata": {},
   "outputs": [],
   "source": []
  }
 ],
 "metadata": {
  "kernelspec": {
   "display_name": "Python 3 (ipykernel)",
   "language": "python",
   "name": "python3"
  },
  "language_info": {
   "codemirror_mode": {
    "name": "ipython",
    "version": 3
   },
   "file_extension": ".py",
   "mimetype": "text/x-python",
   "name": "python",
   "nbconvert_exporter": "python",
   "pygments_lexer": "ipython3",
   "version": "3.8.10"
  }
 },
 "nbformat": 4,
 "nbformat_minor": 5
}
