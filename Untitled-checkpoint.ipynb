{
 "cells": [
  {
   "cell_type": "code",
   "execution_count": 1,
   "id": "fcd97a42-059e-4d01-aa2c-c5f0e76f01e2",
   "metadata": {},
   "outputs": [
    {
     "name": "stdout",
     "output_type": "stream",
     "text": [
      "\n",
      "   ____            _     _    __                  \n",
      "  / __ \\____ ___  (_)___| |  / /__  _____________ \n",
      " / / / / __ `__ \\/ / ___/ | / / _ \\/ ___/ ___/ _ \\ \n",
      "/ /_/ / / / / / / / /__ | |/ /  __/ /  (__  )  __/ \n",
      "\\____/_/ /_/ /_/_/\\___/ |___/\\___/_/  /____/\\___/                                              \n",
      "\n",
      "Version: 1.5.8, Tutorials: https://omicverse.readthedocs.io/\n"
     ]
    }
   ],
   "source": [
    "import omicverse as ov\n",
    "import scanpy as sc\n",
    "ov.ov_plot_set()\n"
   ]
  },
  {
   "cell_type": "code",
   "execution_count": null,
   "id": "00624c33-f220-4c63-9762-81b1c20fc235",
   "metadata": {},
   "outputs": [],
   "source": []
  }
 ],
 "metadata": {
  "kernelspec": {
   "display_name": "Python 3 (ipykernel)",
   "language": "python",
   "name": "python3"
  },
  "language_info": {
   "codemirror_mode": {
    "name": "ipython",
    "version": 3
   },
   "file_extension": ".py",
   "mimetype": "text/x-python",
   "name": "python",
   "nbconvert_exporter": "python",
   "pygments_lexer": "ipython3",
   "version": "3.8.10"
  }
 },
 "nbformat": 4,
 "nbformat_minor": 5
}
