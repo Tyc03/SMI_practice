{
 "cells": [
  {
   "cell_type": "code",
   "execution_count": 13,
   "id": "fcd97a42-059e-4d01-aa2c-c5f0e76f01e2",
   "metadata": {},
   "outputs": [],
   "source": [
    "import omicverse as ov\n",
    "import scanpy as sc\n",
    "ov.ov_plot_set()"
   ]
  },
  {
   "cell_type": "code",
   "execution_count": 5,
   "id": "d43a44dc-6a8f-4e21-8817-3c7b12f45019",
   "metadata": {},
   "outputs": [],
   "source": [
    "import scanpy as sc"
   ]
  },
  {
   "cell_type": "code",
   "execution_count": 3,
   "id": "959f9dd8-2c88-49c4-858f-fa54ae2128d6",
   "metadata": {},
   "outputs": [
    {
     "data": {
      "text/plain": [
       "'/root/notebooks'"
      ]
     },
     "execution_count": 3,
     "metadata": {},
     "output_type": "execute_result"
    }
   ],
   "source": [
    "pwd"
   ]
  },
  {
   "cell_type": "code",
   "execution_count": 4,
   "id": "6ee755ed-499e-46e3-a9fb-8a67feb2182d",
   "metadata": {
    "scrolled": true
   },
   "outputs": [
    {
     "name": "stdout",
     "output_type": "stream",
     "text": [
      "total 30817092\n",
      "-rw-r--r-- 1 root        40492 Apr 15 19:53 SM.ipynb\n",
      "-rw-r--r-- 1 root         1650 Apr 16 13:51 Untitled1.ipynb\n",
      "-rw-r--r-- 1 root         2570 Apr 16 17:36 clustering_space.ipynb\n",
      "-rw-r--r-- 1 root   3828919618 Apr 16 17:26 filtered_250adata.h5ad\n",
      "-rw-r--r-- 1 root  13245143518 Apr 15 19:55 filtered_adata.h5ad\n",
      "-rw-r--r-- 1 root         7052 Apr 16 17:37 preprocess.ipynb\n",
      "-rw-r--r-- 1 22954 14482560400 Apr 15 17:16 raw.cluster.h5ad\n",
      "-rw-r--r-- 1 root        14258 Apr 16 17:27 raw_cluster.ipynb\n"
     ]
    }
   ],
   "source": [
    "ll"
   ]
  },
  {
   "cell_type": "code",
   "execution_count": 6,
   "id": "afe0167d-6ecc-4765-997e-5af93da8ff02",
   "metadata": {},
   "outputs": [],
   "source": [
    "adata_300 = sc.read_h5ad(\"filtered_300adata.h5ad\")"
   ]
  },
  {
   "cell_type": "code",
   "execution_count": 6,
   "id": "986dde5c-825e-4027-8667-e679cc66122d",
   "metadata": {
    "scrolled": true
   },
   "outputs": [],
   "source": [
    "adata_300.var_names_make_unique()"
   ]
  },
  {
   "cell_type": "code",
   "execution_count": 7,
   "id": "b21409f8-2258-4f82-af74-9e36b28267ee",
   "metadata": {},
   "outputs": [],
   "source": [
    "adata_300.obs_names_make_unique()"
   ]
  },
  {
   "cell_type": "code",
   "execution_count": 7,
   "id": "0f7d88b1-ba72-4f08-8fdb-e26e98547c0a",
   "metadata": {},
   "outputs": [
    {
     "data": {
      "text/plain": [
       "AnnData object with n_obs × n_vars = 119708 × 1000\n",
       "    obs: 'fov', 'Area', 'AspectRatio', 'Width', 'Height', 'Mean.PanCK', 'Max.PanCK', 'Mean.CD68', 'Max.CD68', 'Mean.Membrane', 'Max.Membrane', 'Mean.CD45', 'Max.CD45', 'Mean.DAPI', 'Max.DAPI', 'cell_id', 'assay_type', 'version', 'Run_Tissue_name', 'Panel', 'slide_ID_numeric', 'cell_ID', 'unassignedTranscripts', 'nCount_RNA', 'nFeature_RNA', 'nCount_negprobes', 'nFeature_negprobes', 'nCount_falsecode', 'nFeature_falsecode', 'Area.um2', 'x_FOV_px', 'y_FOV_px', 'x_slide_mm', 'y_slide_mm', 'sample', 'leiden'\n",
       "    var: 'DisplayName', 'Barcode', 'CodeClass', 'ProbeID'\n",
       "    uns: 'leiden', 'log1p', 'neighbors', 'scaled|original|cum_sum_eigenvalues', 'scaled|original|pca_var_ratios', 'umap'\n",
       "    obsm: 'X_harmony', 'X_pca', 'X_umap', 'scaled|original|X_pca', 'spatial'\n",
       "    varm: 'scaled|original|pca_loadings'\n",
       "    layers: 'counts', 'lognorm', 'scaled'\n",
       "    obsp: 'connectivities', 'distances'"
      ]
     },
     "execution_count": 7,
     "metadata": {},
     "output_type": "execute_result"
    }
   ],
   "source": [
    "adata_300"
   ]
  },
  {
   "cell_type": "code",
   "execution_count": 8,
   "id": "76a5d40e-44f4-4e22-889a-3e732421b4e8",
   "metadata": {},
   "outputs": [
    {
     "name": "stdout",
     "output_type": "stream",
     "text": [
      "['fov', 'Area', 'AspectRatio', 'Width', 'Height', 'Mean.PanCK', 'Max.PanCK', 'Mean.CD68', 'Max.CD68', 'Mean.Membrane', 'Max.Membrane', 'Mean.CD45', 'Max.CD45', 'Mean.DAPI', 'Max.DAPI', 'cell_id', 'assay_type', 'version', 'Run_Tissue_name', 'Panel', 'slide_ID_numeric', 'cell_ID', 'unassignedTranscripts', 'nCount_RNA', 'nFeature_RNA', 'nCount_negprobes', 'nFeature_negprobes', 'nCount_falsecode', 'nFeature_falsecode', 'Area.um2', 'x_FOV_px', 'y_FOV_px', 'x_slide_mm', 'y_slide_mm', 'sample', 'leiden']\n"
     ]
    }
   ],
   "source": [
    "## 输出obs例名\n",
    "colobs_list = list(adata_300.obs.columns)\n",
    "print(colobs_list)"
   ]
  },
  {
   "cell_type": "code",
   "execution_count": 9,
   "id": "2f9ecf2b-efbb-46a8-bf0d-eaa82f3ee9a6",
   "metadata": {},
   "outputs": [
    {
     "name": "stdout",
     "output_type": "stream",
     "text": [
      "N\n"
     ]
    }
   ],
   "source": [
    "if 'mito_perc' in adata_300.obs.columns:\n",
    "    print(\"Y\")\n",
    "else:\n",
    "    print(\"N\")"
   ]
  },
  {
   "cell_type": "code",
   "execution_count": 10,
   "id": "ff797590-5b40-4f07-98af-e3f0c46c59f3",
   "metadata": {
    "collapsed": true,
    "jupyter": {
     "outputs_hidden": true
    },
    "scrolled": true
   },
   "outputs": [
    {
     "name": "stdout",
     "output_type": "stream",
     "text": [
      "mito_perc 不在 adata.obs 中，请确认数据集是否包含此信息。\n"
     ]
    }
   ],
   "source": [
    "# 首先确认 mito_perc 是否存在于 adata.obs 中\n",
    "if 'mito_perc' in adata_300.obs.columns:\n",
    "    # 若存在，则打印 mito_perc 的值\n",
    "    print(adata.obs['mito_perc'])\n",
    "else:\n",
    "    print(\"mito_perc 不在 adata.obs 中，请确认数据集是否包含此信息。\")"
   ]
  },
  {
   "cell_type": "code",
   "execution_count": null,
   "id": "372cf3b2-e445-4579-9cce-57710b813b44",
   "metadata": {},
   "outputs": [],
   "source": []
  },
  {
   "cell_type": "code",
   "execution_count": null,
   "id": "cd50e486-c623-44db-b77a-11aebab9f873",
   "metadata": {},
   "outputs": [],
   "source": [
    "\n",
    "\n",
    "#  预处理"
   ]
  },
  {
   "cell_type": "code",
   "execution_count": 24,
   "id": "aed27cd4-3aa0-4ac6-aeb4-d49d2ad3dfac",
   "metadata": {},
   "outputs": [
    {
     "name": "stdout",
     "output_type": "stream",
     "text": [
      "Calculate QC metrics\n",
      "End calculation of QC metrics.\n",
      "Original cell number: 31625\n",
      "Begin of post doublets removal and QC plot\n",
      "Running Scrublet\n",
      "normalizing counts per cell\n",
      "    finished (0:00:00)\n",
      "WARNING: adata.X seems to be already log-transformed.\n",
      "extracting highly variable genes\n",
      "    finished (0:00:00)\n",
      "--> added\n",
      "    'highly_variable', boolean vector (adata.var)\n",
      "    'means', float vector (adata.var)\n",
      "    'dispersions', float vector (adata.var)\n",
      "    'dispersions_norm', float vector (adata.var)\n",
      "normalizing counts per cell\n",
      "    finished (0:00:00)\n",
      "normalizing counts per cell\n",
      "    finished (0:00:00)\n",
      "Embedding transcriptomes using PCA...\n",
      "Automatically set threshold at doublet score = 0.74\n",
      "Detected doublet rate = 0.0%\n",
      "Estimated detectable doublet fraction = 13.0%\n",
      "Overall doublet rate:\n",
      "\tExpected   = 5.0%\n",
      "\tEstimated  = 0.2%\n",
      "    Scrublet finished (0:00:50)\n",
      "Cells retained after scrublet: 31615, 10 removed.\n",
      "End of post doublets removal and QC plots.\n",
      "Filters application (seurat or mads)\n",
      "Lower treshold, nUMIs: 100; filtered-out-cells: 0\n",
      "Lower treshold, n genes: 150; filtered-out-cells: 0\n",
      "Lower treshold, mito %: 0.05; filtered-out-cells: 0\n",
      "Filters applicated.\n",
      "Total cell filtered out with this last --mode seurat QC (and its chosen options): 0\n",
      "Cells retained after scrublet and seurat filtering: 31615, 10 removed.\n"
     ]
    }
   ],
   "source": [
    " ##  第一步：质控\n",
    "adata_300_qc=ov.pp.qc(adata_300,\n",
    "              tresh={'mito_perc': 0.05, 'nUMIs': 100, 'detected_genes': 150})\n"
   ]
  },
  {
   "cell_type": "code",
   "execution_count": 17,
   "id": "bab5f7a5-7829-4f8c-b368-070e7b1addfe",
   "metadata": {},
   "outputs": [
    {
     "data": {
      "text/plain": [
       "' \\n    解释：mito_perc是指基因表达比例超过5%时，该细胞可能会被标记为低质量细胞并被移除\\n          nUMIs:低于500个UMIs的细胞可能信号较弱，因此也可能被移除\\n         detected_genes:于250个基因表达的细胞可能由于测序深度不足等原因，被认为数据质量较差而被移除\\n\\n'"
      ]
     },
     "execution_count": 17,
     "metadata": {},
     "output_type": "execute_result"
    }
   ],
   "source": [
    "\"\"\" \n",
    "    解释：mito_perc是指基因表达比例超过5%时，该细胞可能会被标记为低质量细胞并被移除\n",
    "          nUMIs:低于500个UMIs的细胞可能信号较弱，因此也可能被移除\n",
    "         detected_genes:于250个基因表达的细胞可能由于测序深度不足等原因，被认为数据质量较差而被移除\n",
    "\n",
    "\"\"\""
   ]
  },
  {
   "cell_type": "code",
   "execution_count": 25,
   "id": "eaa4fd1b-3a05-4d1e-b82f-fc9e2719d691",
   "metadata": {},
   "outputs": [
    {
     "data": {
      "text/plain": [
       "AnnData object with n_obs × n_vars = 31615 × 1000\n",
       "    obs: 'fov', 'Area', 'AspectRatio', 'Width', 'Height', 'Mean.PanCK', 'Max.PanCK', 'Mean.CD68', 'Max.CD68', 'Mean.Membrane', 'Max.Membrane', 'Mean.CD45', 'Max.CD45', 'Mean.DAPI', 'Max.DAPI', 'cell_id', 'assay_type', 'version', 'Run_Tissue_name', 'Panel', 'slide_ID_numeric', 'cell_ID', 'unassignedTranscripts', 'nCount_RNA', 'nFeature_RNA', 'nCount_negprobes', 'nFeature_negprobes', 'nCount_falsecode', 'nFeature_falsecode', 'Area.um2', 'x_FOV_px', 'y_FOV_px', 'x_slide_mm', 'y_slide_mm', 'sample', 'leiden', 'nUMIs', 'mito_perc', 'detected_genes', 'cell_complexity', 'doublet_score', 'predicted_doublet', 'passing_mt', 'passing_nUMIs', 'passing_ngenes', 'n_genes'\n",
       "    var: 'DisplayName', 'Barcode', 'CodeClass', 'ProbeID', 'mt', 'n_cells'\n",
       "    uns: 'leiden', 'log1p', 'neighbors', 'scaled|original|cum_sum_eigenvalues', 'scaled|original|pca_var_ratios', 'umap', 'scrublet'\n",
       "    obsm: 'X_harmony', 'X_pca', 'X_umap', 'scaled|original|X_pca', 'spatial'\n",
       "    varm: 'scaled|original|pca_loadings'\n",
       "    layers: 'counts', 'lognorm', 'scaled'\n",
       "    obsp: 'connectivities', 'distances'"
      ]
     },
     "execution_count": 25,
     "metadata": {},
     "output_type": "execute_result"
    }
   ],
   "source": [
    "adata_300_qc"
   ]
  },
  {
   "cell_type": "code",
   "execution_count": 40,
   "id": "040f9659-0298-4525-a016-40bc4c6a1245",
   "metadata": {},
   "outputs": [
    {
     "data": {
      "text/plain": [
       "'\\nif \"nCount_RNA\" in adata_300.obs.columns:\\n   filter_300adata_s = adata_300[adata_300.obs[\"nCount_RNA\"] >= 400]\\nelse:\\n    print(\"没有\")\\n'"
      ]
     },
     "execution_count": 40,
     "metadata": {},
     "output_type": "execute_result"
    }
   ],
   "source": [
    "\"\"\"\n",
    "if \"nCount_RNA\" in adata_300.obs.columns:\n",
    "   filter_300adata_s = adata_300[adata_300.obs[\"nCount_RNA\"] >= 400]\n",
    "else:\n",
    "    print(\"没有\")\n",
    "\"\"\""
   ]
  },
  {
   "cell_type": "code",
   "execution_count": 41,
   "id": "f48218f8-9bf7-422c-a3e7-9b8d2fab9349",
   "metadata": {},
   "outputs": [
    {
     "data": {
      "text/plain": [
       "'\\ntemp = list(adata_300.obs.columns)\\nprint(temp)\\n'"
      ]
     },
     "execution_count": 41,
     "metadata": {},
     "output_type": "execute_result"
    }
   ],
   "source": [
    "\"\"\"\n",
    "temp = list(adata_300.obs.columns)\n",
    "print(temp)\n",
    "\"\"\""
   ]
  },
  {
   "cell_type": "code",
   "execution_count": 50,
   "id": "4c70eb21-26d2-48ca-be17-f242a6e4624a",
   "metadata": {},
   "outputs": [
    {
     "name": "stdout",
     "output_type": "stream",
     "text": [
      "......The X of adata have been stored in counts\n"
     ]
    }
   ],
   "source": [
    "## 第二步：gene detection\n",
    "# (1) 将原始counts储存到unils下\n",
    "temp = ov.utils.store_layers(adata_300_qc,layers=\"counts\")"
   ]
  },
  {
   "cell_type": "code",
   "execution_count": null,
   "id": "edd0dc71-77ca-4585-b98b-2eb4181c1415",
   "metadata": {},
   "outputs": [],
   "source": [
    "\"\"\"\n",
    "解释：将 adata 中名为 'counts' 的原始计数数据存储到 adata.uns 的一个特定键 'layers_counts' 下，名字也是\"counts\"\n",
    "\"\"\n"
   ]
  },
  {
   "cell_type": "code",
   "execution_count": 72,
   "id": "e997b7a9-8798-462e-b49b-3a5e30a33760",
   "metadata": {},
   "outputs": [
    {
     "name": "stdout",
     "output_type": "stream",
     "text": [
      "Begin robust gene identification\n",
      "After filtration, 1000/1000 genes are kept. Among 1000 genes, 1000 genes are robust.\n",
      "End of robust gene identification.\n",
      "Begin size normalization: shiftlog and HVGs selection pearson\n",
      "normalizing counts per cell The following highly-expressed genes are not considered during normalization factor computation:\n",
      "[]\n",
      "    finished (0:00:00)\n",
      "WARNING: adata.X seems to be already log-transformed.\n",
      "extracting highly variable genes\n",
      "--> added\n",
      "    'highly_variable', boolean vector (adata.var)\n",
      "    'highly_variable_rank', float vector (adata.var)\n",
      "    'highly_variable_nbatches', int vector (adata.var)\n",
      "    'highly_variable_intersection', boolean vector (adata.var)\n",
      "    'means', float vector (adata.var)\n",
      "    'variances', float vector (adata.var)\n",
      "    'residual_variances', float vector (adata.var)\n",
      "End of size normalization: shiftlog and HVGs selection pearson\n"
     ]
    }
   ],
   "source": [
    "# (2) 标准化或者HVGs\n",
    "adata_300 = ov.pp.preprocess(adata_300_qc, mode='shiftlog|pearson',n_HVGs=2000,)\n",
    "## 先使用shiftlog归一化，然后用person进行HVGs，选择数目为2000个"
   ]
  },
  {
   "cell_type": "code",
   "execution_count": 74,
   "id": "b8d9fd26-0855-4457-b093-5cf04ba7e58c",
   "metadata": {},
   "outputs": [],
   "source": [
    "ov.pp.pca(adata_300,layer='scaled',n_pcs=10)"
   ]
  },
  {
   "cell_type": "code",
   "execution_count": 79,
   "id": "49cb9d9e-6107-4eb1-b690-542104688cf7",
   "metadata": {},
   "outputs": [
    {
     "ename": "KeyError",
     "evalue": "'CST3'",
     "output_type": "error",
     "traceback": [
      "\u001b[0;31m---------------------------------------------------------------------------\u001b[0m",
      "\u001b[0;31mKeyError\u001b[0m                                  Traceback (most recent call last)",
      "File \u001b[0;32m/usr/local/lib/python3.8/dist-packages/pandas/core/indexes/base.py:3802\u001b[0m, in \u001b[0;36mIndex.get_loc\u001b[0;34m(self, key, method, tolerance)\u001b[0m\n\u001b[1;32m   3801\u001b[0m \u001b[38;5;28;01mtry\u001b[39;00m:\n\u001b[0;32m-> 3802\u001b[0m     \u001b[38;5;28;01mreturn\u001b[39;00m \u001b[38;5;28;43mself\u001b[39;49m\u001b[38;5;241;43m.\u001b[39;49m\u001b[43m_engine\u001b[49m\u001b[38;5;241;43m.\u001b[39;49m\u001b[43mget_loc\u001b[49m\u001b[43m(\u001b[49m\u001b[43mcasted_key\u001b[49m\u001b[43m)\u001b[49m\n\u001b[1;32m   3803\u001b[0m \u001b[38;5;28;01mexcept\u001b[39;00m \u001b[38;5;167;01mKeyError\u001b[39;00m \u001b[38;5;28;01mas\u001b[39;00m err:\n",
      "File \u001b[0;32m/usr/local/lib/python3.8/dist-packages/pandas/_libs/index.pyx:138\u001b[0m, in \u001b[0;36mpandas._libs.index.IndexEngine.get_loc\u001b[0;34m()\u001b[0m\n",
      "File \u001b[0;32m/usr/local/lib/python3.8/dist-packages/pandas/_libs/index.pyx:165\u001b[0m, in \u001b[0;36mpandas._libs.index.IndexEngine.get_loc\u001b[0;34m()\u001b[0m\n",
      "File \u001b[0;32mpandas/_libs/hashtable_class_helper.pxi:5745\u001b[0m, in \u001b[0;36mpandas._libs.hashtable.PyObjectHashTable.get_item\u001b[0;34m()\u001b[0m\n",
      "File \u001b[0;32mpandas/_libs/hashtable_class_helper.pxi:5753\u001b[0m, in \u001b[0;36mpandas._libs.hashtable.PyObjectHashTable.get_item\u001b[0;34m()\u001b[0m\n",
      "\u001b[0;31mKeyError\u001b[0m: 'CST3'",
      "\nThe above exception was the direct cause of the following exception:\n",
      "\u001b[0;31mKeyError\u001b[0m                                  Traceback (most recent call last)",
      "Cell \u001b[0;32mIn[79], line 2\u001b[0m\n\u001b[1;32m      1\u001b[0m adata_300\u001b[38;5;241m.\u001b[39mobsm[\u001b[38;5;124m'\u001b[39m\u001b[38;5;124mX_pca\u001b[39m\u001b[38;5;124m'\u001b[39m]\u001b[38;5;241m=\u001b[39madata_300\u001b[38;5;241m.\u001b[39mobsm[\u001b[38;5;124m'\u001b[39m\u001b[38;5;124mscaled|original|X_pca\u001b[39m\u001b[38;5;124m'\u001b[39m]\n\u001b[0;32m----> 2\u001b[0m \u001b[43mov\u001b[49m\u001b[38;5;241;43m.\u001b[39;49m\u001b[43mutils\u001b[49m\u001b[38;5;241;43m.\u001b[39;49m\u001b[43membedding\u001b[49m\u001b[43m(\u001b[49m\u001b[43madata_300\u001b[49m\u001b[43m,\u001b[49m\n\u001b[1;32m      3\u001b[0m \u001b[43m                  \u001b[49m\u001b[43mbasis\u001b[49m\u001b[38;5;241;43m=\u001b[39;49m\u001b[38;5;124;43m'\u001b[39;49m\u001b[38;5;124;43mX_pca\u001b[39;49m\u001b[38;5;124;43m'\u001b[39;49m\u001b[43m,\u001b[49m\n\u001b[1;32m      4\u001b[0m \u001b[43m                    \u001b[49m\u001b[43mcolor\u001b[49m\u001b[38;5;241;43m=\u001b[39;49m\u001b[38;5;124;43m'\u001b[39;49m\u001b[38;5;124;43mCST3\u001b[39;49m\u001b[38;5;124;43m'\u001b[39;49m\u001b[43m,\u001b[49m\n\u001b[1;32m      5\u001b[0m \u001b[43m                  \u001b[49m\u001b[43mframeon\u001b[49m\u001b[38;5;241;43m=\u001b[39;49m\u001b[38;5;124;43m'\u001b[39;49m\u001b[38;5;124;43msmall\u001b[39;49m\u001b[38;5;124;43m'\u001b[39;49m\u001b[43m)\u001b[49m\n\u001b[1;32m      6\u001b[0m \u001b[38;5;66;03m# 将['scaled|original|X_pca']里面的矩阵复制到更标准的位置，即adata.obsm['X_pca']\u001b[39;00m\n\u001b[1;32m      7\u001b[0m \u001b[38;5;66;03m# obsm是\"observation by matrix\"的缩写，用于存储每个观测（在这里是单个细胞）在特定降维空间中的坐标。\u001b[39;00m\n",
      "File \u001b[0;32m/usr/local/lib/python3.8/dist-packages/omicverse/utils/_scatterplot.py:263\u001b[0m, in \u001b[0;36membedding\u001b[0;34m(adata, basis, color, gene_symbols, use_raw, sort_order, edges, edges_width, edges_color, neighbors_key, arrows, arrows_kwds, groups, components, dimensions, layer, projection, scale_factor, color_map, cmap, palette, na_color, na_in_legend, size, frameon, legend_fontsize, legend_fontweight, legend_loc, legend_fontoutline, colorbar_loc, vmax, vmin, vcenter, norm, add_outline, outline_width, outline_color, ncols, hspace, wspace, title, show, save, ax, return_fig, marker, **kwargs)\u001b[0m\n\u001b[1;32m    256\u001b[0m \u001b[38;5;66;03m# use itertools.product to make a plot for each color and for each component\u001b[39;00m\n\u001b[1;32m    257\u001b[0m \u001b[38;5;66;03m# For example if color=[gene1, gene2] and components=['1,2, '2,3'].\u001b[39;00m\n\u001b[1;32m    258\u001b[0m \u001b[38;5;66;03m# The plots are: [\u001b[39;00m\n\u001b[1;32m    259\u001b[0m \u001b[38;5;66;03m#     color=gene1, components=[1,2], color=gene1, components=[2,3],\u001b[39;00m\n\u001b[1;32m    260\u001b[0m \u001b[38;5;66;03m#     color=gene2, components = [1, 2], color=gene2, components=[2,3],\u001b[39;00m\n\u001b[1;32m    261\u001b[0m \u001b[38;5;66;03m# ]\u001b[39;00m\n\u001b[1;32m    262\u001b[0m \u001b[38;5;28;01mfor\u001b[39;00m count, (value_to_plot, dims) \u001b[38;5;129;01min\u001b[39;00m \u001b[38;5;28menumerate\u001b[39m(\u001b[38;5;28mzip\u001b[39m(color, dimensions)):\n\u001b[0;32m--> 263\u001b[0m     color_source_vector \u001b[38;5;241m=\u001b[39m \u001b[43m_get_color_source_vector\u001b[49m\u001b[43m(\u001b[49m\n\u001b[1;32m    264\u001b[0m \u001b[43m        \u001b[49m\u001b[43madata\u001b[49m\u001b[43m,\u001b[49m\n\u001b[1;32m    265\u001b[0m \u001b[43m        \u001b[49m\u001b[43mvalue_to_plot\u001b[49m\u001b[43m,\u001b[49m\n\u001b[1;32m    266\u001b[0m \u001b[43m        \u001b[49m\u001b[43mlayer\u001b[49m\u001b[38;5;241;43m=\u001b[39;49m\u001b[43mlayer\u001b[49m\u001b[43m,\u001b[49m\n\u001b[1;32m    267\u001b[0m \u001b[43m        \u001b[49m\u001b[43muse_raw\u001b[49m\u001b[38;5;241;43m=\u001b[39;49m\u001b[43muse_raw\u001b[49m\u001b[43m,\u001b[49m\n\u001b[1;32m    268\u001b[0m \u001b[43m        \u001b[49m\u001b[43mgene_symbols\u001b[49m\u001b[38;5;241;43m=\u001b[39;49m\u001b[43mgene_symbols\u001b[49m\u001b[43m,\u001b[49m\n\u001b[1;32m    269\u001b[0m \u001b[43m        \u001b[49m\u001b[43mgroups\u001b[49m\u001b[38;5;241;43m=\u001b[39;49m\u001b[43mgroups\u001b[49m\u001b[43m,\u001b[49m\n\u001b[1;32m    270\u001b[0m \u001b[43m    \u001b[49m\u001b[43m)\u001b[49m\n\u001b[1;32m    271\u001b[0m     color_vector, categorical \u001b[38;5;241m=\u001b[39m _color_vector(\n\u001b[1;32m    272\u001b[0m         adata,\n\u001b[1;32m    273\u001b[0m         value_to_plot,\n\u001b[0;32m   (...)\u001b[0m\n\u001b[1;32m    276\u001b[0m         na_color\u001b[38;5;241m=\u001b[39mna_color,\n\u001b[1;32m    277\u001b[0m     )\n\u001b[1;32m    279\u001b[0m     \u001b[38;5;66;03m# Order points\u001b[39;00m\n",
      "File \u001b[0;32m/usr/local/lib/python3.8/dist-packages/omicverse/utils/_scatterplot.py:1211\u001b[0m, in \u001b[0;36m_get_color_source_vector\u001b[0;34m(adata, value_to_plot, use_raw, gene_symbols, layer, groups)\u001b[0m\n\u001b[1;32m   1207\u001b[0m     value_to_plot \u001b[38;5;241m=\u001b[39m adata\u001b[38;5;241m.\u001b[39mvar\u001b[38;5;241m.\u001b[39mindex[adata\u001b[38;5;241m.\u001b[39mvar[gene_symbols] \u001b[38;5;241m==\u001b[39m value_to_plot][\n\u001b[1;32m   1208\u001b[0m         \u001b[38;5;241m0\u001b[39m\n\u001b[1;32m   1209\u001b[0m     ]  \u001b[38;5;66;03m# TODO: Throw helpful error if this doesn't work\u001b[39;00m\n\u001b[1;32m   1210\u001b[0m \u001b[38;5;28;01mif\u001b[39;00m use_raw \u001b[38;5;129;01mand\u001b[39;00m value_to_plot \u001b[38;5;129;01mnot\u001b[39;00m \u001b[38;5;129;01min\u001b[39;00m adata\u001b[38;5;241m.\u001b[39mobs\u001b[38;5;241m.\u001b[39mcolumns:\n\u001b[0;32m-> 1211\u001b[0m     values \u001b[38;5;241m=\u001b[39m \u001b[43madata\u001b[49m\u001b[38;5;241;43m.\u001b[39;49m\u001b[43mraw\u001b[49m\u001b[38;5;241;43m.\u001b[39;49m\u001b[43mobs_vector\u001b[49m\u001b[43m(\u001b[49m\u001b[43mvalue_to_plot\u001b[49m\u001b[43m)\u001b[49m\n\u001b[1;32m   1212\u001b[0m \u001b[38;5;28;01melse\u001b[39;00m:\n\u001b[1;32m   1213\u001b[0m     values \u001b[38;5;241m=\u001b[39m adata\u001b[38;5;241m.\u001b[39mobs_vector(value_to_plot, layer\u001b[38;5;241m=\u001b[39mlayer)\n",
      "File \u001b[0;32m/usr/local/lib/python3.8/dist-packages/anndata/_core/raw.py:171\u001b[0m, in \u001b[0;36mRaw.obs_vector\u001b[0;34m(self, k)\u001b[0m\n\u001b[1;32m    169\u001b[0m \u001b[38;5;28;01mdef\u001b[39;00m \u001b[38;5;21mobs_vector\u001b[39m(\u001b[38;5;28mself\u001b[39m, k: \u001b[38;5;28mstr\u001b[39m) \u001b[38;5;241m-\u001b[39m\u001b[38;5;241m>\u001b[39m np\u001b[38;5;241m.\u001b[39mndarray:\n\u001b[1;32m    170\u001b[0m     \u001b[38;5;66;03m# TODO decorator to copy AnnData.obs_vector docstring\u001b[39;00m\n\u001b[0;32m--> 171\u001b[0m     idx \u001b[38;5;241m=\u001b[39m \u001b[38;5;28;43mself\u001b[39;49m\u001b[38;5;241;43m.\u001b[39;49m\u001b[43m_normalize_indices\u001b[49m\u001b[43m(\u001b[49m\u001b[43m(\u001b[49m\u001b[38;5;28;43mslice\u001b[39;49m\u001b[43m(\u001b[49m\u001b[38;5;28;43;01mNone\u001b[39;49;00m\u001b[43m)\u001b[49m\u001b[43m,\u001b[49m\u001b[43m \u001b[49m\u001b[43mk\u001b[49m\u001b[43m)\u001b[49m\u001b[43m)\u001b[49m\n\u001b[1;32m    172\u001b[0m     a \u001b[38;5;241m=\u001b[39m \u001b[38;5;28mself\u001b[39m\u001b[38;5;241m.\u001b[39mX[idx]\n\u001b[1;32m    173\u001b[0m     \u001b[38;5;28;01mif\u001b[39;00m issparse(a):\n",
      "File \u001b[0;32m/usr/local/lib/python3.8/dist-packages/anndata/_core/raw.py:162\u001b[0m, in \u001b[0;36mRaw._normalize_indices\u001b[0;34m(self, packed_index)\u001b[0m\n\u001b[1;32m    160\u001b[0m obs, var \u001b[38;5;241m=\u001b[39m unpack_index(packed_index)\n\u001b[1;32m    161\u001b[0m obs \u001b[38;5;241m=\u001b[39m _normalize_index(obs, \u001b[38;5;28mself\u001b[39m\u001b[38;5;241m.\u001b[39m_adata\u001b[38;5;241m.\u001b[39mobs_names)\n\u001b[0;32m--> 162\u001b[0m var \u001b[38;5;241m=\u001b[39m \u001b[43m_normalize_index\u001b[49m\u001b[43m(\u001b[49m\u001b[43mvar\u001b[49m\u001b[43m,\u001b[49m\u001b[43m \u001b[49m\u001b[38;5;28;43mself\u001b[39;49m\u001b[38;5;241;43m.\u001b[39;49m\u001b[43mvar_names\u001b[49m\u001b[43m)\u001b[49m\n\u001b[1;32m    163\u001b[0m \u001b[38;5;28;01mreturn\u001b[39;00m obs, var\n",
      "File \u001b[0;32m/usr/local/lib/python3.8/dist-packages/anndata/_core/index.py:72\u001b[0m, in \u001b[0;36m_normalize_index\u001b[0;34m(indexer, index)\u001b[0m\n\u001b[1;32m     70\u001b[0m     \u001b[38;5;28;01mreturn\u001b[39;00m indexer\n\u001b[1;32m     71\u001b[0m \u001b[38;5;28;01melif\u001b[39;00m \u001b[38;5;28misinstance\u001b[39m(indexer, \u001b[38;5;28mstr\u001b[39m):\n\u001b[0;32m---> 72\u001b[0m     \u001b[38;5;28;01mreturn\u001b[39;00m \u001b[43mindex\u001b[49m\u001b[38;5;241;43m.\u001b[39;49m\u001b[43mget_loc\u001b[49m\u001b[43m(\u001b[49m\u001b[43mindexer\u001b[49m\u001b[43m)\u001b[49m  \u001b[38;5;66;03m# int\u001b[39;00m\n\u001b[1;32m     73\u001b[0m \u001b[38;5;28;01melif\u001b[39;00m \u001b[38;5;28misinstance\u001b[39m(indexer, (Sequence, np\u001b[38;5;241m.\u001b[39mndarray, pd\u001b[38;5;241m.\u001b[39mIndex, spmatrix, np\u001b[38;5;241m.\u001b[39mmatrix)):\n\u001b[1;32m     74\u001b[0m     \u001b[38;5;28;01mif\u001b[39;00m \u001b[38;5;28mhasattr\u001b[39m(indexer, \u001b[38;5;124m\"\u001b[39m\u001b[38;5;124mshape\u001b[39m\u001b[38;5;124m\"\u001b[39m) \u001b[38;5;129;01mand\u001b[39;00m (\n\u001b[1;32m     75\u001b[0m         (indexer\u001b[38;5;241m.\u001b[39mshape \u001b[38;5;241m==\u001b[39m (index\u001b[38;5;241m.\u001b[39mshape[\u001b[38;5;241m0\u001b[39m], \u001b[38;5;241m1\u001b[39m))\n\u001b[1;32m     76\u001b[0m         \u001b[38;5;129;01mor\u001b[39;00m (indexer\u001b[38;5;241m.\u001b[39mshape \u001b[38;5;241m==\u001b[39m (\u001b[38;5;241m1\u001b[39m, index\u001b[38;5;241m.\u001b[39mshape[\u001b[38;5;241m0\u001b[39m]))\n\u001b[1;32m     77\u001b[0m     ):\n",
      "File \u001b[0;32m/usr/local/lib/python3.8/dist-packages/pandas/core/indexes/base.py:3804\u001b[0m, in \u001b[0;36mIndex.get_loc\u001b[0;34m(self, key, method, tolerance)\u001b[0m\n\u001b[1;32m   3802\u001b[0m     \u001b[38;5;28;01mreturn\u001b[39;00m \u001b[38;5;28mself\u001b[39m\u001b[38;5;241m.\u001b[39m_engine\u001b[38;5;241m.\u001b[39mget_loc(casted_key)\n\u001b[1;32m   3803\u001b[0m \u001b[38;5;28;01mexcept\u001b[39;00m \u001b[38;5;167;01mKeyError\u001b[39;00m \u001b[38;5;28;01mas\u001b[39;00m err:\n\u001b[0;32m-> 3804\u001b[0m     \u001b[38;5;28;01mraise\u001b[39;00m \u001b[38;5;167;01mKeyError\u001b[39;00m(key) \u001b[38;5;28;01mfrom\u001b[39;00m \u001b[38;5;21;01merr\u001b[39;00m\n\u001b[1;32m   3805\u001b[0m \u001b[38;5;28;01mexcept\u001b[39;00m \u001b[38;5;167;01mTypeError\u001b[39;00m:\n\u001b[1;32m   3806\u001b[0m     \u001b[38;5;66;03m# If we have a listlike key, _check_indexing_error will raise\u001b[39;00m\n\u001b[1;32m   3807\u001b[0m     \u001b[38;5;66;03m#  InvalidIndexError. Otherwise we fall through and re-raise\u001b[39;00m\n\u001b[1;32m   3808\u001b[0m     \u001b[38;5;66;03m#  the TypeError.\u001b[39;00m\n\u001b[1;32m   3809\u001b[0m     \u001b[38;5;28mself\u001b[39m\u001b[38;5;241m.\u001b[39m_check_indexing_error(key)\n",
      "\u001b[0;31mKeyError\u001b[0m: 'CST3'"
     ]
    },
    {
     "data": {
      "image/png": "[encoded data removed]",
      "text/plain": [
       "<Figure size 320x320 with 1 Axes>"
      ]
     },
     "metadata": {
      "image/png": {
       "height": 287,
       "width": 310
      }
     },
     "output_type": "display_data"
    }
   ],
   "source": [
    "adata_300.obsm['X_pca']=adata_300.obsm['scaled|original|X_pca']\n",
    "ov.utils.embedding(adata_300,\n",
    "                  basis='X_pca',\n",
    "                    color='CST3',\n",
    "                  frameon='small')\n",
    "# 将['scaled|original|X_pca']里面的矩阵复制到更标准的位置，即adata.obsm['X_pca']\n",
    "# obsm是\"observation by matrix\"的缩写，用于存储每个观测（在这里是单个细胞）在特定降维空间中的坐标。"
   ]
  },
  {
   "cell_type": "code",
   "execution_count": null,
   "id": "a47c7454-0c5a-444f-ba94-15b342cba8a6",
   "metadata": {},
   "outputs": [],
   "source": []
  }
 ],
 "metadata": {
  "kernelspec": {
   "display_name": "Python 3 (ipykernel)",
   "language": "python",
   "name": "python3"
  },
  "language_info": {
   "codemirror_mode": {
    "name": "ipython",
    "version": 3
   },
   "file_extension": ".py",
   "mimetype": "text/x-python",
   "name": "python",
   "nbconvert_exporter": "python",
   "pygments_lexer": "ipython3",
   "version": "3.8.10"
  }
 },
 "nbformat": 4,
 "nbformat_minor": 5
}
