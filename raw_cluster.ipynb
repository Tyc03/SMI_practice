{
 "cells": [
  {
   "cell_type": "code",
   "execution_count": 3,
   "id": "4712b4f4-339a-49fb-9c59-483a89c5850c",
   "metadata": {},
   "outputs": [],
   "source": [
    "import anndata\n",
    "import pandas as pd"
   ]
  },
  {
   "cell_type": "code",
   "execution_count": 4,
   "id": "9fd75900-ec75-4a30-b868-983f431cc955",
   "metadata": {},
   "outputs": [
    {
     "name": "stdout",
     "output_type": "stream",
     "text": [
      "total 29428040\n",
      "-rw-r--r-- 1 root        40492 Apr 15 19:53 SM.ipynb\n",
      "-rw-r--r-- 1 root         1650 Apr 16 13:51 Untitled1.ipynb\n",
      "-rw-r--r-- 1 root   2406518784 Apr 16 16:23 filtered_100adata.h5ad\n",
      "-rw-r--r-- 1 root  13245143518 Apr 15 19:55 filtered_adata.h5ad\n",
      "-rw-r--r-- 1 22954 14482560400 Apr 15 17:16 raw.cluster.h5ad\n",
      "-rw-r--r-- 1 root        17634 Apr 16 16:23 raw_cluster.ipynb\n",
      "-rw-r--r-- 1 root        17064 Apr 16 16:30 smi.ipynb\n"
     ]
    }
   ],
   "source": [
    "ll"
   ]
  },
  {
   "cell_type": "code",
   "execution_count": 5,
   "id": "eb99d9b5-e3c1-4bca-86c5-a4e82358bff6",
   "metadata": {},
   "outputs": [
    {
     "data": {
      "text/plain": [
       "'/root/notebooks'"
      ]
     },
     "execution_count": 5,
     "metadata": {},
     "output_type": "execute_result"
    }
   ],
   "source": [
    "pwd"
   ]
  },
  {
   "cell_type": "code",
   "execution_count": 6,
   "id": "5e17b10b-82f3-4294-bf51-8cf168676054",
   "metadata": {},
   "outputs": [],
   "source": [
    "adata = anndata.read(\"/root/notebooks/raw.cluster.h5ad\")"
   ]
  },
  {
   "cell_type": "code",
   "execution_count": 21,
   "id": "049249c7-027b-48a8-9925-4282f7ad9bd1",
   "metadata": {},
   "outputs": [
    {
     "name": "stdout",
     "output_type": "stream",
     "text": [
      "View of AnnData object with n_obs × n_vars = 16670 × 1000\n",
      "    obs: 'fov', 'Area', 'AspectRatio', 'Width', 'Height', 'Mean.PanCK', 'Max.PanCK', 'Mean.CD68', 'Max.CD68', 'Mean.Membrane', 'Max.Membrane', 'Mean.CD45', 'Max.CD45', 'Mean.DAPI', 'Max.DAPI', 'cell_id', 'assay_type', 'version', 'Run_Tissue_name', 'Panel', 'slide_ID_numeric', 'cell_ID', 'unassignedTranscripts', 'nCount_RNA', 'nFeature_RNA', 'nCount_negprobes', 'nFeature_negprobes', 'nCount_falsecode', 'nFeature_falsecode', 'Area.um2', 'x_FOV_px', 'y_FOV_px', 'x_slide_mm', 'y_slide_mm', 'sample', 'leiden'\n",
      "    var: 'DisplayName', 'Barcode', 'CodeClass', 'ProbeID'\n",
      "    uns: 'leiden', 'log1p', 'neighbors', 'scaled|original|cum_sum_eigenvalues', 'scaled|original|pca_var_ratios', 'umap'\n",
      "    obsm: 'X_harmony', 'X_pca', 'X_umap', 'scaled|original|X_pca', 'spatial'\n",
      "    varm: 'scaled|original|pca_loadings'\n",
      "    layers: 'counts', 'lognorm', 'scaled'\n",
      "    obsp: 'connectivities', 'distances'\n"
     ]
    }
   ],
   "source": [
    "print(adata_500up)"
   ]
  },
  {
   "cell_type": "code",
   "execution_count": 20,
   "id": "75d8f23c-514e-4d41-b969-cc9a21a3d3e0",
   "metadata": {
    "scrolled": true
   },
   "outputs": [
    {
     "name": "stdout",
     "output_type": "stream",
     "text": [
      "              fov   Area  AspectRatio  Width  Height  Mean.PanCK  Max.PanCK  \\\n",
      "c_1_101_1831  101  14879         1.57    177     113        1348       4837   \n",
      "c_1_101_2004  101  13848         0.70    118     169         830       3392   \n",
      "c_1_102_1340  102  10554         1.01    143     141         252       2559   \n",
      "c_1_102_979   102  17095         0.82    157     192        1029       5447   \n",
      "c_1_103_1019  103  15162         1.56    223     143        1598       9198   \n",
      "c_1_103_1073  103  13623         1.17    171     146         888       5857   \n",
      "c_1_103_1153  103  18253         0.79    161     204         628       2015   \n",
      "c_1_103_1331  103  14554         0.65    140     215         942       6464   \n",
      "c_1_103_1709  103  14372         1.08    147     136         728       3635   \n",
      "c_1_103_1763  103  20769         1.35    196     145         816       4805   \n",
      "\n",
      "              Mean.CD68  Max.CD68  Mean.Membrane  ...  nFeature_negprobes  \\\n",
      "c_1_101_1831        232      1839           3959  ...                 0.0   \n",
      "c_1_101_2004        218      5258           2416  ...                 0.0   \n",
      "c_1_102_1340         74       547           1747  ...                 0.0   \n",
      "c_1_102_979         155       725           4321  ...                 0.0   \n",
      "c_1_103_1019        189      4205           5189  ...                 1.0   \n",
      "c_1_103_1073        217      4148           3377  ...                 0.0   \n",
      "c_1_103_1153        258      5466           5511  ...                 0.0   \n",
      "c_1_103_1331        195      1207           6275  ...                 0.0   \n",
      "c_1_103_1709        225      5814           4286  ...                 2.0   \n",
      "c_1_103_1763        184       952           4737  ...                 0.0   \n",
      "\n",
      "              nCount_falsecode  nFeature_falsecode    Area.um2  x_FOV_px  \\\n",
      "c_1_101_1831              25.0                13.0  215.262018      2998   \n",
      "c_1_101_2004              13.0                 7.0  200.346019      3985   \n",
      "c_1_102_1340               5.0                 3.0  152.690055       747   \n",
      "c_1_102_979               24.0                 7.0  247.322010      1396   \n",
      "c_1_103_1019              33.0                12.0  219.356322      2567   \n",
      "c_1_103_1073              15.0                 7.0  197.090831      1889   \n",
      "c_1_103_1153              31.0                 6.0  264.075382      2772   \n",
      "c_1_103_1331              21.0                 9.0  210.560078      3203   \n",
      "c_1_103_1709              20.0                10.0  207.926992      1826   \n",
      "c_1_103_1763              29.0                 8.0  300.475627      1067   \n",
      "\n",
      "             y_FOV_px x_slide_mm y_slide_mm            sample leiden  \n",
      "c_1_101_1831     3360   6.605205   7.541052  PA_OXC_Diffuse_2      4  \n",
      "c_1_101_2004     3687   6.723923   7.501720  PA_OXC_Diffuse_2      2  \n",
      "c_1_102_1340     2331   6.846369   7.664821  PA_OXC_Diffuse_2      5  \n",
      "c_1_102_979      1722   6.924431   7.738072  PA_OXC_Diffuse_2      0  \n",
      "c_1_103_1019     1825   7.577196   7.725683  PA_OXC_Diffuse_2      0  \n",
      "c_1_103_1073     1917   7.495645   7.714617  PA_OXC_Diffuse_2      0  \n",
      "c_1_103_1153     2108   7.601853   7.691644  PA_OXC_Diffuse_2      0  \n",
      "c_1_103_1331     2420   7.653694   7.654116  PA_OXC_Diffuse_2      0  \n",
      "c_1_103_1709     3037   7.488068   7.579903  PA_OXC_Diffuse_2      0  \n",
      "c_1_103_1763     3124   7.396774   7.569438  PA_OXC_Diffuse_2      0  \n",
      "\n",
      "[10 rows x 36 columns]\n"
     ]
    }
   ],
   "source": [
    "print(adata_500up.obs.head(10))"
   ]
  },
  {
   "cell_type": "code",
   "execution_count": null,
   "id": "c8a9a569-89fe-469e-96be-37a751ecab6e",
   "metadata": {},
   "outputs": [],
   "source": [
    "# 如果aadata.X是一个稀疏矩阵，可能需要将其转换为密集型以便查看\n",
    "print(adata[:5, :5])  # 对于非稀疏矩阵可以直接查看\n"
   ]
  },
  {
   "cell_type": "code",
   "execution_count": null,
   "id": "f7f7f0d1-ab99-4eb2-a1e0-3d9ff240dc24",
   "metadata": {},
   "outputs": [],
   "source": [
    "## 将adata.obs里面的columns名单变成一张表\n",
    "column_name_collist = list(adata.obs.columns)\n",
    "print(column_name_collist)"
   ]
  },
  {
   "cell_type": "code",
   "execution_count": 32,
   "id": "f2fbaf93-9169-4d02-9596-ab6fbaf0774c",
   "metadata": {},
   "outputs": [],
   "source": [
    "## 过滤掉nCount_RNA中小于40的细胞\n",
    "\n",
    "if \"nCount_RNA\" in adata.obs.columns:\n",
    "    #过滤掉n_nCount_RNA中小于40的细胞\n",
    "    adata_300up = adata[adata.obs[\"nCount_RNA\"] >= 300]"
   ]
  },
  {
   "cell_type": "code",
   "execution_count": 10,
   "id": "47dbbf25-70b8-4a94-ac8b-e0b2b1be87cb",
   "metadata": {
    "editable": true,
    "scrolled": true,
    "slideshow": {
     "slide_type": ""
    },
    "tags": []
   },
   "outputs": [
    {
     "name": "stdout",
     "output_type": "stream",
     "text": [
      "              fov   Area  AspectRatio  Width  Height  Mean.PanCK  Max.PanCK  \\\n",
      "c_1_100_10    100   8983         1.31    128      98         791       3307   \n",
      "c_1_100_100   100   3384         1.31     76      58        1153       4678   \n",
      "c_1_100_1000  100   9939         0.84    118     141        1488       5512   \n",
      "c_1_100_1007  100   6369         1.00    135     135        1889       5616   \n",
      "c_1_100_1008  100   8059         0.62     94     152         969       4192   \n",
      "c_1_100_101   100   5416         1.36    106      78         928       4231   \n",
      "c_1_100_1011  100   8670         0.87    122     140        1479       4338   \n",
      "c_1_100_1012  100  10442         1.05    142     135        1321       5586   \n",
      "c_1_100_1013  100   3716         0.85     71      84         446       3232   \n",
      "c_1_100_1014  100  11881         0.62    100     162         686       4608   \n",
      "\n",
      "              Mean.CD68  Max.CD68  Mean.Membrane  ...  nFeature_negprobes  \\\n",
      "c_1_100_10          129      4591           1753  ...                 0.0   \n",
      "c_1_100_100         247      5072           2143  ...                 0.0   \n",
      "c_1_100_1000        295      5952            995  ...                 0.0   \n",
      "c_1_100_1007        292      3531           2698  ...                 0.0   \n",
      "c_1_100_1008        157      1183           2304  ...                 0.0   \n",
      "c_1_100_101         138      1107           1329  ...                 0.0   \n",
      "c_1_100_1011        287      4790           2202  ...                 0.0   \n",
      "c_1_100_1012        184      4676           1394  ...                 0.0   \n",
      "c_1_100_1013        167      6305            553  ...                 2.0   \n",
      "c_1_100_1014        137      6665            642  ...                 0.0   \n",
      "\n",
      "              nCount_falsecode  nFeature_falsecode    Area.um2  x_FOV_px  \\\n",
      "c_1_100_10                 4.0                 4.0  129.961604      1415   \n",
      "c_1_100_100                1.0                 1.0   48.958039      3479   \n",
      "c_1_100_1000               2.0                 2.0  143.792539      4158   \n",
      "c_1_100_1007               4.0                 3.0   92.143544      1251   \n",
      "c_1_100_1008               0.0                 0.0  116.593629       296   \n",
      "c_1_100_101                5.0                 3.0   78.356011       672   \n",
      "c_1_100_1011               4.0                 4.0  125.433275       692   \n",
      "c_1_100_1012               5.0                 4.0  151.069695      1275   \n",
      "c_1_100_1013               0.0                 0.0   53.761251      3530   \n",
      "c_1_100_1014               0.0                 0.0  171.888436      3047   \n",
      "\n",
      "             y_FOV_px x_slide_mm y_slide_mm    sample leiden  \n",
      "c_1_100_10         48  12.347634   6.025696  PA_OxC_1      1  \n",
      "c_1_100_100       126  12.595894   6.016314  PA_OxC_1      1  \n",
      "c_1_100_1000     1770  12.677564   5.818572  PA_OxC_1      0  \n",
      "c_1_100_1007     1779  12.327908   5.817489  PA_OxC_1      1  \n",
      "c_1_100_1008     1775  12.213039   5.817970  PA_OxC_1      1  \n",
      "c_1_100_101       138  12.258265   6.014870  PA_OxC_1      1  \n",
      "c_1_100_1011     1795  12.260671   5.815565  PA_OxC_1      1  \n",
      "c_1_100_1012     1782  12.330795   5.817128  PA_OxC_1      1  \n",
      "c_1_100_1013     1767  12.602028   5.818933  PA_OxC_1      5  \n",
      "c_1_100_1014     1797  12.543932   5.815324  PA_OxC_1      1  \n",
      "\n",
      "[10 rows x 36 columns]\n"
     ]
    }
   ],
   "source": [
    "## 查看obs里面的前10行\n",
    "print(adata_100up.obs.head(10))"
   ]
  },
  {
   "cell_type": "code",
   "execution_count": 15,
   "id": "206eb9ca-23b8-4211-a158-8b9cbb588195",
   "metadata": {},
   "outputs": [
    {
     "name": "stdout",
     "output_type": "stream",
     "text": [
      "[202. 258. 252. ... 455. 439. 586.]\n"
     ]
    }
   ],
   "source": [
    "## 例名是否正确且输出nCount_RNA的值\n",
    "if \"nCount_RNA\" in adata_200up.obs.columns:\n",
    "    print(adata_200up.obs[\"nCount_RNA\"].values)\n",
    "else:\n",
    "    print(\"‘nCount_RNA不在obs中，请检查例名是否正确’\")"
   ]
  },
  {
   "cell_type": "code",
   "execution_count": null,
   "id": "dc8f255d-26c0-4639-a4ef-206e68ac6ab6",
   "metadata": {},
   "outputs": [],
   "source": [
    "#temp = list(adata_40up.obs[\"nCount_RNA\"].values)\n",
    "#print(temp)\n"
   ]
  },
  {
   "cell_type": "code",
   "execution_count": 33,
   "id": "ea92602b-9946-4502-b389-051a6f9fb74e",
   "metadata": {},
   "outputs": [],
   "source": [
    "import anndata\n",
    "adata_300up.write(\"filtered_300adata.h5ad\")"
   ]
  },
  {
   "cell_type": "code",
   "execution_count": null,
   "id": "5623fd3b-b3b3-472b-a6ba-0be7f8ca63c6",
   "metadata": {},
   "outputs": [],
   "source": [
    "expression_matrix = adata_40up.X"
   ]
  },
  {
   "cell_type": "code",
   "execution_count": null,
   "id": "3822d934-8a9c-4c3b-8062-972ecd266ffb",
   "metadata": {},
   "outputs": [],
   "source": [
    "print(expression_matrix)"
   ]
  },
  {
   "cell_type": "code",
   "execution_count": null,
   "id": "9ebb14a8-664f-4f86-acb2-d152450ff697",
   "metadata": {},
   "outputs": [],
   "source": []
  }
 ],
 "metadata": {
  "kernelspec": {
   "display_name": "Python 3 (ipykernel)",
   "language": "python",
   "name": "python3"
  },
  "language_info": {
   "codemirror_mode": {
    "name": "ipython",
    "version": 3
   },
   "file_extension": ".py",
   "mimetype": "text/x-python",
   "name": "python",
   "nbconvert_exporter": "python",
   "pygments_lexer": "ipython3",
   "version": "3.8.10"
  }
 },
 "nbformat": 4,
 "nbformat_minor": 5
}
